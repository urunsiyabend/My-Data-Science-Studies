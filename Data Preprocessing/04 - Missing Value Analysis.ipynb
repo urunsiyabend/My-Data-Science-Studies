{
 "cells": [
  {
   "cell_type": "markdown",
   "id": "4a679eee-3abc-4f38-afd6-583ec0f3c653",
   "metadata": {},
   "source": [
    "# Missing Value Analysis"
   ]
  },
  {
   "cell_type": "markdown",
   "id": "7ded63ec-0c2a-4bb2-9821-0fb8349e87fa",
   "metadata": {},
   "source": [
    "## Types of Missing Value"
   ]
  },
  {
   "cell_type": "markdown",
   "id": "88dffacb-897a-482c-b5e9-1312f8d742b5",
   "metadata": {},
   "source": [
    "#### 1) Missing Completely at Random"
   ]
  },
  {
   "cell_type": "markdown",
   "id": "f1112360-9429-4457-b5dc-7853dfadcffd",
   "metadata": {},
   "source": [
    "#### 2) Missing at Random"
   ]
  },
  {
   "cell_type": "markdown",
   "id": "abb9ce95-9fc6-4fe2-9088-8550d3bd21b7",
   "metadata": {},
   "source": [
    "#### 3) Missing at not Random"
   ]
  },
  {
   "cell_type": "markdown",
   "id": "677eb4b0-1d2d-495d-a860-fccd4b8e93b7",
   "metadata": {},
   "source": [
    "#### 4) Structurally Missing "
   ]
  },
  {
   "cell_type": "markdown",
   "id": "9c70979d-fac0-4284-9f81-b817c5a09fa9",
   "metadata": {},
   "source": [
    "## Test of Missing Value Randomness"
   ]
  },
  {
   "cell_type": "markdown",
   "id": "53b17c43-d357-430f-a9b0-3a4ffd68e918",
   "metadata": {},
   "source": [
    "* #### Visualization Techniques"
   ]
  },
  {
   "cell_type": "markdown",
   "id": "4ace550a-eedc-4002-889b-0e3b4f26c3cd",
   "metadata": {},
   "source": [
    "* #### Independent Two Sample T Test"
   ]
  },
  {
   "cell_type": "markdown",
   "id": "7aad7835-1266-4d30-8ae8-2047fca39f6d",
   "metadata": {},
   "source": [
    "* #### Correlation Test"
   ]
  },
  {
   "cell_type": "markdown",
   "id": "ad52b5b3-70d2-4bd7-95e1-c1c4b87cd1f0",
   "metadata": {},
   "source": [
    "* #### Little's MCAR Test"
   ]
  },
  {
   "cell_type": "markdown",
   "id": "de8ae23d-7104-4e13-baaf-c288298b9342",
   "metadata": {},
   "source": [
    "## Cleaning Methods"
   ]
  },
  {
   "cell_type": "markdown",
   "id": "8de86c2d-a210-4005-9936-fccc4e7e78a3",
   "metadata": {},
   "source": [
    "* #### Method of removing variable or observation"
   ]
  },
  {
   "cell_type": "markdown",
   "id": "cfc600d9-feda-4fd9-8265-c41d7f57db68",
   "metadata": {},
   "source": [
    "* #### Listwise Method"
   ]
  },
  {
   "cell_type": "markdown",
   "id": "d50ac7b9-834c-4a34-a2d4-70ad9e3ebb68",
   "metadata": {},
   "source": [
    "* #### Pairwise Method"
   ]
  },
  {
   "cell_type": "markdown",
   "id": "91dcf240-1846-44ef-a077-c7c0513e9947",
   "metadata": {},
   "source": [
    "## Assignment Methods"
   ]
  },
  {
   "cell_type": "markdown",
   "id": "f85c2ae2-fdd6-4504-9be4-e57fbb1419ef",
   "metadata": {},
   "source": [
    "* #### Mean, Median"
   ]
  },
  {
   "cell_type": "markdown",
   "id": "feb001e1-89e8-4dec-a999-40c1c1a7f9f5",
   "metadata": {},
   "source": [
    "* #### Hot Deck"
   ]
  },
  {
   "cell_type": "markdown",
   "id": "a2962e92-cccb-4460-a697-e9059c12dd35",
   "metadata": {},
   "source": [
    "* #### External Assignment "
   ]
  },
  {
   "cell_type": "markdown",
   "id": "f5dcd4e5-cb8f-46d5-903a-9e048e22bbfc",
   "metadata": {},
   "source": [
    "## Predictive Methods"
   ]
  },
  {
   "cell_type": "markdown",
   "id": "e9e83ee3-0dc6-4d2c-a0a6-12caabe1395b",
   "metadata": {},
   "source": [
    "* #### Machine Learning"
   ]
  },
  {
   "cell_type": "markdown",
   "id": "f7928468-30fc-4d2f-8d6e-092feb1fca65",
   "metadata": {},
   "source": [
    "* #### EM"
   ]
  },
  {
   "cell_type": "markdown",
   "id": "9814c0ef-0a21-4d25-a394-d5e5c9f057e0",
   "metadata": {},
   "source": [
    "* #### Multiple Assignment"
   ]
  },
  {
   "cell_type": "markdown",
   "id": "9cf3b44d-b953-4258-bdde-fe0996d80b34",
   "metadata": {},
   "source": [
    "## Quick Solve"
   ]
  },
  {
   "cell_type": "code",
   "execution_count": 10,
   "id": "7778a13f-5c0d-4d97-85e8-6dac309d8cf3",
   "metadata": {},
   "outputs": [
    {
     "data": {
      "text/html": [
       "<div>\n",
       "<style scoped>\n",
       "    .dataframe tbody tr th:only-of-type {\n",
       "        vertical-align: middle;\n",
       "    }\n",
       "\n",
       "    .dataframe tbody tr th {\n",
       "        vertical-align: top;\n",
       "    }\n",
       "\n",
       "    .dataframe thead th {\n",
       "        text-align: right;\n",
       "    }\n",
       "</style>\n",
       "<table border=\"1\" class=\"dataframe\">\n",
       "  <thead>\n",
       "    <tr style=\"text-align: right;\">\n",
       "      <th></th>\n",
       "      <th>V1</th>\n",
       "      <th>V2</th>\n",
       "      <th>V3</th>\n",
       "    </tr>\n",
       "  </thead>\n",
       "  <tbody>\n",
       "    <tr>\n",
       "      <th>0</th>\n",
       "      <td>1.0</td>\n",
       "      <td>7.0</td>\n",
       "      <td>NaN</td>\n",
       "    </tr>\n",
       "    <tr>\n",
       "      <th>1</th>\n",
       "      <td>3.0</td>\n",
       "      <td>NaN</td>\n",
       "      <td>12.0</td>\n",
       "    </tr>\n",
       "    <tr>\n",
       "      <th>2</th>\n",
       "      <td>6.0</td>\n",
       "      <td>5.0</td>\n",
       "      <td>5.0</td>\n",
       "    </tr>\n",
       "    <tr>\n",
       "      <th>3</th>\n",
       "      <td>NaN</td>\n",
       "      <td>8.0</td>\n",
       "      <td>6.0</td>\n",
       "    </tr>\n",
       "    <tr>\n",
       "      <th>4</th>\n",
       "      <td>7.0</td>\n",
       "      <td>12.0</td>\n",
       "      <td>14.0</td>\n",
       "    </tr>\n",
       "  </tbody>\n",
       "</table>\n",
       "</div>"
      ],
      "text/plain": [
       "    V1    V2    V3\n",
       "0  1.0   7.0   NaN\n",
       "1  3.0   NaN  12.0\n",
       "2  6.0   5.0   5.0\n",
       "3  NaN   8.0   6.0\n",
       "4  7.0  12.0  14.0"
      ]
     },
     "execution_count": 10,
     "metadata": {},
     "output_type": "execute_result"
    }
   ],
   "source": [
    "import numpy as np\n",
    "import pandas as pd\n",
    "v1 = np.array([1, 3, 6, np.NAN, 7, 1, np.NAN, 9, 15])\n",
    "v2 = np.array([7, np.NAN, 5, 8, 12, np.NAN, np.NAN, 2, 3])\n",
    "v3 = np.array([np.NAN, 12, 5, 6, 14, 7, np.NAN, 2, 31])\n",
    "df = pd.DataFrame({\n",
    "    \"V1\": v1,\n",
    "    \"V2\": v2,\n",
    "    \"V3\": v3,\n",
    "})\n",
    "df.head()"
   ]
  },
  {
   "cell_type": "code",
   "execution_count": 13,
   "id": "c4bef2c4-9f77-4f60-917d-39626aacee4b",
   "metadata": {},
   "outputs": [
    {
     "data": {
      "text/plain": [
       "7"
      ]
     },
     "execution_count": 13,
     "metadata": {},
     "output_type": "execute_result"
    }
   ],
   "source": [
    "df.isnull().sum().sum()"
   ]
  },
  {
   "cell_type": "code",
   "execution_count": 23,
   "id": "25d79ec5-a2be-4130-b45e-5ed790f70f93",
   "metadata": {},
   "outputs": [
    {
     "data": {
      "text/html": [
       "<div>\n",
       "<style scoped>\n",
       "    .dataframe tbody tr th:only-of-type {\n",
       "        vertical-align: middle;\n",
       "    }\n",
       "\n",
       "    .dataframe tbody tr th {\n",
       "        vertical-align: top;\n",
       "    }\n",
       "\n",
       "    .dataframe thead th {\n",
       "        text-align: right;\n",
       "    }\n",
       "</style>\n",
       "<table border=\"1\" class=\"dataframe\">\n",
       "  <thead>\n",
       "    <tr style=\"text-align: right;\">\n",
       "      <th></th>\n",
       "      <th>V1</th>\n",
       "      <th>V2</th>\n",
       "      <th>V3</th>\n",
       "    </tr>\n",
       "  </thead>\n",
       "  <tbody>\n",
       "    <tr>\n",
       "      <th>0</th>\n",
       "      <td>1.0</td>\n",
       "      <td>7.0</td>\n",
       "      <td>NaN</td>\n",
       "    </tr>\n",
       "    <tr>\n",
       "      <th>1</th>\n",
       "      <td>3.0</td>\n",
       "      <td>NaN</td>\n",
       "      <td>12.0</td>\n",
       "    </tr>\n",
       "    <tr>\n",
       "      <th>3</th>\n",
       "      <td>NaN</td>\n",
       "      <td>8.0</td>\n",
       "      <td>6.0</td>\n",
       "    </tr>\n",
       "    <tr>\n",
       "      <th>5</th>\n",
       "      <td>1.0</td>\n",
       "      <td>NaN</td>\n",
       "      <td>7.0</td>\n",
       "    </tr>\n",
       "    <tr>\n",
       "      <th>6</th>\n",
       "      <td>NaN</td>\n",
       "      <td>NaN</td>\n",
       "      <td>NaN</td>\n",
       "    </tr>\n",
       "  </tbody>\n",
       "</table>\n",
       "</div>"
      ],
      "text/plain": [
       "    V1   V2    V3\n",
       "0  1.0  7.0   NaN\n",
       "1  3.0  NaN  12.0\n",
       "3  NaN  8.0   6.0\n",
       "5  1.0  NaN   7.0\n",
       "6  NaN  NaN   NaN"
      ]
     },
     "execution_count": 23,
     "metadata": {},
     "output_type": "execute_result"
    }
   ],
   "source": [
    "df[df.isnull().any(axis=1)]"
   ]
  },
  {
   "cell_type": "code",
   "execution_count": 24,
   "id": "b36d61be-eac4-4bcf-abc6-421dd4fb582f",
   "metadata": {},
   "outputs": [
    {
     "data": {
      "text/html": [
       "<div>\n",
       "<style scoped>\n",
       "    .dataframe tbody tr th:only-of-type {\n",
       "        vertical-align: middle;\n",
       "    }\n",
       "\n",
       "    .dataframe tbody tr th {\n",
       "        vertical-align: top;\n",
       "    }\n",
       "\n",
       "    .dataframe thead th {\n",
       "        text-align: right;\n",
       "    }\n",
       "</style>\n",
       "<table border=\"1\" class=\"dataframe\">\n",
       "  <thead>\n",
       "    <tr style=\"text-align: right;\">\n",
       "      <th></th>\n",
       "      <th>V1</th>\n",
       "      <th>V2</th>\n",
       "      <th>V3</th>\n",
       "    </tr>\n",
       "  </thead>\n",
       "  <tbody>\n",
       "    <tr>\n",
       "      <th>2</th>\n",
       "      <td>6.0</td>\n",
       "      <td>5.0</td>\n",
       "      <td>5.0</td>\n",
       "    </tr>\n",
       "    <tr>\n",
       "      <th>4</th>\n",
       "      <td>7.0</td>\n",
       "      <td>12.0</td>\n",
       "      <td>14.0</td>\n",
       "    </tr>\n",
       "    <tr>\n",
       "      <th>7</th>\n",
       "      <td>9.0</td>\n",
       "      <td>2.0</td>\n",
       "      <td>2.0</td>\n",
       "    </tr>\n",
       "    <tr>\n",
       "      <th>8</th>\n",
       "      <td>15.0</td>\n",
       "      <td>3.0</td>\n",
       "      <td>31.0</td>\n",
       "    </tr>\n",
       "  </tbody>\n",
       "</table>\n",
       "</div>"
      ],
      "text/plain": [
       "     V1    V2    V3\n",
       "2   6.0   5.0   5.0\n",
       "4   7.0  12.0  14.0\n",
       "7   9.0   2.0   2.0\n",
       "8  15.0   3.0  31.0"
      ]
     },
     "execution_count": 24,
     "metadata": {},
     "output_type": "execute_result"
    }
   ],
   "source": [
    "df[df.notnull().all(axis=1)]"
   ]
  },
  {
   "cell_type": "markdown",
   "id": "42eca528-a173-404a-bd83-9b8c57498076",
   "metadata": {},
   "source": [
    "#### Removing Missing Values"
   ]
  },
  {
   "cell_type": "code",
   "execution_count": null,
   "id": "5022b848-b189-4450-b1b7-2cd5aaef650d",
   "metadata": {},
   "outputs": [
    {
     "data": {
      "text/html": [
       "<div>\n",
       "<style scoped>\n",
       "    .dataframe tbody tr th:only-of-type {\n",
       "        vertical-align: middle;\n",
       "    }\n",
       "\n",
       "    .dataframe tbody tr th {\n",
       "        vertical-align: top;\n",
       "    }\n",
       "\n",
       "    .dataframe thead th {\n",
       "        text-align: right;\n",
       "    }\n",
       "</style>\n",
       "<table border=\"1\" class=\"dataframe\">\n",
       "  <thead>\n",
       "    <tr style=\"text-align: right;\">\n",
       "      <th></th>\n",
       "      <th>V1</th>\n",
       "      <th>V2</th>\n",
       "      <th>V3</th>\n",
       "    </tr>\n",
       "  </thead>\n",
       "  <tbody>\n",
       "    <tr>\n",
       "      <th>2</th>\n",
       "      <td>6.0</td>\n",
       "      <td>5.0</td>\n",
       "      <td>5.0</td>\n",
       "    </tr>\n",
       "    <tr>\n",
       "      <th>4</th>\n",
       "      <td>7.0</td>\n",
       "      <td>12.0</td>\n",
       "      <td>14.0</td>\n",
       "    </tr>\n",
       "    <tr>\n",
       "      <th>7</th>\n",
       "      <td>9.0</td>\n",
       "      <td>2.0</td>\n",
       "      <td>2.0</td>\n",
       "    </tr>\n",
       "    <tr>\n",
       "      <th>8</th>\n",
       "      <td>15.0</td>\n",
       "      <td>3.0</td>\n",
       "      <td>31.0</td>\n",
       "    </tr>\n",
       "  </tbody>\n",
       "</table>\n",
       "</div>"
      ],
      "text/plain": [
       "     V1    V2    V3\n",
       "2   6.0   5.0   5.0\n",
       "4   7.0  12.0  14.0\n",
       "7   9.0   2.0   2.0\n",
       "8  15.0   3.0  31.0"
      ]
     },
     "execution_count": 28,
     "metadata": {},
     "output_type": "execute_result"
    }
   ],
   "source": [
    "df.dropna()"
   ]
  },
  {
   "cell_type": "markdown",
   "id": "302a4e0a-84d6-4f2d-8d61-3b08ae14e39b",
   "metadata": {},
   "source": [
    "#### Basic Value Assignment"
   ]
  },
  {
   "cell_type": "markdown",
   "id": "256a67cb-3fc9-469a-bffd-f7b88bf0ba97",
   "metadata": {},
   "source": [
    "#### "
   ]
  }
 ],
 "metadata": {
  "kernelspec": {
   "display_name": "Python 3 (ipykernel)",
   "language": "python",
   "name": "python3"
  },
  "language_info": {
   "codemirror_mode": {
    "name": "ipython",
    "version": 3
   },
   "file_extension": ".py",
   "mimetype": "text/x-python",
   "name": "python",
   "nbconvert_exporter": "python",
   "pygments_lexer": "ipython3",
   "version": "3.9.7"
  }
 },
 "nbformat": 4,
 "nbformat_minor": 5
}
