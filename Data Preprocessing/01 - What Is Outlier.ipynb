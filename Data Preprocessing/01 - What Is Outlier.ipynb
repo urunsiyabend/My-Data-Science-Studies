{
 "cells": [
  {
   "cell_type": "markdown",
   "id": "32f6dada-5761-41fb-b494-02d61d21f24e",
   "metadata": {},
   "source": [
    "# What Is Outlier"
   ]
  },
  {
   "cell_type": "markdown",
   "id": "4dbca153-c0b9-442e-8445-3868cd25d89d",
   "metadata": {},
   "source": [
    "#### Outlier is a numerical value of inconsistency. An observation with an outlier is called an outlier observation."
   ]
  },
  {
   "cell_type": "markdown",
   "id": "80bc101d-3d50-4c88-a627-ab509a125371",
   "metadata": {},
   "source": [
    "#### Outlier observation analysis almost most serious problem of data preprocessing."
   ]
  },
  {
   "cell_type": "markdown",
   "id": "1ab3a70d-c329-4d31-bffa-4290e221ba14",
   "metadata": {},
   "source": [
    "#### Outliers cause errors on generalizable functions and rulesets."
   ]
  }
 ],
 "metadata": {
  "kernelspec": {
   "display_name": "Python 3 (ipykernel)",
   "language": "python",
   "name": "python3"
  },
  "language_info": {
   "codemirror_mode": {
    "name": "ipython",
    "version": 3
   },
   "file_extension": ".py",
   "mimetype": "text/x-python",
   "name": "python",
   "nbconvert_exporter": "python",
   "pygments_lexer": "ipython3",
   "version": "3.9.7"
  }
 },
 "nbformat": 4,
 "nbformat_minor": 5
}
