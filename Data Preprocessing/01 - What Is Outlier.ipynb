{
 "cells": [
  {
   "cell_type": "markdown",
   "id": "32f6dada-5761-41fb-b494-02d61d21f24e",
   "metadata": {},
   "source": [
    "# What Is Outlier"
   ]
  },
  {
   "cell_type": "markdown",
   "id": "ba80cc9a-5475-4ee9-83a2-61c9122958a6",
   "metadata": {},
   "source": [
    "### Outlier is a numerical value of inconsistency."
   ]
  },
  {
   "cell_type": "markdown",
   "id": "d6f67c1a-a671-48fe-94cb-9ec8c37760dd",
   "metadata": {},
   "source": [
    "### An observation with an outlier is called an outlier observation."
   ]
  }
 ],
 "metadata": {
  "kernelspec": {
   "display_name": "Python 3 (ipykernel)",
   "language": "python",
   "name": "python3"
  },
  "language_info": {
   "codemirror_mode": {
    "name": "ipython",
    "version": 3
   },
   "file_extension": ".py",
   "mimetype": "text/x-python",
   "name": "python",
   "nbconvert_exporter": "python",
   "pygments_lexer": "ipython3",
   "version": "3.9.7"
  }
 },
 "nbformat": 4,
 "nbformat_minor": 5
}
