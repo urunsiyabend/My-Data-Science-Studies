{
 "cells": [
  {
   "cell_type": "markdown",
   "id": "9b3c948f-da12-4a71-a232-c3463bc1c8a1",
   "metadata": {},
   "source": [
    "# Getting Elements with Fancy Index"
   ]
  },
  {
   "cell_type": "code",
   "execution_count": 27,
   "id": "76eab321-4ae8-4862-b3af-275b9efb3103",
   "metadata": {},
   "outputs": [],
   "source": [
    "import numpy as np"
   ]
  },
  {
   "cell_type": "code",
   "execution_count": 28,
   "id": "921c9160-b6ba-4ee1-ab5e-4e2ec4984e54",
   "metadata": {},
   "outputs": [
    {
     "data": {
      "text/plain": [
       "array([ 0,  3,  6,  9, 12, 15, 18, 21, 24, 27])"
      ]
     },
     "execution_count": 28,
     "metadata": {},
     "output_type": "execute_result"
    }
   ],
   "source": [
    "v = np.arange(0, 30, 3)\n",
    "v"
   ]
  },
  {
   "cell_type": "code",
   "execution_count": 29,
   "id": "fdc2d180-65f8-4810-9fbc-7a96c1ea1190",
   "metadata": {},
   "outputs": [],
   "source": [
    "indexes = [1, 3, 5]"
   ]
  },
  {
   "cell_type": "code",
   "execution_count": 30,
   "id": "ba5d217d-5efb-4098-bba3-2c163050ba5d",
   "metadata": {},
   "outputs": [
    {
     "data": {
      "text/plain": [
       "array([ 3,  9, 15])"
      ]
     },
     "execution_count": 30,
     "metadata": {},
     "output_type": "execute_result"
    }
   ],
   "source": [
    "v[indexes]"
   ]
  },
  {
   "cell_type": "markdown",
   "id": "c48d1e01-020d-4be2-a1d4-4beb5860075a",
   "metadata": {},
   "source": [
    "### Using Fancy Indexes in Two Dimensional Matrices"
   ]
  },
  {
   "cell_type": "code",
   "execution_count": 31,
   "id": "df3d3115-0aad-4f14-82f4-efa3929db9b4",
   "metadata": {},
   "outputs": [
    {
     "data": {
      "text/plain": [
       "array([[ 0,  1,  2,  3,  4,  5],\n",
       "       [ 6,  7,  8,  9, 10, 11],\n",
       "       [12, 13, 14, 15, 16, 17],\n",
       "       [18, 19, 20, 21, 22, 23],\n",
       "       [24, 25, 26, 27, 28, 29]])"
      ]
     },
     "execution_count": 31,
     "metadata": {},
     "output_type": "execute_result"
    }
   ],
   "source": [
    "m = np.arange(0, 30).reshape(5, 6)\n",
    "m"
   ]
  },
  {
   "cell_type": "code",
   "execution_count": 32,
   "id": "960d2935-a378-452b-9c30-0225147b8567",
   "metadata": {},
   "outputs": [],
   "source": [
    "rows = np.array([0, 1])\n",
    "columns = np.array([2, 4])"
   ]
  },
  {
   "cell_type": "code",
   "execution_count": 33,
   "id": "f5732ceb-75ad-4107-bde3-6ed30c7057b8",
   "metadata": {},
   "outputs": [
    {
     "data": {
      "text/plain": [
       "array([ 2, 10])"
      ]
     },
     "execution_count": 33,
     "metadata": {},
     "output_type": "execute_result"
    }
   ],
   "source": [
    "m[rows, columns]"
   ]
  },
  {
   "cell_type": "markdown",
   "id": "98696851-ac8b-4537-b542-f8d556c050d4",
   "metadata": {},
   "source": [
    "### Basic Index and Fancy Index"
   ]
  },
  {
   "cell_type": "code",
   "execution_count": 34,
   "id": "62043ed9-7c77-40cf-b8de-3a509aeabfab",
   "metadata": {},
   "outputs": [
    {
     "data": {
      "text/plain": [
       "array([[ 0,  1,  2,  3,  4,  5],\n",
       "       [ 6,  7,  8,  9, 10, 11],\n",
       "       [12, 13, 14, 15, 16, 17],\n",
       "       [18, 19, 20, 21, 22, 23],\n",
       "       [24, 25, 26, 27, 28, 29]])"
      ]
     },
     "execution_count": 34,
     "metadata": {},
     "output_type": "execute_result"
    }
   ],
   "source": [
    "m"
   ]
  },
  {
   "cell_type": "code",
   "execution_count": 35,
   "id": "6ac76da6-6ee0-47be-97fb-c51b64c89ff8",
   "metadata": {},
   "outputs": [
    {
     "data": {
      "text/plain": [
       "array([1, 2])"
      ]
     },
     "execution_count": 35,
     "metadata": {},
     "output_type": "execute_result"
    }
   ],
   "source": [
    "m[0, [1, 2]]"
   ]
  },
  {
   "cell_type": "markdown",
   "id": "9dec0087-686d-4b39-b9cd-25b4548267a5",
   "metadata": {},
   "source": [
    "### Fancy Indexes with Slice Operations"
   ]
  },
  {
   "cell_type": "code",
   "execution_count": 36,
   "id": "02412e89-a6bb-436d-9c7f-3ab702cb998b",
   "metadata": {},
   "outputs": [
    {
     "data": {
      "text/plain": [
       "array([[ 1,  3],\n",
       "       [ 7,  9],\n",
       "       [13, 15],\n",
       "       [19, 21],\n",
       "       [25, 27]])"
      ]
     },
     "execution_count": 36,
     "metadata": {},
     "output_type": "execute_result"
    }
   ],
   "source": [
    "m[:, [1, 3]]"
   ]
  },
  {
   "cell_type": "code",
   "execution_count": 37,
   "id": "3cfc5090-111b-44dc-8d0f-9d2febaa045f",
   "metadata": {},
   "outputs": [
    {
     "data": {
      "text/plain": [
       "array([[ 1,  2],\n",
       "       [ 7,  8],\n",
       "       [13, 14],\n",
       "       [19, 20],\n",
       "       [25, 26]])"
      ]
     },
     "execution_count": 37,
     "metadata": {},
     "output_type": "execute_result"
    }
   ],
   "source": [
    "m[:, 1:3]"
   ]
  }
 ],
 "metadata": {
  "kernelspec": {
   "display_name": "Python 3 (ipykernel)",
   "language": "python",
   "name": "python3"
  },
  "language_info": {
   "codemirror_mode": {
    "name": "ipython",
    "version": 3
   },
   "file_extension": ".py",
   "mimetype": "text/x-python",
   "name": "python",
   "nbconvert_exporter": "python",
   "pygments_lexer": "ipython3",
   "version": "3.9.7"
  }
 },
 "nbformat": 4,
 "nbformat_minor": 5
}
