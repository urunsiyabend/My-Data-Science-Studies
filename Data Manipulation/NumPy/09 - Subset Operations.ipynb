{
 "cells": [
  {
   "cell_type": "markdown",
   "id": "8a86c4b7-278f-4917-aac4-78e1fa17932f",
   "metadata": {},
   "source": [
    "# Slice Operations"
   ]
  },
  {
   "cell_type": "code",
   "execution_count": 2,
   "id": "2699906a-035c-4bc6-b11e-ece5e078d343",
   "metadata": {},
   "outputs": [],
   "source": [
    "import numpy as np"
   ]
  },
  {
   "cell_type": "code",
   "execution_count": 3,
   "id": "9af365a3-7401-413d-a0db-525dac3404de",
   "metadata": {},
   "outputs": [],
   "source": [
    "a = np.arange(20,30) "
   ]
  },
  {
   "cell_type": "code",
   "execution_count": 4,
   "id": "90919f96-6d50-4d79-bea9-7ebfd4c8e3f3",
   "metadata": {},
   "outputs": [
    {
     "data": {
      "text/plain": [
       "array([20, 21, 22, 23, 24, 25, 26, 27, 28, 29])"
      ]
     },
     "execution_count": 4,
     "metadata": {},
     "output_type": "execute_result"
    }
   ],
   "source": [
    "a"
   ]
  },
  {
   "cell_type": "code",
   "execution_count": 5,
   "id": "3623b651-a80d-4836-992c-a33c448b3fb8",
   "metadata": {},
   "outputs": [
    {
     "data": {
      "text/plain": [
       "array([20, 21, 22])"
      ]
     },
     "execution_count": 5,
     "metadata": {},
     "output_type": "execute_result"
    }
   ],
   "source": [
    "a[0:3]"
   ]
  },
  {
   "cell_type": "code",
   "execution_count": 6,
   "id": "8210b51a-ef99-4b1b-a337-79819b5bbcf7",
   "metadata": {},
   "outputs": [
    {
     "data": {
      "text/plain": [
       "array([20, 21, 22])"
      ]
     },
     "execution_count": 6,
     "metadata": {},
     "output_type": "execute_result"
    }
   ],
   "source": [
    "a[:3]"
   ]
  },
  {
   "cell_type": "code",
   "execution_count": 7,
   "id": "d397854e-602f-4e67-a7bb-3a04431f08d5",
   "metadata": {},
   "outputs": [
    {
     "data": {
      "text/plain": [
       "array([23, 24, 25, 26, 27, 28, 29])"
      ]
     },
     "execution_count": 7,
     "metadata": {},
     "output_type": "execute_result"
    }
   ],
   "source": [
    "a[3:]"
   ]
  },
  {
   "cell_type": "code",
   "execution_count": 8,
   "id": "6c7fe485-6bfc-4e03-892e-adfebc211d6d",
   "metadata": {},
   "outputs": [
    {
     "data": {
      "text/plain": [
       "array([20, 22, 24, 26, 28])"
      ]
     },
     "execution_count": 8,
     "metadata": {},
     "output_type": "execute_result"
    }
   ],
   "source": [
    "a[::2]"
   ]
  },
  {
   "cell_type": "markdown",
   "id": "9a1093c7-1da1-4b96-82e3-45fad92757b1",
   "metadata": {},
   "source": [
    "### Two Dimensional Slice Operations"
   ]
  },
  {
   "cell_type": "code",
   "execution_count": 9,
   "id": "46d315c7-de54-452b-ab9c-6b1e6a7c3d69",
   "metadata": {},
   "outputs": [],
   "source": [
    "m = np.random.randint(10, size=(5, 5))"
   ]
  },
  {
   "cell_type": "code",
   "execution_count": 10,
   "id": "f5fe5c1c-2de4-4711-b170-f5ba6b342eaa",
   "metadata": {},
   "outputs": [
    {
     "data": {
      "text/plain": [
       "array([[3, 7, 8, 0, 3],\n",
       "       [6, 0, 2, 3, 9],\n",
       "       [5, 5, 0, 9, 1],\n",
       "       [4, 0, 2, 9, 0],\n",
       "       [5, 8, 7, 6, 4]])"
      ]
     },
     "execution_count": 10,
     "metadata": {},
     "output_type": "execute_result"
    }
   ],
   "source": [
    "m"
   ]
  },
  {
   "cell_type": "code",
   "execution_count": 11,
   "id": "c26bfa16-b85b-40ea-8611-4690e6767ceb",
   "metadata": {},
   "outputs": [
    {
     "data": {
      "text/plain": [
       "array([3, 6, 5, 4, 5])"
      ]
     },
     "execution_count": 11,
     "metadata": {},
     "output_type": "execute_result"
    }
   ],
   "source": [
    "m[:,0]"
   ]
  },
  {
   "cell_type": "code",
   "execution_count": 12,
   "id": "5668b98e-bc58-4d38-9a6b-246d04718acd",
   "metadata": {},
   "outputs": [
    {
     "data": {
      "text/plain": [
       "array([3, 7, 8, 0, 3])"
      ]
     },
     "execution_count": 12,
     "metadata": {},
     "output_type": "execute_result"
    }
   ],
   "source": [
    "m[0,:]"
   ]
  },
  {
   "cell_type": "code",
   "execution_count": 13,
   "id": "42d8471d-403c-43dc-b3cb-12f85bb94c2b",
   "metadata": {},
   "outputs": [
    {
     "data": {
      "text/plain": [
       "array([[3, 7, 8],\n",
       "       [6, 0, 2]])"
      ]
     },
     "execution_count": 13,
     "metadata": {},
     "output_type": "execute_result"
    }
   ],
   "source": [
    "m[:2,:3]"
   ]
  }
 ],
 "metadata": {
  "kernelspec": {
   "display_name": "Python 3 (ipykernel)",
   "language": "python",
   "name": "python3"
  },
  "language_info": {
   "codemirror_mode": {
    "name": "ipython",
    "version": 3
   },
   "file_extension": ".py",
   "mimetype": "text/x-python",
   "name": "python",
   "nbconvert_exporter": "python",
   "pygments_lexer": "ipython3",
   "version": "3.9.7"
  }
 },
 "nbformat": 4,
 "nbformat_minor": 5
}
