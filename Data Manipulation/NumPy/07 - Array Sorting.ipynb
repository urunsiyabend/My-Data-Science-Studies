{
 "cells": [
  {
   "cell_type": "markdown",
   "id": "13c5f2d5-4a5e-418b-b06d-1dd63a20893a",
   "metadata": {},
   "source": [
    "# Sorting NumPy Arrays"
   ]
  },
  {
   "cell_type": "code",
   "execution_count": 1,
   "id": "e1940b23-6463-4cdc-9345-1fd06e72677d",
   "metadata": {},
   "outputs": [],
   "source": [
    "import numpy as np"
   ]
  },
  {
   "cell_type": "code",
   "execution_count": 2,
   "id": "275ccee6-d339-49ae-a540-a08230aebc6f",
   "metadata": {},
   "outputs": [],
   "source": [
    "v = np.arange(1,6)\n",
    "np.random.shuffle(v)"
   ]
  },
  {
   "cell_type": "code",
   "execution_count": 3,
   "id": "54293172-2360-487a-aadc-959912325700",
   "metadata": {},
   "outputs": [
    {
     "data": {
      "text/plain": [
       "array([2, 1, 3, 4, 5])"
      ]
     },
     "execution_count": 3,
     "metadata": {},
     "output_type": "execute_result"
    }
   ],
   "source": [
    "v"
   ]
  },
  {
   "cell_type": "code",
   "execution_count": 4,
   "id": "37b42516-d01a-460d-99c8-d0690ba6a687",
   "metadata": {},
   "outputs": [],
   "source": [
    "v.sort()"
   ]
  },
  {
   "cell_type": "code",
   "execution_count": 5,
   "id": "24c72dcd-29ea-4b3b-99e3-c18a6f48bac8",
   "metadata": {},
   "outputs": [
    {
     "data": {
      "text/plain": [
       "array([1, 2, 3, 4, 5])"
      ]
     },
     "execution_count": 5,
     "metadata": {},
     "output_type": "execute_result"
    }
   ],
   "source": [
    "v"
   ]
  },
  {
   "cell_type": "code",
   "execution_count": 6,
   "id": "0072f427-ce0b-4aa9-a3af-7b4c41724ffd",
   "metadata": {},
   "outputs": [],
   "source": [
    "np.random.shuffle(v)"
   ]
  },
  {
   "cell_type": "code",
   "execution_count": 7,
   "id": "84115a45-7cd6-4aff-b2e3-44ff3ae79e74",
   "metadata": {},
   "outputs": [
    {
     "data": {
      "text/plain": [
       "array([5, 3, 4, 2, 1])"
      ]
     },
     "execution_count": 7,
     "metadata": {},
     "output_type": "execute_result"
    }
   ],
   "source": [
    "v"
   ]
  },
  {
   "cell_type": "code",
   "execution_count": 13,
   "id": "7bb2cfd9-64be-4799-a278-e44fbc287b4f",
   "metadata": {},
   "outputs": [
    {
     "data": {
      "text/plain": [
       "array([1, 2, 3, 4, 5])"
      ]
     },
     "execution_count": 13,
     "metadata": {},
     "output_type": "execute_result"
    }
   ],
   "source": [
    "np.sort(v)"
   ]
  },
  {
   "cell_type": "code",
   "execution_count": 14,
   "id": "f860405d-e968-47bc-9508-3396c6b278d1",
   "metadata": {},
   "outputs": [
    {
     "data": {
      "text/plain": [
       "array([5, 3, 4, 2, 1])"
      ]
     },
     "execution_count": 14,
     "metadata": {},
     "output_type": "execute_result"
    }
   ],
   "source": [
    "v"
   ]
  },
  {
   "cell_type": "code",
   "execution_count": 9,
   "id": "24bd37c2-be8e-42b1-a09e-f70a4c6caea9",
   "metadata": {},
   "outputs": [],
   "source": [
    "m = np.random.normal(20, 5, (3,3))"
   ]
  },
  {
   "cell_type": "code",
   "execution_count": 10,
   "id": "a38395a9-7c8e-4c73-af57-d947854ce21a",
   "metadata": {},
   "outputs": [
    {
     "data": {
      "text/plain": [
       "array([[23.58939387, 12.10897352, 17.97208232],\n",
       "       [23.80130407, 15.69190137, 23.46952753],\n",
       "       [14.33805931, 18.27801602, 23.59300282]])"
      ]
     },
     "execution_count": 10,
     "metadata": {},
     "output_type": "execute_result"
    }
   ],
   "source": [
    "m"
   ]
  },
  {
   "cell_type": "code",
   "execution_count": 11,
   "id": "b83d071c-4d06-4559-9306-dbab18ca9f32",
   "metadata": {},
   "outputs": [
    {
     "data": {
      "text/plain": [
       "array([[12.10897352, 17.97208232, 23.58939387],\n",
       "       [15.69190137, 23.46952753, 23.80130407],\n",
       "       [14.33805931, 18.27801602, 23.59300282]])"
      ]
     },
     "execution_count": 11,
     "metadata": {},
     "output_type": "execute_result"
    }
   ],
   "source": [
    "np.sort(m, axis = 1)"
   ]
  },
  {
   "cell_type": "code",
   "execution_count": 12,
   "id": "948b3984-31a7-4692-9f6e-103f52479715",
   "metadata": {},
   "outputs": [
    {
     "data": {
      "text/plain": [
       "array([[14.33805931, 12.10897352, 17.97208232],\n",
       "       [23.58939387, 15.69190137, 23.46952753],\n",
       "       [23.80130407, 18.27801602, 23.59300282]])"
      ]
     },
     "execution_count": 12,
     "metadata": {},
     "output_type": "execute_result"
    }
   ],
   "source": [
    "np.sort(m, axis = 0)"
   ]
  }
 ],
 "metadata": {
  "kernelspec": {
   "display_name": "Python 3 (ipykernel)",
   "language": "python",
   "name": "python3"
  },
  "language_info": {
   "codemirror_mode": {
    "name": "ipython",
    "version": 3
   },
   "file_extension": ".py",
   "mimetype": "text/x-python",
   "name": "python",
   "nbconvert_exporter": "python",
   "pygments_lexer": "ipython3",
   "version": "3.9.7"
  }
 },
 "nbformat": 4,
 "nbformat_minor": 5
}
