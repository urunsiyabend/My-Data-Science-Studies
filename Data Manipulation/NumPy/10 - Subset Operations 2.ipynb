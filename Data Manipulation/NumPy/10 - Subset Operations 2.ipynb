{
 "cells": [
  {
   "cell_type": "markdown",
   "id": "5598b7aa-8c0b-4974-a782-9afa0dc10f19",
   "metadata": {},
   "source": [
    "# Operations on Independent Subsets"
   ]
  },
  {
   "cell_type": "code",
   "execution_count": null,
   "id": "abc4e322-f198-42bd-a120-6ef59edf4026",
   "metadata": {},
   "outputs": [],
   "source": [
    "import numpy as np"
   ]
  },
  {
   "cell_type": "code",
   "execution_count": null,
   "id": "8de3b30c-2dc9-47d0-8907-74220e708138",
   "metadata": {},
   "outputs": [],
   "source": [
    "a = np.random.randint(10, size = (3, 3))"
   ]
  },
  {
   "cell_type": "code",
   "execution_count": null,
   "id": "583d42c1-3fcd-4bc5-9fef-c0268f39c8a5",
   "metadata": {},
   "outputs": [
    {
     "data": {
      "text/plain": [
       "array([[6, 1, 1],\n",
       "       [9, 8, 0],\n",
       "       [9, 3, 0]])"
      ]
     },
     "execution_count": 4,
     "metadata": {},
     "output_type": "execute_result"
    }
   ],
   "source": [
    "a"
   ]
  },
  {
   "cell_type": "code",
   "execution_count": 7,
   "id": "ee360d0b-9e2c-42ce-9fde-401737856137",
   "metadata": {},
   "outputs": [],
   "source": [
    "sub_a = a[0:2, 0:2]"
   ]
  },
  {
   "cell_type": "code",
   "execution_count": 8,
   "id": "8d8020a9-2ede-45a2-a622-527558279192",
   "metadata": {},
   "outputs": [
    {
     "data": {
      "text/plain": [
       "array([[6, 1],\n",
       "       [9, 8]])"
      ]
     },
     "execution_count": 8,
     "metadata": {},
     "output_type": "execute_result"
    }
   ],
   "source": [
    "sub_a"
   ]
  },
  {
   "cell_type": "code",
   "execution_count": 9,
   "id": "133bae1a-cbf7-4eb7-888e-8c0a1ec33ac2",
   "metadata": {},
   "outputs": [],
   "source": [
    "sub_a[0, 0] = 20"
   ]
  },
  {
   "cell_type": "code",
   "execution_count": 10,
   "id": "30bba41e-23a3-4056-853d-1bb3e174013a",
   "metadata": {},
   "outputs": [
    {
     "data": {
      "text/plain": [
       "array([[20,  1,  1],\n",
       "       [ 9,  8,  0],\n",
       "       [ 9,  3,  0]])"
      ]
     },
     "execution_count": 10,
     "metadata": {},
     "output_type": "execute_result"
    }
   ],
   "source": [
    "a"
   ]
  },
  {
   "cell_type": "markdown",
   "id": "ff611e67-22e5-4dfe-9fb3-5a543d9ab71d",
   "metadata": {},
   "source": [
    "##### ! We noticed that if we change a value of subset it makes change the that value on set"
   ]
  },
  {
   "cell_type": "code",
   "execution_count": 11,
   "id": "496ae95b-8beb-4da8-bffb-7d72710b3e1c",
   "metadata": {},
   "outputs": [
    {
     "data": {
      "text/plain": [
       "array([[3, 4, 4],\n",
       "       [1, 6, 6],\n",
       "       [4, 9, 8]])"
      ]
     },
     "execution_count": 11,
     "metadata": {},
     "output_type": "execute_result"
    }
   ],
   "source": [
    "m = np.random.randint(10, size = (3, 3))\n",
    "m"
   ]
  },
  {
   "cell_type": "code",
   "execution_count": 12,
   "id": "e3b37cd6-785b-4d77-abc6-f63cff1f4cbd",
   "metadata": {},
   "outputs": [],
   "source": [
    "alt_m = m[0:2, 0:2].copy()"
   ]
  },
  {
   "cell_type": "code",
   "execution_count": 13,
   "id": "f77dd84e-89ac-404c-8fb1-d80e54e491a4",
   "metadata": {},
   "outputs": [
    {
     "data": {
      "text/plain": [
       "array([[3, 4],\n",
       "       [1, 6]])"
      ]
     },
     "execution_count": 13,
     "metadata": {},
     "output_type": "execute_result"
    }
   ],
   "source": [
    "alt_m"
   ]
  },
  {
   "cell_type": "code",
   "execution_count": 14,
   "id": "618e2e25-ee74-448f-ba2d-0aa8b01f4577",
   "metadata": {},
   "outputs": [],
   "source": [
    "alt_m[0,0] = 20"
   ]
  },
  {
   "cell_type": "code",
   "execution_count": 15,
   "id": "de8cb33b-80a8-4d0a-92ca-a3016dd71ee8",
   "metadata": {},
   "outputs": [
    {
     "data": {
      "text/plain": [
       "array([[3, 4, 4],\n",
       "       [1, 6, 6],\n",
       "       [4, 9, 8]])"
      ]
     },
     "execution_count": 15,
     "metadata": {},
     "output_type": "execute_result"
    }
   ],
   "source": [
    "m"
   ]
  },
  {
   "cell_type": "code",
   "execution_count": 16,
   "id": "4f4df0bf-3c17-4313-bd1b-1fd67196bc7b",
   "metadata": {},
   "outputs": [
    {
     "data": {
      "text/plain": [
       "array([[20,  4],\n",
       "       [ 1,  6]])"
      ]
     },
     "execution_count": 16,
     "metadata": {},
     "output_type": "execute_result"
    }
   ],
   "source": [
    "alt_m"
   ]
  },
  {
   "cell_type": "markdown",
   "id": "39d32456-6eab-478e-bd4a-12f283c83078",
   "metadata": {},
   "source": [
    "##### ! If we use the copy function we can prevent that change in actual set"
   ]
  }
 ],
 "metadata": {
  "kernelspec": {
   "display_name": "Python 3 (ipykernel)",
   "language": "python",
   "name": "python3"
  },
  "language_info": {
   "codemirror_mode": {
    "name": "ipython",
    "version": 3
   },
   "file_extension": ".py",
   "mimetype": "text/x-python",
   "name": "python",
   "nbconvert_exporter": "python",
   "pygments_lexer": "ipython3",
   "version": "3.9.7"
  }
 },
 "nbformat": 4,
 "nbformat_minor": 5
}
