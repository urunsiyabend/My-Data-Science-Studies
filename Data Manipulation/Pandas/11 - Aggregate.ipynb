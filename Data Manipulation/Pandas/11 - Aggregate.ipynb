{
 "cells": [
  {
   "cell_type": "markdown",
   "id": "df6dee19-6bd9-454e-a66b-4ba34591c91e",
   "metadata": {},
   "source": [
    "# Advanced Aggregate Functions"
   ]
  },
  {
   "cell_type": "markdown",
   "id": "4854a9da-afb0-4c9d-b37d-d1933f16afe1",
   "metadata": {},
   "source": [
    "* aggregate\n",
    "* filter\n",
    "* transform\n",
    "* apply"
   ]
  },
  {
   "cell_type": "code",
   "execution_count": 1,
   "id": "f3e43237-6c88-484b-9a83-fb2bf9a4991e",
   "metadata": {},
   "outputs": [],
   "source": [
    "import pandas as pd\n",
    "import numpy as np"
   ]
  },
  {
   "cell_type": "code",
   "execution_count": 2,
   "id": "cba5cd30-8a06-4d77-9075-9f0cd297b236",
   "metadata": {},
   "outputs": [],
   "source": [
    "df = pd.DataFrame(\n",
    "        {\n",
    "            'groups': ['A', 'B', 'C', 'A', 'B', 'C'],\n",
    "            'variable1': np.random.rand(1, 6)[0] * 100,\n",
    "            'variable2': np.random.rand(1, 6)[0] * 100,\n",
    "        }\n",
    ")"
   ]
  },
  {
   "cell_type": "code",
   "execution_count": 3,
   "id": "09d8c330-e8d1-435b-8609-1ff1d585d26c",
   "metadata": {},
   "outputs": [
    {
     "data": {
      "text/html": [
       "<div>\n",
       "<style scoped>\n",
       "    .dataframe tbody tr th:only-of-type {\n",
       "        vertical-align: middle;\n",
       "    }\n",
       "\n",
       "    .dataframe tbody tr th {\n",
       "        vertical-align: top;\n",
       "    }\n",
       "\n",
       "    .dataframe thead th {\n",
       "        text-align: right;\n",
       "    }\n",
       "</style>\n",
       "<table border=\"1\" class=\"dataframe\">\n",
       "  <thead>\n",
       "    <tr style=\"text-align: right;\">\n",
       "      <th></th>\n",
       "      <th>groups</th>\n",
       "      <th>variable1</th>\n",
       "      <th>variable2</th>\n",
       "    </tr>\n",
       "  </thead>\n",
       "  <tbody>\n",
       "    <tr>\n",
       "      <th>0</th>\n",
       "      <td>A</td>\n",
       "      <td>15.746002</td>\n",
       "      <td>88.579253</td>\n",
       "    </tr>\n",
       "    <tr>\n",
       "      <th>1</th>\n",
       "      <td>B</td>\n",
       "      <td>83.061379</td>\n",
       "      <td>99.503831</td>\n",
       "    </tr>\n",
       "    <tr>\n",
       "      <th>2</th>\n",
       "      <td>C</td>\n",
       "      <td>57.945894</td>\n",
       "      <td>96.763537</td>\n",
       "    </tr>\n",
       "    <tr>\n",
       "      <th>3</th>\n",
       "      <td>A</td>\n",
       "      <td>22.450263</td>\n",
       "      <td>6.531330</td>\n",
       "    </tr>\n",
       "    <tr>\n",
       "      <th>4</th>\n",
       "      <td>B</td>\n",
       "      <td>30.849200</td>\n",
       "      <td>46.735116</td>\n",
       "    </tr>\n",
       "    <tr>\n",
       "      <th>5</th>\n",
       "      <td>C</td>\n",
       "      <td>78.545402</td>\n",
       "      <td>69.980675</td>\n",
       "    </tr>\n",
       "  </tbody>\n",
       "</table>\n",
       "</div>"
      ],
      "text/plain": [
       "  groups  variable1  variable2\n",
       "0      A  15.746002  88.579253\n",
       "1      B  83.061379  99.503831\n",
       "2      C  57.945894  96.763537\n",
       "3      A  22.450263   6.531330\n",
       "4      B  30.849200  46.735116\n",
       "5      C  78.545402  69.980675"
      ]
     },
     "execution_count": 3,
     "metadata": {},
     "output_type": "execute_result"
    }
   ],
   "source": [
    "df"
   ]
  },
  {
   "cell_type": "code",
   "execution_count": 4,
   "id": "08a17332-4055-47e2-bcff-c9f6fed0a235",
   "metadata": {},
   "outputs": [
    {
     "data": {
      "text/html": [
       "<div>\n",
       "<style scoped>\n",
       "    .dataframe tbody tr th:only-of-type {\n",
       "        vertical-align: middle;\n",
       "    }\n",
       "\n",
       "    .dataframe tbody tr th {\n",
       "        vertical-align: top;\n",
       "    }\n",
       "\n",
       "    .dataframe thead th {\n",
       "        text-align: right;\n",
       "    }\n",
       "</style>\n",
       "<table border=\"1\" class=\"dataframe\">\n",
       "  <thead>\n",
       "    <tr style=\"text-align: right;\">\n",
       "      <th></th>\n",
       "      <th>groups</th>\n",
       "      <th>A</th>\n",
       "      <th>B</th>\n",
       "      <th>C</th>\n",
       "    </tr>\n",
       "  </thead>\n",
       "  <tbody>\n",
       "    <tr>\n",
       "      <th rowspan=\"8\" valign=\"top\">variable1</th>\n",
       "      <th>count</th>\n",
       "      <td>2.000000</td>\n",
       "      <td>2.000000</td>\n",
       "      <td>2.000000</td>\n",
       "    </tr>\n",
       "    <tr>\n",
       "      <th>mean</th>\n",
       "      <td>19.098133</td>\n",
       "      <td>56.955290</td>\n",
       "      <td>68.245648</td>\n",
       "    </tr>\n",
       "    <tr>\n",
       "      <th>std</th>\n",
       "      <td>4.740629</td>\n",
       "      <td>36.919585</td>\n",
       "      <td>14.566052</td>\n",
       "    </tr>\n",
       "    <tr>\n",
       "      <th>min</th>\n",
       "      <td>15.746002</td>\n",
       "      <td>30.849200</td>\n",
       "      <td>57.945894</td>\n",
       "    </tr>\n",
       "    <tr>\n",
       "      <th>25%</th>\n",
       "      <td>17.422067</td>\n",
       "      <td>43.902245</td>\n",
       "      <td>63.095771</td>\n",
       "    </tr>\n",
       "    <tr>\n",
       "      <th>50%</th>\n",
       "      <td>19.098133</td>\n",
       "      <td>56.955290</td>\n",
       "      <td>68.245648</td>\n",
       "    </tr>\n",
       "    <tr>\n",
       "      <th>75%</th>\n",
       "      <td>20.774198</td>\n",
       "      <td>70.008334</td>\n",
       "      <td>73.395525</td>\n",
       "    </tr>\n",
       "    <tr>\n",
       "      <th>max</th>\n",
       "      <td>22.450263</td>\n",
       "      <td>83.061379</td>\n",
       "      <td>78.545402</td>\n",
       "    </tr>\n",
       "    <tr>\n",
       "      <th rowspan=\"8\" valign=\"top\">variable2</th>\n",
       "      <th>count</th>\n",
       "      <td>2.000000</td>\n",
       "      <td>2.000000</td>\n",
       "      <td>2.000000</td>\n",
       "    </tr>\n",
       "    <tr>\n",
       "      <th>mean</th>\n",
       "      <td>47.555292</td>\n",
       "      <td>73.119473</td>\n",
       "      <td>83.372106</td>\n",
       "    </tr>\n",
       "    <tr>\n",
       "      <th>std</th>\n",
       "      <td>58.016643</td>\n",
       "      <td>37.313117</td>\n",
       "      <td>18.938343</td>\n",
       "    </tr>\n",
       "    <tr>\n",
       "      <th>min</th>\n",
       "      <td>6.531330</td>\n",
       "      <td>46.735116</td>\n",
       "      <td>69.980675</td>\n",
       "    </tr>\n",
       "    <tr>\n",
       "      <th>25%</th>\n",
       "      <td>27.043311</td>\n",
       "      <td>59.927294</td>\n",
       "      <td>76.676391</td>\n",
       "    </tr>\n",
       "    <tr>\n",
       "      <th>50%</th>\n",
       "      <td>47.555292</td>\n",
       "      <td>73.119473</td>\n",
       "      <td>83.372106</td>\n",
       "    </tr>\n",
       "    <tr>\n",
       "      <th>75%</th>\n",
       "      <td>68.067272</td>\n",
       "      <td>86.311652</td>\n",
       "      <td>90.067821</td>\n",
       "    </tr>\n",
       "    <tr>\n",
       "      <th>max</th>\n",
       "      <td>88.579253</td>\n",
       "      <td>99.503831</td>\n",
       "      <td>96.763537</td>\n",
       "    </tr>\n",
       "  </tbody>\n",
       "</table>\n",
       "</div>"
      ],
      "text/plain": [
       "groups                   A          B          C\n",
       "variable1 count   2.000000   2.000000   2.000000\n",
       "          mean   19.098133  56.955290  68.245648\n",
       "          std     4.740629  36.919585  14.566052\n",
       "          min    15.746002  30.849200  57.945894\n",
       "          25%    17.422067  43.902245  63.095771\n",
       "          50%    19.098133  56.955290  68.245648\n",
       "          75%    20.774198  70.008334  73.395525\n",
       "          max    22.450263  83.061379  78.545402\n",
       "variable2 count   2.000000   2.000000   2.000000\n",
       "          mean   47.555292  73.119473  83.372106\n",
       "          std    58.016643  37.313117  18.938343\n",
       "          min     6.531330  46.735116  69.980675\n",
       "          25%    27.043311  59.927294  76.676391\n",
       "          50%    47.555292  73.119473  83.372106\n",
       "          75%    68.067272  86.311652  90.067821\n",
       "          max    88.579253  99.503831  96.763537"
      ]
     },
     "execution_count": 4,
     "metadata": {},
     "output_type": "execute_result"
    }
   ],
   "source": [
    "df.groupby('groups').describe().T"
   ]
  },
  {
   "cell_type": "markdown",
   "id": "ae7fd3c3-6043-432a-8955-8f4993ca004d",
   "metadata": {},
   "source": [
    "### Aggregate"
   ]
  },
  {
   "cell_type": "code",
   "execution_count": 5,
   "id": "05aca9b7-8f26-4231-a289-1493eed7bb57",
   "metadata": {},
   "outputs": [
    {
     "data": {
      "text/html": [
       "<div>\n",
       "<style scoped>\n",
       "    .dataframe tbody tr th:only-of-type {\n",
       "        vertical-align: middle;\n",
       "    }\n",
       "\n",
       "    .dataframe tbody tr th {\n",
       "        vertical-align: top;\n",
       "    }\n",
       "\n",
       "    .dataframe thead th {\n",
       "        text-align: right;\n",
       "    }\n",
       "</style>\n",
       "<table border=\"1\" class=\"dataframe\">\n",
       "  <thead>\n",
       "    <tr style=\"text-align: right;\">\n",
       "      <th></th>\n",
       "      <th>groups</th>\n",
       "      <th>A</th>\n",
       "      <th>B</th>\n",
       "      <th>C</th>\n",
       "    </tr>\n",
       "  </thead>\n",
       "  <tbody>\n",
       "    <tr>\n",
       "      <th rowspan=\"3\" valign=\"top\">variable1</th>\n",
       "      <th>std</th>\n",
       "      <td>4.740629</td>\n",
       "      <td>36.919585</td>\n",
       "      <td>14.566052</td>\n",
       "    </tr>\n",
       "    <tr>\n",
       "      <th>median</th>\n",
       "      <td>19.098133</td>\n",
       "      <td>56.955290</td>\n",
       "      <td>68.245648</td>\n",
       "    </tr>\n",
       "    <tr>\n",
       "      <th>max</th>\n",
       "      <td>22.450263</td>\n",
       "      <td>83.061379</td>\n",
       "      <td>78.545402</td>\n",
       "    </tr>\n",
       "    <tr>\n",
       "      <th rowspan=\"3\" valign=\"top\">variable2</th>\n",
       "      <th>std</th>\n",
       "      <td>58.016643</td>\n",
       "      <td>37.313117</td>\n",
       "      <td>18.938343</td>\n",
       "    </tr>\n",
       "    <tr>\n",
       "      <th>median</th>\n",
       "      <td>47.555292</td>\n",
       "      <td>73.119473</td>\n",
       "      <td>83.372106</td>\n",
       "    </tr>\n",
       "    <tr>\n",
       "      <th>max</th>\n",
       "      <td>88.579253</td>\n",
       "      <td>99.503831</td>\n",
       "      <td>96.763537</td>\n",
       "    </tr>\n",
       "  </tbody>\n",
       "</table>\n",
       "</div>"
      ],
      "text/plain": [
       "groups                    A          B          C\n",
       "variable1 std      4.740629  36.919585  14.566052\n",
       "          median  19.098133  56.955290  68.245648\n",
       "          max     22.450263  83.061379  78.545402\n",
       "variable2 std     58.016643  37.313117  18.938343\n",
       "          median  47.555292  73.119473  83.372106\n",
       "          max     88.579253  99.503831  96.763537"
      ]
     },
     "execution_count": 5,
     "metadata": {},
     "output_type": "execute_result"
    }
   ],
   "source": [
    "df.groupby('groups').aggregate(['std', np.median, 'max']).T"
   ]
  },
  {
   "cell_type": "code",
   "execution_count": 6,
   "id": "bd3420a4-476c-4407-a2d5-4592d5d266e1",
   "metadata": {},
   "outputs": [
    {
     "data": {
      "text/html": [
       "<div>\n",
       "<style scoped>\n",
       "    .dataframe tbody tr th:only-of-type {\n",
       "        vertical-align: middle;\n",
       "    }\n",
       "\n",
       "    .dataframe tbody tr th {\n",
       "        vertical-align: top;\n",
       "    }\n",
       "\n",
       "    .dataframe thead th {\n",
       "        text-align: right;\n",
       "    }\n",
       "</style>\n",
       "<table border=\"1\" class=\"dataframe\">\n",
       "  <thead>\n",
       "    <tr style=\"text-align: right;\">\n",
       "      <th></th>\n",
       "      <th>variable1</th>\n",
       "      <th>variable2</th>\n",
       "    </tr>\n",
       "    <tr>\n",
       "      <th>groups</th>\n",
       "      <th></th>\n",
       "      <th></th>\n",
       "    </tr>\n",
       "  </thead>\n",
       "  <tbody>\n",
       "    <tr>\n",
       "      <th>A</th>\n",
       "      <td>15.746002</td>\n",
       "      <td>47.555292</td>\n",
       "    </tr>\n",
       "    <tr>\n",
       "      <th>B</th>\n",
       "      <td>30.849200</td>\n",
       "      <td>73.119473</td>\n",
       "    </tr>\n",
       "    <tr>\n",
       "      <th>C</th>\n",
       "      <td>57.945894</td>\n",
       "      <td>83.372106</td>\n",
       "    </tr>\n",
       "  </tbody>\n",
       "</table>\n",
       "</div>"
      ],
      "text/plain": [
       "        variable1  variable2\n",
       "groups                      \n",
       "A       15.746002  47.555292\n",
       "B       30.849200  73.119473\n",
       "C       57.945894  83.372106"
      ]
     },
     "execution_count": 6,
     "metadata": {},
     "output_type": "execute_result"
    }
   ],
   "source": [
    "df.groupby('groups').aggregate({'variable1': 'min', 'variable2': np.median})"
   ]
  },
  {
   "cell_type": "markdown",
   "id": "309bfae9-2ccc-4e6a-8d1c-bbb6c450bcc2",
   "metadata": {},
   "source": [
    "### Filter"
   ]
  },
  {
   "cell_type": "code",
   "execution_count": 7,
   "id": "be4e2b1c-6622-4bb1-a1ff-7c8a64b8be26",
   "metadata": {},
   "outputs": [],
   "source": [
    "def filter_func(x):\n",
    "    return x['variable1'].std() > 12"
   ]
  },
  {
   "cell_type": "code",
   "execution_count": 8,
   "id": "3040d3d4-18cf-4b1f-a3d4-2a998c818509",
   "metadata": {},
   "outputs": [
    {
     "data": {
      "text/html": [
       "<div>\n",
       "<style scoped>\n",
       "    .dataframe tbody tr th:only-of-type {\n",
       "        vertical-align: middle;\n",
       "    }\n",
       "\n",
       "    .dataframe tbody tr th {\n",
       "        vertical-align: top;\n",
       "    }\n",
       "\n",
       "    .dataframe thead th {\n",
       "        text-align: right;\n",
       "    }\n",
       "</style>\n",
       "<table border=\"1\" class=\"dataframe\">\n",
       "  <thead>\n",
       "    <tr style=\"text-align: right;\">\n",
       "      <th>groups</th>\n",
       "      <th>A</th>\n",
       "      <th>B</th>\n",
       "      <th>C</th>\n",
       "    </tr>\n",
       "  </thead>\n",
       "  <tbody>\n",
       "    <tr>\n",
       "      <th>variable1</th>\n",
       "      <td>4.740629</td>\n",
       "      <td>36.919585</td>\n",
       "      <td>14.566052</td>\n",
       "    </tr>\n",
       "    <tr>\n",
       "      <th>variable2</th>\n",
       "      <td>58.016643</td>\n",
       "      <td>37.313117</td>\n",
       "      <td>18.938343</td>\n",
       "    </tr>\n",
       "  </tbody>\n",
       "</table>\n",
       "</div>"
      ],
      "text/plain": [
       "groups             A          B          C\n",
       "variable1   4.740629  36.919585  14.566052\n",
       "variable2  58.016643  37.313117  18.938343"
      ]
     },
     "execution_count": 8,
     "metadata": {},
     "output_type": "execute_result"
    }
   ],
   "source": [
    "df.groupby('groups').std().T"
   ]
  },
  {
   "cell_type": "code",
   "execution_count": 9,
   "id": "e2166af2-c397-42ac-8992-db67bf08a06c",
   "metadata": {},
   "outputs": [
    {
     "data": {
      "text/html": [
       "<div>\n",
       "<style scoped>\n",
       "    .dataframe tbody tr th:only-of-type {\n",
       "        vertical-align: middle;\n",
       "    }\n",
       "\n",
       "    .dataframe tbody tr th {\n",
       "        vertical-align: top;\n",
       "    }\n",
       "\n",
       "    .dataframe thead th {\n",
       "        text-align: right;\n",
       "    }\n",
       "</style>\n",
       "<table border=\"1\" class=\"dataframe\">\n",
       "  <thead>\n",
       "    <tr style=\"text-align: right;\">\n",
       "      <th></th>\n",
       "      <th>groups</th>\n",
       "      <th>variable1</th>\n",
       "      <th>variable2</th>\n",
       "    </tr>\n",
       "  </thead>\n",
       "  <tbody>\n",
       "    <tr>\n",
       "      <th>1</th>\n",
       "      <td>B</td>\n",
       "      <td>83.061379</td>\n",
       "      <td>99.503831</td>\n",
       "    </tr>\n",
       "    <tr>\n",
       "      <th>2</th>\n",
       "      <td>C</td>\n",
       "      <td>57.945894</td>\n",
       "      <td>96.763537</td>\n",
       "    </tr>\n",
       "    <tr>\n",
       "      <th>4</th>\n",
       "      <td>B</td>\n",
       "      <td>30.849200</td>\n",
       "      <td>46.735116</td>\n",
       "    </tr>\n",
       "    <tr>\n",
       "      <th>5</th>\n",
       "      <td>C</td>\n",
       "      <td>78.545402</td>\n",
       "      <td>69.980675</td>\n",
       "    </tr>\n",
       "  </tbody>\n",
       "</table>\n",
       "</div>"
      ],
      "text/plain": [
       "  groups  variable1  variable2\n",
       "1      B  83.061379  99.503831\n",
       "2      C  57.945894  96.763537\n",
       "4      B  30.849200  46.735116\n",
       "5      C  78.545402  69.980675"
      ]
     },
     "execution_count": 9,
     "metadata": {},
     "output_type": "execute_result"
    }
   ],
   "source": [
    "df.groupby('groups').filter(filter_func)"
   ]
  },
  {
   "cell_type": "markdown",
   "id": "46271c05-2348-406b-95bb-0f90eab1c765",
   "metadata": {},
   "source": [
    "### Transform"
   ]
  },
  {
   "cell_type": "code",
   "execution_count": 10,
   "id": "13531c3f-e36c-458f-a0f4-24559edc05ea",
   "metadata": {},
   "outputs": [
    {
     "data": {
      "text/html": [
       "<div>\n",
       "<style scoped>\n",
       "    .dataframe tbody tr th:only-of-type {\n",
       "        vertical-align: middle;\n",
       "    }\n",
       "\n",
       "    .dataframe tbody tr th {\n",
       "        vertical-align: top;\n",
       "    }\n",
       "\n",
       "    .dataframe thead th {\n",
       "        text-align: right;\n",
       "    }\n",
       "</style>\n",
       "<table border=\"1\" class=\"dataframe\">\n",
       "  <thead>\n",
       "    <tr style=\"text-align: right;\">\n",
       "      <th></th>\n",
       "      <th>groups</th>\n",
       "      <th>variable1</th>\n",
       "      <th>variable2</th>\n",
       "    </tr>\n",
       "  </thead>\n",
       "  <tbody>\n",
       "    <tr>\n",
       "      <th>0</th>\n",
       "      <td>A</td>\n",
       "      <td>15.746002</td>\n",
       "      <td>88.579253</td>\n",
       "    </tr>\n",
       "    <tr>\n",
       "      <th>1</th>\n",
       "      <td>B</td>\n",
       "      <td>83.061379</td>\n",
       "      <td>99.503831</td>\n",
       "    </tr>\n",
       "    <tr>\n",
       "      <th>2</th>\n",
       "      <td>C</td>\n",
       "      <td>57.945894</td>\n",
       "      <td>96.763537</td>\n",
       "    </tr>\n",
       "    <tr>\n",
       "      <th>3</th>\n",
       "      <td>A</td>\n",
       "      <td>22.450263</td>\n",
       "      <td>6.531330</td>\n",
       "    </tr>\n",
       "    <tr>\n",
       "      <th>4</th>\n",
       "      <td>B</td>\n",
       "      <td>30.849200</td>\n",
       "      <td>46.735116</td>\n",
       "    </tr>\n",
       "    <tr>\n",
       "      <th>5</th>\n",
       "      <td>C</td>\n",
       "      <td>78.545402</td>\n",
       "      <td>69.980675</td>\n",
       "    </tr>\n",
       "  </tbody>\n",
       "</table>\n",
       "</div>"
      ],
      "text/plain": [
       "  groups  variable1  variable2\n",
       "0      A  15.746002  88.579253\n",
       "1      B  83.061379  99.503831\n",
       "2      C  57.945894  96.763537\n",
       "3      A  22.450263   6.531330\n",
       "4      B  30.849200  46.735116\n",
       "5      C  78.545402  69.980675"
      ]
     },
     "execution_count": 10,
     "metadata": {},
     "output_type": "execute_result"
    }
   ],
   "source": [
    "df"
   ]
  },
  {
   "cell_type": "code",
   "execution_count": 11,
   "id": "d5e068c9-5040-4bde-8931-5c90a7916033",
   "metadata": {},
   "outputs": [
    {
     "data": {
      "text/html": [
       "<div>\n",
       "<style scoped>\n",
       "    .dataframe tbody tr th:only-of-type {\n",
       "        vertical-align: middle;\n",
       "    }\n",
       "\n",
       "    .dataframe tbody tr th {\n",
       "        vertical-align: top;\n",
       "    }\n",
       "\n",
       "    .dataframe thead th {\n",
       "        text-align: right;\n",
       "    }\n",
       "</style>\n",
       "<table border=\"1\" class=\"dataframe\">\n",
       "  <thead>\n",
       "    <tr style=\"text-align: right;\">\n",
       "      <th></th>\n",
       "      <th>variable1</th>\n",
       "      <th>variable2</th>\n",
       "    </tr>\n",
       "  </thead>\n",
       "  <tbody>\n",
       "    <tr>\n",
       "      <th>0</th>\n",
       "      <td>15.746002</td>\n",
       "      <td>88.579253</td>\n",
       "    </tr>\n",
       "    <tr>\n",
       "      <th>1</th>\n",
       "      <td>83.061379</td>\n",
       "      <td>99.503831</td>\n",
       "    </tr>\n",
       "    <tr>\n",
       "      <th>2</th>\n",
       "      <td>57.945894</td>\n",
       "      <td>96.763537</td>\n",
       "    </tr>\n",
       "    <tr>\n",
       "      <th>3</th>\n",
       "      <td>22.450263</td>\n",
       "      <td>6.531330</td>\n",
       "    </tr>\n",
       "    <tr>\n",
       "      <th>4</th>\n",
       "      <td>30.849200</td>\n",
       "      <td>46.735116</td>\n",
       "    </tr>\n",
       "    <tr>\n",
       "      <th>5</th>\n",
       "      <td>78.545402</td>\n",
       "      <td>69.980675</td>\n",
       "    </tr>\n",
       "  </tbody>\n",
       "</table>\n",
       "</div>"
      ],
      "text/plain": [
       "   variable1  variable2\n",
       "0  15.746002  88.579253\n",
       "1  83.061379  99.503831\n",
       "2  57.945894  96.763537\n",
       "3  22.450263   6.531330\n",
       "4  30.849200  46.735116\n",
       "5  78.545402  69.980675"
      ]
     },
     "execution_count": 11,
     "metadata": {},
     "output_type": "execute_result"
    }
   ],
   "source": [
    "df_a = df.iloc[:, 1:3]\n",
    "df_a"
   ]
  },
  {
   "cell_type": "code",
   "execution_count": 12,
   "id": "93cff6c5-14e0-4ec0-9c96-6aba0bdb6e34",
   "metadata": {},
   "outputs": [
    {
     "data": {
      "text/html": [
       "<div>\n",
       "<style scoped>\n",
       "    .dataframe tbody tr th:only-of-type {\n",
       "        vertical-align: middle;\n",
       "    }\n",
       "\n",
       "    .dataframe tbody tr th {\n",
       "        vertical-align: top;\n",
       "    }\n",
       "\n",
       "    .dataframe thead th {\n",
       "        text-align: right;\n",
       "    }\n",
       "</style>\n",
       "<table border=\"1\" class=\"dataframe\">\n",
       "  <thead>\n",
       "    <tr style=\"text-align: right;\">\n",
       "      <th></th>\n",
       "      <th>variable1</th>\n",
       "      <th>variable2</th>\n",
       "    </tr>\n",
       "  </thead>\n",
       "  <tbody>\n",
       "    <tr>\n",
       "      <th>0</th>\n",
       "      <td>-1.109926</td>\n",
       "      <td>0.571307</td>\n",
       "    </tr>\n",
       "    <tr>\n",
       "      <th>1</th>\n",
       "      <td>1.199396</td>\n",
       "      <td>0.874817</td>\n",
       "    </tr>\n",
       "    <tr>\n",
       "      <th>2</th>\n",
       "      <td>0.337784</td>\n",
       "      <td>0.798686</td>\n",
       "    </tr>\n",
       "    <tr>\n",
       "      <th>3</th>\n",
       "      <td>-0.879929</td>\n",
       "      <td>-1.708180</td>\n",
       "    </tr>\n",
       "    <tr>\n",
       "      <th>4</th>\n",
       "      <td>-0.591795</td>\n",
       "      <td>-0.591223</td>\n",
       "    </tr>\n",
       "    <tr>\n",
       "      <th>5</th>\n",
       "      <td>1.044471</td>\n",
       "      <td>0.054594</td>\n",
       "    </tr>\n",
       "  </tbody>\n",
       "</table>\n",
       "</div>"
      ],
      "text/plain": [
       "   variable1  variable2\n",
       "0  -1.109926   0.571307\n",
       "1   1.199396   0.874817\n",
       "2   0.337784   0.798686\n",
       "3  -0.879929  -1.708180\n",
       "4  -0.591795  -0.591223\n",
       "5   1.044471   0.054594"
      ]
     },
     "execution_count": 12,
     "metadata": {},
     "output_type": "execute_result"
    }
   ],
   "source": [
    "df_a.transform(lambda x: (x - x.mean()) / x.std()) "
   ]
  },
  {
   "cell_type": "markdown",
   "id": "29901654-cf15-40ab-a0ed-66604f8dfff0",
   "metadata": {},
   "source": [
    "### Apply"
   ]
  },
  {
   "cell_type": "code",
   "execution_count": 13,
   "id": "d6dcf5f2-1cad-4170-9252-f9870c23eb4b",
   "metadata": {},
   "outputs": [
    {
     "data": {
      "text/html": [
       "<div>\n",
       "<style scoped>\n",
       "    .dataframe tbody tr th:only-of-type {\n",
       "        vertical-align: middle;\n",
       "    }\n",
       "\n",
       "    .dataframe tbody tr th {\n",
       "        vertical-align: top;\n",
       "    }\n",
       "\n",
       "    .dataframe thead th {\n",
       "        text-align: right;\n",
       "    }\n",
       "</style>\n",
       "<table border=\"1\" class=\"dataframe\">\n",
       "  <thead>\n",
       "    <tr style=\"text-align: right;\">\n",
       "      <th></th>\n",
       "      <th>variable1</th>\n",
       "      <th>variable2</th>\n",
       "    </tr>\n",
       "  </thead>\n",
       "  <tbody>\n",
       "    <tr>\n",
       "      <th>0</th>\n",
       "      <td>15.746002</td>\n",
       "      <td>88.579253</td>\n",
       "    </tr>\n",
       "    <tr>\n",
       "      <th>1</th>\n",
       "      <td>83.061379</td>\n",
       "      <td>99.503831</td>\n",
       "    </tr>\n",
       "    <tr>\n",
       "      <th>2</th>\n",
       "      <td>57.945894</td>\n",
       "      <td>96.763537</td>\n",
       "    </tr>\n",
       "    <tr>\n",
       "      <th>3</th>\n",
       "      <td>22.450263</td>\n",
       "      <td>6.531330</td>\n",
       "    </tr>\n",
       "    <tr>\n",
       "      <th>4</th>\n",
       "      <td>30.849200</td>\n",
       "      <td>46.735116</td>\n",
       "    </tr>\n",
       "    <tr>\n",
       "      <th>5</th>\n",
       "      <td>78.545402</td>\n",
       "      <td>69.980675</td>\n",
       "    </tr>\n",
       "  </tbody>\n",
       "</table>\n",
       "</div>"
      ],
      "text/plain": [
       "   variable1  variable2\n",
       "0  15.746002  88.579253\n",
       "1  83.061379  99.503831\n",
       "2  57.945894  96.763537\n",
       "3  22.450263   6.531330\n",
       "4  30.849200  46.735116\n",
       "5  78.545402  69.980675"
      ]
     },
     "execution_count": 13,
     "metadata": {},
     "output_type": "execute_result"
    }
   ],
   "source": [
    "df_a"
   ]
  },
  {
   "cell_type": "code",
   "execution_count": 14,
   "id": "d8b65826-f28f-4aac-bd0d-046799f76c44",
   "metadata": {},
   "outputs": [
    {
     "data": {
      "text/plain": [
       "variable1    288.598140\n",
       "variable2    408.093742\n",
       "dtype: float64"
      ]
     },
     "execution_count": 14,
     "metadata": {},
     "output_type": "execute_result"
    }
   ],
   "source": [
    "df_a.apply(np.sum)"
   ]
  },
  {
   "cell_type": "code",
   "execution_count": 15,
   "id": "0a15c710-3300-4ad3-9226-8278d1f70cb2",
   "metadata": {},
   "outputs": [
    {
     "data": {
      "text/plain": [
       "variable1    44.397547\n",
       "variable2    79.279964\n",
       "dtype: float64"
      ]
     },
     "execution_count": 15,
     "metadata": {},
     "output_type": "execute_result"
    }
   ],
   "source": [
    "df_a.apply(np.median)"
   ]
  },
  {
   "cell_type": "code",
   "execution_count": 16,
   "id": "4c1c058f-ddac-46a9-bb43-113c9674b1b2",
   "metadata": {},
   "outputs": [
    {
     "data": {
      "text/plain": [
       "variable1    29.149417\n",
       "variable2    35.994034\n",
       "dtype: float64"
      ]
     },
     "execution_count": 16,
     "metadata": {},
     "output_type": "execute_result"
    }
   ],
   "source": [
    "df_a.apply('std')"
   ]
  },
  {
   "cell_type": "code",
   "execution_count": 17,
   "id": "bb53261c-d0e0-4179-ac1f-9d12c3ca5bce",
   "metadata": {},
   "outputs": [],
   "source": [
    "def my_func(value):\n",
    "    return True if value > 25 else False"
   ]
  },
  {
   "cell_type": "code",
   "execution_count": 18,
   "id": "8eed3e3c-0423-4135-8abd-a8076f712afa",
   "metadata": {},
   "outputs": [
    {
     "data": {
      "text/html": [
       "<div>\n",
       "<style scoped>\n",
       "    .dataframe tbody tr th:only-of-type {\n",
       "        vertical-align: middle;\n",
       "    }\n",
       "\n",
       "    .dataframe tbody tr th {\n",
       "        vertical-align: top;\n",
       "    }\n",
       "\n",
       "    .dataframe thead th {\n",
       "        text-align: right;\n",
       "    }\n",
       "</style>\n",
       "<table border=\"1\" class=\"dataframe\">\n",
       "  <thead>\n",
       "    <tr style=\"text-align: right;\">\n",
       "      <th></th>\n",
       "      <th>variable1</th>\n",
       "      <th>variable2</th>\n",
       "    </tr>\n",
       "  </thead>\n",
       "  <tbody>\n",
       "    <tr>\n",
       "      <th>0</th>\n",
       "      <td>15.746002</td>\n",
       "      <td>88.579253</td>\n",
       "    </tr>\n",
       "    <tr>\n",
       "      <th>1</th>\n",
       "      <td>83.061379</td>\n",
       "      <td>99.503831</td>\n",
       "    </tr>\n",
       "    <tr>\n",
       "      <th>2</th>\n",
       "      <td>57.945894</td>\n",
       "      <td>96.763537</td>\n",
       "    </tr>\n",
       "    <tr>\n",
       "      <th>3</th>\n",
       "      <td>22.450263</td>\n",
       "      <td>6.531330</td>\n",
       "    </tr>\n",
       "    <tr>\n",
       "      <th>4</th>\n",
       "      <td>30.849200</td>\n",
       "      <td>46.735116</td>\n",
       "    </tr>\n",
       "    <tr>\n",
       "      <th>5</th>\n",
       "      <td>78.545402</td>\n",
       "      <td>69.980675</td>\n",
       "    </tr>\n",
       "  </tbody>\n",
       "</table>\n",
       "</div>"
      ],
      "text/plain": [
       "   variable1  variable2\n",
       "0  15.746002  88.579253\n",
       "1  83.061379  99.503831\n",
       "2  57.945894  96.763537\n",
       "3  22.450263   6.531330\n",
       "4  30.849200  46.735116\n",
       "5  78.545402  69.980675"
      ]
     },
     "execution_count": 18,
     "metadata": {},
     "output_type": "execute_result"
    }
   ],
   "source": [
    "df_a"
   ]
  },
  {
   "cell_type": "code",
   "execution_count": 19,
   "id": "e17afde7-ebdd-44ca-8237-a23cb8059cb6",
   "metadata": {},
   "outputs": [
    {
     "data": {
      "text/plain": [
       "0    False\n",
       "1     True\n",
       "2     True\n",
       "3    False\n",
       "4     True\n",
       "5     True\n",
       "Name: variable1, dtype: bool"
      ]
     },
     "execution_count": 19,
     "metadata": {},
     "output_type": "execute_result"
    }
   ],
   "source": [
    "df_a.variable1.apply(my_func)"
   ]
  },
  {
   "cell_type": "code",
   "execution_count": 20,
   "id": "3076e30f-c6bd-4fd6-9b76-239ebbe1913e",
   "metadata": {},
   "outputs": [
    {
     "data": {
      "text/html": [
       "<div>\n",
       "<style scoped>\n",
       "    .dataframe tbody tr th:only-of-type {\n",
       "        vertical-align: middle;\n",
       "    }\n",
       "\n",
       "    .dataframe tbody tr th {\n",
       "        vertical-align: top;\n",
       "    }\n",
       "\n",
       "    .dataframe thead th {\n",
       "        text-align: right;\n",
       "    }\n",
       "</style>\n",
       "<table border=\"1\" class=\"dataframe\">\n",
       "  <thead>\n",
       "    <tr style=\"text-align: right;\">\n",
       "      <th></th>\n",
       "      <th>variable1</th>\n",
       "      <th>variable2</th>\n",
       "    </tr>\n",
       "  </thead>\n",
       "  <tbody>\n",
       "    <tr>\n",
       "      <th>1</th>\n",
       "      <td>83.061379</td>\n",
       "      <td>99.503831</td>\n",
       "    </tr>\n",
       "    <tr>\n",
       "      <th>2</th>\n",
       "      <td>57.945894</td>\n",
       "      <td>96.763537</td>\n",
       "    </tr>\n",
       "    <tr>\n",
       "      <th>4</th>\n",
       "      <td>30.849200</td>\n",
       "      <td>46.735116</td>\n",
       "    </tr>\n",
       "    <tr>\n",
       "      <th>5</th>\n",
       "      <td>78.545402</td>\n",
       "      <td>69.980675</td>\n",
       "    </tr>\n",
       "  </tbody>\n",
       "</table>\n",
       "</div>"
      ],
      "text/plain": [
       "   variable1  variable2\n",
       "1  83.061379  99.503831\n",
       "2  57.945894  96.763537\n",
       "4  30.849200  46.735116\n",
       "5  78.545402  69.980675"
      ]
     },
     "execution_count": 20,
     "metadata": {},
     "output_type": "execute_result"
    }
   ],
   "source": [
    "df_a[df_a.variable1.apply(my_func)]"
   ]
  }
 ],
 "metadata": {
  "kernelspec": {
   "display_name": "Python 3 (ipykernel)",
   "language": "python",
   "name": "python3"
  },
  "language_info": {
   "codemirror_mode": {
    "name": "ipython",
    "version": 3
   },
   "file_extension": ".py",
   "mimetype": "text/x-python",
   "name": "python",
   "nbconvert_exporter": "python",
   "pygments_lexer": "ipython3",
   "version": "3.9.7"
  }
 },
 "nbformat": 4,
 "nbformat_minor": 5
}
