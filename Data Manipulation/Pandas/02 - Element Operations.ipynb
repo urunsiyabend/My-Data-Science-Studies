{
 "cells": [
  {
   "cell_type": "markdown",
   "id": "028e579d-1dc0-4978-80d3-ee62465d71a0",
   "metadata": {},
   "source": [
    "# Element Operations"
   ]
  },
  {
   "cell_type": "code",
   "execution_count": 16,
   "id": "a10f718a-f20d-4852-ae9d-f04b8adf959c",
   "metadata": {},
   "outputs": [],
   "source": [
    "import numpy as np"
   ]
  },
  {
   "cell_type": "code",
   "execution_count": 17,
   "id": "1d2bc42a-2e0b-448d-a0d2-b6f963635665",
   "metadata": {},
   "outputs": [],
   "source": [
    "a = np.array([23, 34, 53, 75, 12, 65, 88])"
   ]
  },
  {
   "cell_type": "code",
   "execution_count": 18,
   "id": "75d012f0-d34a-44b0-bf90-6638902d0a80",
   "metadata": {},
   "outputs": [],
   "source": [
    "seri = pd.Series(a)"
   ]
  },
  {
   "cell_type": "code",
   "execution_count": 21,
   "id": "8fcb886d-9b07-4aad-acb8-95d164d99c68",
   "metadata": {},
   "outputs": [
    {
     "data": {
      "text/plain": [
       "0    23\n",
       "1    34\n",
       "2    53\n",
       "3    75\n",
       "4    12\n",
       "5    65\n",
       "6    88\n",
       "dtype: int32"
      ]
     },
     "execution_count": 21,
     "metadata": {},
     "output_type": "execute_result"
    }
   ],
   "source": [
    "seri"
   ]
  },
  {
   "cell_type": "code",
   "execution_count": 22,
   "id": "84754b66-d190-465b-b05c-5aee15353d4c",
   "metadata": {},
   "outputs": [
    {
     "data": {
      "text/plain": [
       "23"
      ]
     },
     "execution_count": 22,
     "metadata": {},
     "output_type": "execute_result"
    }
   ],
   "source": [
    "seri[0]"
   ]
  },
  {
   "cell_type": "code",
   "execution_count": 23,
   "id": "6f7e540c-3117-49db-908f-bd06f95be36a",
   "metadata": {},
   "outputs": [
    {
     "data": {
      "text/plain": [
       "0    23\n",
       "1    34\n",
       "2    53\n",
       "dtype: int32"
      ]
     },
     "execution_count": 23,
     "metadata": {},
     "output_type": "execute_result"
    }
   ],
   "source": [
    "seri[0:3]"
   ]
  },
  {
   "cell_type": "code",
   "execution_count": 24,
   "id": "c3efc969-38df-42e4-9ee3-93090a79a5e9",
   "metadata": {},
   "outputs": [],
   "source": [
    "seri = pd.Series([2, 5, 3, 8, 1], index=[\"sw\", \"er\", \"rp\", \"sd\", \"pw\"])"
   ]
  },
  {
   "cell_type": "code",
   "execution_count": 25,
   "id": "da69b87b-6a34-46b0-9171-1ddeccc270b6",
   "metadata": {},
   "outputs": [
    {
     "data": {
      "text/plain": [
       "sw    2\n",
       "er    5\n",
       "rp    3\n",
       "sd    8\n",
       "pw    1\n",
       "dtype: int64"
      ]
     },
     "execution_count": 25,
     "metadata": {},
     "output_type": "execute_result"
    }
   ],
   "source": [
    "seri"
   ]
  },
  {
   "cell_type": "code",
   "execution_count": 26,
   "id": "3bce154e-83e7-41c2-864c-7fc28a126ef8",
   "metadata": {},
   "outputs": [
    {
     "data": {
      "text/plain": [
       "Index(['sw', 'er', 'rp', 'sd', 'pw'], dtype='object')"
      ]
     },
     "execution_count": 26,
     "metadata": {},
     "output_type": "execute_result"
    }
   ],
   "source": [
    "seri.index"
   ]
  },
  {
   "cell_type": "code",
   "execution_count": 27,
   "id": "5e31e4c6-85cf-45de-84e5-598b15c5b7c0",
   "metadata": {},
   "outputs": [
    {
     "data": {
      "text/plain": [
       "<bound method Series.keys of sw    2\n",
       "er    5\n",
       "rp    3\n",
       "sd    8\n",
       "pw    1\n",
       "dtype: int64>"
      ]
     },
     "execution_count": 27,
     "metadata": {},
     "output_type": "execute_result"
    }
   ],
   "source": [
    "seri.keys"
   ]
  },
  {
   "cell_type": "code",
   "execution_count": 28,
   "id": "526a4708-b7e1-437a-84e6-c165438d5888",
   "metadata": {},
   "outputs": [
    {
     "data": {
      "text/plain": [
       "array([2, 5, 3, 8, 1], dtype=int64)"
      ]
     },
     "execution_count": 28,
     "metadata": {},
     "output_type": "execute_result"
    }
   ],
   "source": [
    "seri.values"
   ]
  },
  {
   "cell_type": "code",
   "execution_count": 32,
   "id": "a44cf5b9-fb46-48ca-8060-47d930396de8",
   "metadata": {},
   "outputs": [
    {
     "data": {
      "text/plain": [
       "[('sw', 2), ('er', 5), ('rp', 3), ('sd', 8), ('pw', 1)]"
      ]
     },
     "execution_count": 32,
     "metadata": {},
     "output_type": "execute_result"
    }
   ],
   "source": [
    "list(seri.items())"
   ]
  },
  {
   "cell_type": "markdown",
   "id": "dab43b11-98e7-4630-9a5f-2c31bdf987e7",
   "metadata": {},
   "source": [
    "### Element Queries"
   ]
  },
  {
   "cell_type": "code",
   "execution_count": 37,
   "id": "d3861691-6b9b-4564-9c33-e9116d0d7f1b",
   "metadata": {},
   "outputs": [
    {
     "data": {
      "text/plain": [
       "True"
      ]
     },
     "execution_count": 37,
     "metadata": {},
     "output_type": "execute_result"
    }
   ],
   "source": [
    "\"pw\" in seri"
   ]
  },
  {
   "cell_type": "code",
   "execution_count": 40,
   "id": "96a25516-9976-43dd-95ad-6060c39ea943",
   "metadata": {},
   "outputs": [
    {
     "data": {
      "text/plain": [
       "pw    1\n",
       "rp    3\n",
       "dtype: int64"
      ]
     },
     "execution_count": 40,
     "metadata": {},
     "output_type": "execute_result"
    }
   ],
   "source": [
    "seri[[\"pw\", \"rp\"]]"
   ]
  },
  {
   "cell_type": "code",
   "execution_count": 42,
   "id": "24401cb2-64df-4ed5-9041-fd03c1adc438",
   "metadata": {},
   "outputs": [],
   "source": [
    "seri[\"pw\"] = 9"
   ]
  },
  {
   "cell_type": "code",
   "execution_count": 43,
   "id": "b0088c6f-3528-451d-af37-613ded2f908c",
   "metadata": {},
   "outputs": [
    {
     "data": {
      "text/plain": [
       "sw    2\n",
       "er    5\n",
       "rp    3\n",
       "sd    8\n",
       "pw    9\n",
       "dtype: int64"
      ]
     },
     "execution_count": 43,
     "metadata": {},
     "output_type": "execute_result"
    }
   ],
   "source": [
    "seri"
   ]
  },
  {
   "cell_type": "code",
   "execution_count": 47,
   "id": "bcc4dda3-0205-4154-92ce-8052c6eaf577",
   "metadata": {},
   "outputs": [
    {
     "data": {
      "text/plain": [
       "rp    3\n",
       "sd    8\n",
       "pw    9\n",
       "dtype: int64"
      ]
     },
     "execution_count": 47,
     "metadata": {},
     "output_type": "execute_result"
    }
   ],
   "source": [
    "seri[\"rp\": \"pw\"]"
   ]
  }
 ],
 "metadata": {
  "kernelspec": {
   "display_name": "Python 3 (ipykernel)",
   "language": "python",
   "name": "python3"
  },
  "language_info": {
   "codemirror_mode": {
    "name": "ipython",
    "version": 3
   },
   "file_extension": ".py",
   "mimetype": "text/x-python",
   "name": "python",
   "nbconvert_exporter": "python",
   "pygments_lexer": "ipython3",
   "version": "3.9.7"
  }
 },
 "nbformat": 4,
 "nbformat_minor": 5
}
