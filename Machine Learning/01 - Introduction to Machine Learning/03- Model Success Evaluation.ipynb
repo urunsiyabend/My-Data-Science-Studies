{
 "cells": [
  {
   "cell_type": "markdown",
   "id": "cf2fef12-f2b0-4376-93db-d35ca131699b",
   "metadata": {},
   "source": [
    "# Model Success Evaluation"
   ]
  },
  {
   "cell_type": "code",
   "execution_count": null,
   "id": "68b8b0b0-1b50-4ced-be59-23960989e46d",
   "metadata": {},
   "outputs": [],
   "source": []
  }
 ],
 "metadata": {
  "kernelspec": {
   "display_name": "Python 3 (ipykernel)",
   "language": "python",
   "name": "python3"
  },
  "language_info": {
   "codemirror_mode": {
    "name": "ipython",
    "version": 3
   },
   "file_extension": ".py",
   "mimetype": "text/x-python",
   "name": "python",
   "nbconvert_exporter": "python",
   "pygments_lexer": "ipython3",
   "version": "3.9.7"
  }
 },
 "nbformat": 4,
 "nbformat_minor": 5
}
