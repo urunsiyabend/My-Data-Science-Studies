{
 "cells": [
  {
   "cell_type": "markdown",
   "id": "1a4404a1-70ec-4c84-ad72-e384f537f661",
   "metadata": {},
   "source": [
    "# KNN (K-Nearest Neighbors)"
   ]
  },
  {
   "attachments": {
    "68404cd4-ba0d-4850-99ec-74a2f137f35f.png": {
     "image/png": "[encoded data removed]"
    }
   },
   "cell_type": "markdown",
   "id": "e47e0e7d-7ac9-4784-888f-dd8d30923202",
   "metadata": {},
   "source": [
    "![image.png](attachment:68404cd4-ba0d-4850-99ec-74a2f137f35f.png)"
   ]
  },
  {
   "cell_type": "markdown",
   "id": "70d7c3bc-856a-4b34-a8f1-27d2f8dd68e7",
   "metadata": {},
   "source": [
    "## Model"
   ]
  },
  {
   "cell_type": "code",
   "execution_count": 1,
   "id": "23916f0d-cc49-42b6-b7b2-55ce4f25f25f",
   "metadata": {},
   "outputs": [],
   "source": [
    "import pandas as pd\n",
    "from sklearn.model_selection import train_test_split\n",
    "import numpy as np\n",
    "hit = pd.read_csv(\"../../Datasets/Hitters.csv\")\n",
    "df = hit.copy()\n",
    "df = df.dropna()\n",
    "ms = pd.get_dummies(df[['League', 'Division', 'NewLeague']])\n",
    "y = df['Salary']\n",
    "X_ = df.drop(['Salary', 'Division', 'League', 'NewLeague'], axis=1).astype('float64')\n",
    "X = pd.concat([X_, ms[['League_N', 'Division_W', 'NewLeague_N']]], axis=1)\n",
    "X_train, X_test, y_train, y_test = train_test_split(X, y, test_size=.25, random_state=42)"
   ]
  },
  {
   "cell_type": "code",
   "execution_count": 2,
   "id": "e67fd91b-c8f8-48bd-a6c5-974e515bafcb",
   "metadata": {},
   "outputs": [],
   "source": [
    "from sklearn.neighbors import KNeighborsRegressor"
   ]
  },
  {
   "cell_type": "code",
   "execution_count": 3,
   "id": "27ab4333-e9e9-4534-8fc3-830a65123433",
   "metadata": {},
   "outputs": [],
   "source": [
    "knn_model = KNeighborsRegressor().fit(X_train, y_train)"
   ]
  },
  {
   "cell_type": "markdown",
   "id": "ec94da26-e195-427c-89c5-1c3938c64645",
   "metadata": {},
   "source": [
    "## Prediction"
   ]
  },
  {
   "cell_type": "code",
   "execution_count": 4,
   "id": "ed4231e2-51a7-41eb-b1bc-f0a203c219f5",
   "metadata": {},
   "outputs": [],
   "source": [
    "from sklearn.metrics import mean_squared_error, r2_score"
   ]
  },
  {
   "cell_type": "code",
   "execution_count": 5,
   "id": "c867c4c7-8943-4bab-8f90-9d2136862291",
   "metadata": {},
   "outputs": [],
   "source": [
    "y_pred = knn_model.predict(X_test)"
   ]
  },
  {
   "cell_type": "code",
   "execution_count": 6,
   "id": "25e7067d-a339-44d4-ad65-bd75779ab48e",
   "metadata": {},
   "outputs": [
    {
     "data": {
      "text/plain": [
       "426.6570764525201"
      ]
     },
     "execution_count": 6,
     "metadata": {},
     "output_type": "execute_result"
    }
   ],
   "source": [
    "np.sqrt(mean_squared_error(y_test, y_pred))"
   ]
  },
  {
   "cell_type": "code",
   "execution_count": 7,
   "id": "dc9771c7-26f5-4b5b-8310-01aa6b0ccd5c",
   "metadata": {},
   "outputs": [
    {
     "data": {
      "text/plain": [
       "0.1590920400477076"
      ]
     },
     "execution_count": 7,
     "metadata": {},
     "output_type": "execute_result"
    }
   ],
   "source": [
    "r2_score(y_test, y_pred)"
   ]
  },
  {
   "cell_type": "markdown",
   "id": "752f09e3-07ea-4cb4-8777-6e70341a0157",
   "metadata": {},
   "source": [
    "## Model Tuning"
   ]
  },
  {
   "cell_type": "code",
   "execution_count": 8,
   "id": "28880dc3-b438-4e7b-8a47-00be90b39ef9",
   "metadata": {},
   "outputs": [],
   "source": [
    "from sklearn.model_selection import GridSearchCV"
   ]
  },
  {
   "cell_type": "code",
   "execution_count": 9,
   "id": "29b7c209-c513-4b59-8a95-25d46ba93db4",
   "metadata": {},
   "outputs": [],
   "source": [
    "params = {'n_neighbors': np.arange(1, 30, 1)}"
   ]
  },
  {
   "cell_type": "code",
   "execution_count": 10,
   "id": "7b39865e-c68d-480f-a256-f0133eb74980",
   "metadata": {},
   "outputs": [],
   "source": [
    "knn = KNeighborsRegressor()"
   ]
  },
  {
   "cell_type": "code",
   "execution_count": 11,
   "id": "d5213249-4250-4e77-b3c5-34183965de5d",
   "metadata": {},
   "outputs": [],
   "source": [
    "knn_cv = GridSearchCV(knn, params, cv=10)"
   ]
  },
  {
   "cell_type": "code",
   "execution_count": 12,
   "id": "09062e38-343d-416d-9f86-44e95c049028",
   "metadata": {},
   "outputs": [
    {
     "data": {
      "text/plain": [
       "GridSearchCV(cv=10, estimator=KNeighborsRegressor(),\n",
       "             param_grid={'n_neighbors': array([ 1,  2,  3,  4,  5,  6,  7,  8,  9, 10, 11, 12, 13, 14, 15, 16, 17,\n",
       "       18, 19, 20, 21, 22, 23, 24, 25, 26, 27, 28, 29])})"
      ]
     },
     "execution_count": 12,
     "metadata": {},
     "output_type": "execute_result"
    }
   ],
   "source": [
    "knn_cv.fit(X_train, y_train)"
   ]
  },
  {
   "cell_type": "code",
   "execution_count": 13,
   "id": "4a3702b2-7ee9-4973-9147-030bd0f17872",
   "metadata": {},
   "outputs": [
    {
     "data": {
      "text/plain": [
       "{'n_neighbors': 8}"
      ]
     },
     "execution_count": 13,
     "metadata": {},
     "output_type": "execute_result"
    }
   ],
   "source": [
    "knn_cv.best_params_"
   ]
  },
  {
   "cell_type": "code",
   "execution_count": 14,
   "id": "6392f582-2104-4c04-8875-92a072a61a30",
   "metadata": {},
   "outputs": [],
   "source": [
    "knn_tuned = KNeighborsRegressor(n_neighbors=knn_cv.best_params_['n_neighbors'])"
   ]
  },
  {
   "cell_type": "code",
   "execution_count": 15,
   "id": "8632a2f0-54b9-48a8-9714-38c25df4eb01",
   "metadata": {},
   "outputs": [
    {
     "data": {
      "text/plain": [
       "KNeighborsRegressor(n_neighbors=8)"
      ]
     },
     "execution_count": 15,
     "metadata": {},
     "output_type": "execute_result"
    }
   ],
   "source": [
    "knn_tuned.fit(X_train, y_train)"
   ]
  },
  {
   "cell_type": "code",
   "execution_count": 16,
   "id": "a76d39bc-79f3-4314-88b5-cd1f12ca0b06",
   "metadata": {},
   "outputs": [],
   "source": [
    "y_pred = knn_tuned.predict(X_test)"
   ]
  },
  {
   "cell_type": "code",
   "execution_count": 17,
   "id": "8ffbb602-e2b9-4025-9a40-647f63162ca6",
   "metadata": {},
   "outputs": [],
   "source": [
    "from sklearn.metrics import mean_squared_error, r2_score"
   ]
  },
  {
   "cell_type": "code",
   "execution_count": 18,
   "id": "180f350d-4d74-4ebf-913b-d81f0a69807c",
   "metadata": {},
   "outputs": [
    {
     "data": {
      "text/plain": [
       "413.7094731463598"
      ]
     },
     "execution_count": 18,
     "metadata": {},
     "output_type": "execute_result"
    }
   ],
   "source": [
    "np.sqrt(mean_squared_error(y_test, y_pred))"
   ]
  },
  {
   "cell_type": "code",
   "execution_count": 19,
   "id": "cfe4adc7-ecf6-4103-bdf9-dc6ded1807ec",
   "metadata": {},
   "outputs": [
    {
     "data": {
      "text/plain": [
       "0.2093550739421146"
      ]
     },
     "execution_count": 19,
     "metadata": {},
     "output_type": "execute_result"
    }
   ],
   "source": [
    "r2_score(y_test, y_pred)"
   ]
  },
  {
   "cell_type": "code",
   "execution_count": null,
   "id": "77ceef8c-4c19-4a3b-9c1a-13724339da51",
   "metadata": {},
   "outputs": [],
   "source": []
  }
 ],
 "metadata": {
  "kernelspec": {
   "display_name": "Python 3 (ipykernel)",
   "language": "python",
   "name": "python3"
  },
  "language_info": {
   "codemirror_mode": {
    "name": "ipython",
    "version": 3
   },
   "file_extension": ".py",
   "mimetype": "text/x-python",
   "name": "python",
   "nbconvert_exporter": "python",
   "pygments_lexer": "ipython3",
   "version": "3.9.7"
  }
 },
 "nbformat": 4,
 "nbformat_minor": 5
}
