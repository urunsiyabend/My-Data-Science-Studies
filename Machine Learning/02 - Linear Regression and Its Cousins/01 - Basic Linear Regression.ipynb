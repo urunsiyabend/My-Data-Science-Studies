{
 "cells": [
  {
   "cell_type": "markdown",
   "id": "9cfb8a08-671e-4751-907b-64ef019783eb",
   "metadata": {},
   "source": [
    "# Basic Linear Regression"
   ]
  },
  {
   "cell_type": "code",
   "execution_count": null,
   "id": "18b8a556-289a-4247-8664-ac873727f878",
   "metadata": {},
   "outputs": [],
   "source": [
    "Base purpose "
   ]
  }
 ],
 "metadata": {
  "kernelspec": {
   "display_name": "Python 3 (ipykernel)",
   "language": "python",
   "name": "python3"
  },
  "language_info": {
   "codemirror_mode": {
    "name": "ipython",
    "version": 3
   },
   "file_extension": ".py",
   "mimetype": "text/x-python",
   "name": "python",
   "nbconvert_exporter": "python",
   "pygments_lexer": "ipython3",
   "version": "3.9.7"
  }
 },
 "nbformat": 4,
 "nbformat_minor": 5
}
