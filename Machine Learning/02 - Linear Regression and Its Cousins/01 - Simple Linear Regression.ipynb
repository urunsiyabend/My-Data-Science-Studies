{
 "cells": [
  {
   "cell_type": "markdown",
   "id": "9cfb8a08-671e-4751-907b-64ef019783eb",
   "metadata": {},
   "source": [
    "# Simple Linear Regression"
   ]
  },
  {
   "cell_type": "markdown",
   "id": "95bf25c6-4b30-47a2-b182-5ea2f509fc89",
   "metadata": {},
   "source": [
    "#### Base purpose of simple linear regression is to find the linear function that indicates the relation between dependent and independent variables. "
   ]
  },
  {
   "cell_type": "markdown",
   "id": "8af38906-5d83-446c-ae12-bef5e5fd22b2",
   "metadata": {
    "tags": []
   },
   "source": [
    "## Theory"
   ]
  },
  {
   "cell_type": "markdown",
   "id": "819e763b-6b9d-4a93-a30c-4ca61ddb2756",
   "metadata": {},
   "source": [
    "Population Theoretical"
   ]
  }
 ],
 "metadata": {
  "kernelspec": {
   "display_name": "Python 3 (ipykernel)",
   "language": "python",
   "name": "python3"
  },
  "language_info": {
   "codemirror_mode": {
    "name": "ipython",
    "version": 3
   },
   "file_extension": ".py",
   "mimetype": "text/x-python",
   "name": "python",
   "nbconvert_exporter": "python",
   "pygments_lexer": "ipython3",
   "version": "3.9.7"
  }
 },
 "nbformat": 4,
 "nbformat_minor": 5
}
