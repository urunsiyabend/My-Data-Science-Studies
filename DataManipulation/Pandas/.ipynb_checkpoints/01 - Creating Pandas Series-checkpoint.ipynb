{
 "cells": [
  {
   "cell_type": "markdown",
   "id": "79604bfb-ae09-49a6-8a84-7ecc2a4b675f",
   "metadata": {},
   "source": [
    "# Creating Pandas Series"
   ]
  },
  {
   "cell_type": "code",
   "execution_count": 1,
   "id": "d54bdbcf-19b2-4231-97e8-28461c65afd7",
   "metadata": {},
   "outputs": [],
   "source": [
    "import pandas as pd"
   ]
  },
  {
   "cell_type": "code",
   "execution_count": 9,
   "id": "8daef1af-bcaa-47f8-ab91-f954a3015910",
   "metadata": {},
   "outputs": [
    {
     "data": {
      "text/plain": [
       "0    34\n",
       "1    53\n",
       "2     2\n",
       "3     0\n",
       "4    21\n",
       "dtype: int64"
      ]
     },
     "execution_count": 9,
     "metadata": {},
     "output_type": "execute_result"
    }
   ],
   "source": [
    "seri = pd.Series([34, 53, 2, 0, 21])\n",
    "seri"
   ]
  },
  {
   "cell_type": "code",
   "execution_count": 4,
   "id": "d51bb009-22f2-4caa-8b30-bb8444cdd0c4",
   "metadata": {},
   "outputs": [
    {
     "data": {
      "text/plain": [
       "pandas.core.series.Series"
      ]
     },
     "execution_count": 4,
     "metadata": {},
     "output_type": "execute_result"
    }
   ],
   "source": [
    "type(seri)"
   ]
  },
  {
   "cell_type": "code",
   "execution_count": 5,
   "id": "ed067cb5-a8dc-4775-8da9-d4e60fd93bd1",
   "metadata": {},
   "outputs": [
    {
     "data": {
      "text/plain": [
       "[RangeIndex(start=0, stop=5, step=1)]"
      ]
     },
     "execution_count": 5,
     "metadata": {},
     "output_type": "execute_result"
    }
   ],
   "source": [
    "seri.axes"
   ]
  },
  {
   "cell_type": "code",
   "execution_count": 6,
   "id": "4b40c690-843c-4ca3-acab-4cab47af84a2",
   "metadata": {},
   "outputs": [
    {
     "data": {
      "text/plain": [
       "dtype('int64')"
      ]
     },
     "execution_count": 6,
     "metadata": {},
     "output_type": "execute_result"
    }
   ],
   "source": [
    "seri.dtype"
   ]
  },
  {
   "cell_type": "code",
   "execution_count": 7,
   "id": "caa9ab2b-ef27-4d3b-863e-ed64c806b8e1",
   "metadata": {},
   "outputs": [
    {
     "data": {
      "text/plain": [
       "5"
      ]
     },
     "execution_count": 7,
     "metadata": {},
     "output_type": "execute_result"
    }
   ],
   "source": [
    "seri.size"
   ]
  },
  {
   "cell_type": "code",
   "execution_count": 8,
   "id": "aef69845-01fa-457c-8b6c-474beb3afda1",
   "metadata": {},
   "outputs": [
    {
     "data": {
      "text/plain": [
       "1"
      ]
     },
     "execution_count": 8,
     "metadata": {},
     "output_type": "execute_result"
    }
   ],
   "source": [
    "seri.ndim"
   ]
  },
  {
   "cell_type": "code",
   "execution_count": 13,
   "id": "acbf85b8-e60d-4020-a9c9-c9f932e1d037",
   "metadata": {},
   "outputs": [
    {
     "data": {
      "text/plain": [
       "array([34, 53,  2,  0, 21], dtype=int64)"
      ]
     },
     "execution_count": 13,
     "metadata": {},
     "output_type": "execute_result"
    }
   ],
   "source": [
    "seri.values"
   ]
  },
  {
   "cell_type": "code",
   "execution_count": 14,
   "id": "44d2a634-b221-4485-b260-8d7c6ad662e1",
   "metadata": {},
   "outputs": [
    {
     "data": {
      "text/plain": [
       "0    34\n",
       "1    53\n",
       "2     2\n",
       "3     0\n",
       "4    21\n",
       "dtype: int64"
      ]
     },
     "execution_count": 14,
     "metadata": {},
     "output_type": "execute_result"
    }
   ],
   "source": [
    "seri.head()"
   ]
  },
  {
   "cell_type": "code",
   "execution_count": 15,
   "id": "0ed57ab3-4e13-4d53-ade0-0ef7fba0c778",
   "metadata": {},
   "outputs": [
    {
     "data": {
      "text/plain": [
       "0    34\n",
       "1    53\n",
       "2     2\n",
       "3     0\n",
       "4    21\n",
       "dtype: int64"
      ]
     },
     "execution_count": 15,
     "metadata": {},
     "output_type": "execute_result"
    }
   ],
   "source": [
    "seri.tail()"
   ]
  },
  {
   "cell_type": "markdown",
   "id": "be72636e-b136-4201-9754-7d746b6f9c0b",
   "metadata": {},
   "source": [
    "### Index Denotation"
   ]
  },
  {
   "cell_type": "code",
   "execution_count": 19,
   "id": "1f87ef3c-0fc4-4f59-951a-4f63966b63be",
   "metadata": {},
   "outputs": [
    {
     "data": {
      "text/plain": [
       "1     23\n",
       "2     45\n",
       "3     21\n",
       "4    456\n",
       "5     20\n",
       "6     23\n",
       "dtype: int64"
      ]
     },
     "execution_count": 19,
     "metadata": {},
     "output_type": "execute_result"
    }
   ],
   "source": [
    "pd.Series([23, 45, 21, 456, 20, 23], index=[1, 2, 3, 4, 5, 6])"
   ]
  },
  {
   "cell_type": "code",
   "execution_count": 21,
   "id": "186f21c8-1e18-4914-ba1f-e1e1b17a8c93",
   "metadata": {},
   "outputs": [],
   "source": [
    "seri = pd.Series([23, 45, 21, 456, 20, 23], index=[\"a\", \"b\", \"c\", \"d\", \"e\", \"f\"])"
   ]
  },
  {
   "cell_type": "code",
   "execution_count": 22,
   "id": "c430692a-e751-41b3-89d3-5bdb11fc8ccd",
   "metadata": {},
   "outputs": [
    {
     "data": {
      "text/plain": [
       "23"
      ]
     },
     "execution_count": 22,
     "metadata": {},
     "output_type": "execute_result"
    }
   ],
   "source": [
    "seri[\"a\"]"
   ]
  },
  {
   "cell_type": "code",
   "execution_count": 24,
   "id": "ae857adf-7734-4988-bb25-7ef82d7044ab",
   "metadata": {},
   "outputs": [
    {
     "data": {
      "text/plain": [
       "a     23\n",
       "b     45\n",
       "c     21\n",
       "d    456\n",
       "dtype: int64"
      ]
     },
     "execution_count": 24,
     "metadata": {},
     "output_type": "execute_result"
    }
   ],
   "source": [
    "seri[\"a\": \"d\"]"
   ]
  },
  {
   "cell_type": "markdown",
   "id": "84a8e049-f25f-4c6d-bfe2-ea56f9f033d7",
   "metadata": {},
   "source": [
    "#### Creating Series with Python Dictionaries"
   ]
  },
  {
   "cell_type": "code",
   "execution_count": 25,
   "id": "82efcbad-6835-4afb-9368-a1e579392df7",
   "metadata": {},
   "outputs": [],
   "source": [
    "dictionary = {\n",
    "    \"a\": 232,\n",
    "    \"b\": 54,\n",
    "    \"c\": 23,\n",
    "}"
   ]
  },
  {
   "cell_type": "code",
   "execution_count": 28,
   "id": "4b298214-8b3c-4914-81e7-7247459a73ef",
   "metadata": {},
   "outputs": [],
   "source": [
    "seri = pd.Series(dictionary)"
   ]
  },
  {
   "cell_type": "code",
   "execution_count": null,
   "id": "56474654-a15c-4c68-8db5-3edde60e67cf",
   "metadata": {},
   "outputs": [
    {
     "data": {
      "text/plain": [
       "a    232\n",
       "b     54\n",
       "c     23\n",
       "dtype: int64"
      ]
     },
     "execution_count": 30,
     "metadata": {},
     "output_type": "execute_result"
    }
   ],
   "source": [
    "seri"
   ]
  },
  {
   "cell_type": "markdown",
   "id": "c3d47cbf-49a5-4ef0-96a4-74e7c9252d1c",
   "metadata": {},
   "source": [
    "### Combining Multiple Series"
   ]
  },
  {
   "cell_type": "code",
   "execution_count": 32,
   "id": "0f200227-8c39-40b2-b38d-4a3279b28b69",
   "metadata": {},
   "outputs": [
    {
     "data": {
      "text/plain": [
       "a    232\n",
       "a    232\n",
       "dtype: int64"
      ]
     },
     "execution_count": 32,
     "metadata": {},
     "output_type": "execute_result"
    }
   ],
   "source": [
    "pd.concat([seri, seri])"
   ]
  },
  {
   "cell_type": "code",
   "execution_count": null,
   "id": "ddb9f182-ebd3-4631-8626-b7be0f83da88",
   "metadata": {},
   "outputs": [],
   "source": []
  }
 ],
 "metadata": {
  "kernelspec": {
   "display_name": "Python 3 (ipykernel)",
   "language": "python",
   "name": "python3"
  },
  "language_info": {
   "codemirror_mode": {
    "name": "ipython",
    "version": 3
   },
   "file_extension": ".py",
   "mimetype": "text/x-python",
   "name": "python",
   "nbconvert_exporter": "python",
   "pygments_lexer": "ipython3",
   "version": "3.9.7"
  }
 },
 "nbformat": 4,
 "nbformat_minor": 5
}
