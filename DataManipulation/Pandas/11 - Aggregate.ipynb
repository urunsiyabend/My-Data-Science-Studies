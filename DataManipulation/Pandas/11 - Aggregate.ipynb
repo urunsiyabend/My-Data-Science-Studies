{
 "cells": [
  {
   "cell_type": "markdown",
   "id": "df6dee19-6bd9-454e-a66b-4ba34591c91e",
   "metadata": {},
   "source": [
    "# Advanced Aggregate Functions"
   ]
  },
  {
   "cell_type": "markdown",
   "id": "4854a9da-afb0-4c9d-b37d-d1933f16afe1",
   "metadata": {},
   "source": [
    "* aggregate\n",
    "* filter\n",
    "* transform\n",
    "* apply"
   ]
  },
  {
   "cell_type": "code",
   "execution_count": 52,
   "id": "f3e43237-6c88-484b-9a83-fb2bf9a4991e",
   "metadata": {},
   "outputs": [],
   "source": [
    "import pandas as pd\n",
    "import numpy as np"
   ]
  },
  {
   "cell_type": "code",
   "execution_count": 53,
   "id": "cba5cd30-8a06-4d77-9075-9f0cd297b236",
   "metadata": {},
   "outputs": [],
   "source": [
    "df = pd.DataFrame(\n",
    "        {\n",
    "            'groups': ['A', 'B', 'C', 'A', 'B', 'C'],\n",
    "            'variable1': np.random.rand(1, 6)[0] * 100,\n",
    "            'variable2': np.random.rand(1, 6)[0] * 100,\n",
    "        }\n",
    ")"
   ]
  },
  {
   "cell_type": "code",
   "execution_count": 54,
   "id": "09d8c330-e8d1-435b-8609-1ff1d585d26c",
   "metadata": {},
   "outputs": [
    {
     "data": {
      "text/html": [
       "<div>\n",
       "<style scoped>\n",
       "    .dataframe tbody tr th:only-of-type {\n",
       "        vertical-align: middle;\n",
       "    }\n",
       "\n",
       "    .dataframe tbody tr th {\n",
       "        vertical-align: top;\n",
       "    }\n",
       "\n",
       "    .dataframe thead th {\n",
       "        text-align: right;\n",
       "    }\n",
       "</style>\n",
       "<table border=\"1\" class=\"dataframe\">\n",
       "  <thead>\n",
       "    <tr style=\"text-align: right;\">\n",
       "      <th></th>\n",
       "      <th>groups</th>\n",
       "      <th>variable1</th>\n",
       "      <th>variable2</th>\n",
       "    </tr>\n",
       "  </thead>\n",
       "  <tbody>\n",
       "    <tr>\n",
       "      <th>0</th>\n",
       "      <td>A</td>\n",
       "      <td>86.939861</td>\n",
       "      <td>98.791215</td>\n",
       "    </tr>\n",
       "    <tr>\n",
       "      <th>1</th>\n",
       "      <td>B</td>\n",
       "      <td>29.580588</td>\n",
       "      <td>81.170852</td>\n",
       "    </tr>\n",
       "    <tr>\n",
       "      <th>2</th>\n",
       "      <td>C</td>\n",
       "      <td>22.509174</td>\n",
       "      <td>81.424642</td>\n",
       "    </tr>\n",
       "    <tr>\n",
       "      <th>3</th>\n",
       "      <td>A</td>\n",
       "      <td>70.040478</td>\n",
       "      <td>22.088352</td>\n",
       "    </tr>\n",
       "    <tr>\n",
       "      <th>4</th>\n",
       "      <td>B</td>\n",
       "      <td>50.672852</td>\n",
       "      <td>47.466167</td>\n",
       "    </tr>\n",
       "    <tr>\n",
       "      <th>5</th>\n",
       "      <td>C</td>\n",
       "      <td>33.434801</td>\n",
       "      <td>23.994841</td>\n",
       "    </tr>\n",
       "  </tbody>\n",
       "</table>\n",
       "</div>"
      ],
      "text/plain": [
       "  groups  variable1  variable2\n",
       "0      A  86.939861  98.791215\n",
       "1      B  29.580588  81.170852\n",
       "2      C  22.509174  81.424642\n",
       "3      A  70.040478  22.088352\n",
       "4      B  50.672852  47.466167\n",
       "5      C  33.434801  23.994841"
      ]
     },
     "execution_count": 54,
     "metadata": {},
     "output_type": "execute_result"
    }
   ],
   "source": [
    "df"
   ]
  },
  {
   "cell_type": "code",
   "execution_count": 55,
   "id": "08a17332-4055-47e2-bcff-c9f6fed0a235",
   "metadata": {},
   "outputs": [
    {
     "data": {
      "text/html": [
       "<div>\n",
       "<style scoped>\n",
       "    .dataframe tbody tr th:only-of-type {\n",
       "        vertical-align: middle;\n",
       "    }\n",
       "\n",
       "    .dataframe tbody tr th {\n",
       "        vertical-align: top;\n",
       "    }\n",
       "\n",
       "    .dataframe thead th {\n",
       "        text-align: right;\n",
       "    }\n",
       "</style>\n",
       "<table border=\"1\" class=\"dataframe\">\n",
       "  <thead>\n",
       "    <tr style=\"text-align: right;\">\n",
       "      <th></th>\n",
       "      <th>groups</th>\n",
       "      <th>A</th>\n",
       "      <th>B</th>\n",
       "      <th>C</th>\n",
       "    </tr>\n",
       "  </thead>\n",
       "  <tbody>\n",
       "    <tr>\n",
       "      <th rowspan=\"8\" valign=\"top\">variable1</th>\n",
       "      <th>count</th>\n",
       "      <td>2.000000</td>\n",
       "      <td>2.000000</td>\n",
       "      <td>2.000000</td>\n",
       "    </tr>\n",
       "    <tr>\n",
       "      <th>mean</th>\n",
       "      <td>78.490170</td>\n",
       "      <td>40.126720</td>\n",
       "      <td>27.971988</td>\n",
       "    </tr>\n",
       "    <tr>\n",
       "      <th>std</th>\n",
       "      <td>11.949668</td>\n",
       "      <td>14.914483</td>\n",
       "      <td>7.725585</td>\n",
       "    </tr>\n",
       "    <tr>\n",
       "      <th>min</th>\n",
       "      <td>70.040478</td>\n",
       "      <td>29.580588</td>\n",
       "      <td>22.509174</td>\n",
       "    </tr>\n",
       "    <tr>\n",
       "      <th>25%</th>\n",
       "      <td>74.265324</td>\n",
       "      <td>34.853654</td>\n",
       "      <td>25.240581</td>\n",
       "    </tr>\n",
       "    <tr>\n",
       "      <th>50%</th>\n",
       "      <td>78.490170</td>\n",
       "      <td>40.126720</td>\n",
       "      <td>27.971988</td>\n",
       "    </tr>\n",
       "    <tr>\n",
       "      <th>75%</th>\n",
       "      <td>82.715015</td>\n",
       "      <td>45.399786</td>\n",
       "      <td>30.703394</td>\n",
       "    </tr>\n",
       "    <tr>\n",
       "      <th>max</th>\n",
       "      <td>86.939861</td>\n",
       "      <td>50.672852</td>\n",
       "      <td>33.434801</td>\n",
       "    </tr>\n",
       "    <tr>\n",
       "      <th rowspan=\"8\" valign=\"top\">variable2</th>\n",
       "      <th>count</th>\n",
       "      <td>2.000000</td>\n",
       "      <td>2.000000</td>\n",
       "      <td>2.000000</td>\n",
       "    </tr>\n",
       "    <tr>\n",
       "      <th>mean</th>\n",
       "      <td>60.439784</td>\n",
       "      <td>64.318510</td>\n",
       "      <td>52.709742</td>\n",
       "    </tr>\n",
       "    <tr>\n",
       "      <th>std</th>\n",
       "      <td>54.237114</td>\n",
       "      <td>23.832811</td>\n",
       "      <td>40.609002</td>\n",
       "    </tr>\n",
       "    <tr>\n",
       "      <th>min</th>\n",
       "      <td>22.088352</td>\n",
       "      <td>47.466167</td>\n",
       "      <td>23.994841</td>\n",
       "    </tr>\n",
       "    <tr>\n",
       "      <th>25%</th>\n",
       "      <td>41.264068</td>\n",
       "      <td>55.892338</td>\n",
       "      <td>38.352291</td>\n",
       "    </tr>\n",
       "    <tr>\n",
       "      <th>50%</th>\n",
       "      <td>60.439784</td>\n",
       "      <td>64.318510</td>\n",
       "      <td>52.709742</td>\n",
       "    </tr>\n",
       "    <tr>\n",
       "      <th>75%</th>\n",
       "      <td>79.615500</td>\n",
       "      <td>72.744681</td>\n",
       "      <td>67.067192</td>\n",
       "    </tr>\n",
       "    <tr>\n",
       "      <th>max</th>\n",
       "      <td>98.791215</td>\n",
       "      <td>81.170852</td>\n",
       "      <td>81.424642</td>\n",
       "    </tr>\n",
       "  </tbody>\n",
       "</table>\n",
       "</div>"
      ],
      "text/plain": [
       "groups                   A          B          C\n",
       "variable1 count   2.000000   2.000000   2.000000\n",
       "          mean   78.490170  40.126720  27.971988\n",
       "          std    11.949668  14.914483   7.725585\n",
       "          min    70.040478  29.580588  22.509174\n",
       "          25%    74.265324  34.853654  25.240581\n",
       "          50%    78.490170  40.126720  27.971988\n",
       "          75%    82.715015  45.399786  30.703394\n",
       "          max    86.939861  50.672852  33.434801\n",
       "variable2 count   2.000000   2.000000   2.000000\n",
       "          mean   60.439784  64.318510  52.709742\n",
       "          std    54.237114  23.832811  40.609002\n",
       "          min    22.088352  47.466167  23.994841\n",
       "          25%    41.264068  55.892338  38.352291\n",
       "          50%    60.439784  64.318510  52.709742\n",
       "          75%    79.615500  72.744681  67.067192\n",
       "          max    98.791215  81.170852  81.424642"
      ]
     },
     "execution_count": 55,
     "metadata": {},
     "output_type": "execute_result"
    }
   ],
   "source": [
    "df.groupby('groups').describe().T"
   ]
  },
  {
   "cell_type": "markdown",
   "id": "ae7fd3c3-6043-432a-8955-8f4993ca004d",
   "metadata": {},
   "source": [
    "### Aggregate"
   ]
  },
  {
   "cell_type": "code",
   "execution_count": 170,
   "id": "05aca9b7-8f26-4231-a289-1493eed7bb57",
   "metadata": {},
   "outputs": [
    {
     "data": {
      "text/html": [
       "<div>\n",
       "<style scoped>\n",
       "    .dataframe tbody tr th:only-of-type {\n",
       "        vertical-align: middle;\n",
       "    }\n",
       "\n",
       "    .dataframe tbody tr th {\n",
       "        vertical-align: top;\n",
       "    }\n",
       "\n",
       "    .dataframe thead th {\n",
       "        text-align: right;\n",
       "    }\n",
       "</style>\n",
       "<table border=\"1\" class=\"dataframe\">\n",
       "  <thead>\n",
       "    <tr style=\"text-align: right;\">\n",
       "      <th></th>\n",
       "      <th>groups</th>\n",
       "      <th>A</th>\n",
       "      <th>B</th>\n",
       "      <th>C</th>\n",
       "    </tr>\n",
       "  </thead>\n",
       "  <tbody>\n",
       "    <tr>\n",
       "      <th rowspan=\"3\" valign=\"top\">variable1</th>\n",
       "      <th>std</th>\n",
       "      <td>11.949668</td>\n",
       "      <td>14.914483</td>\n",
       "      <td>7.725585</td>\n",
       "    </tr>\n",
       "    <tr>\n",
       "      <th>median</th>\n",
       "      <td>78.490170</td>\n",
       "      <td>40.126720</td>\n",
       "      <td>27.971988</td>\n",
       "    </tr>\n",
       "    <tr>\n",
       "      <th>max</th>\n",
       "      <td>86.939861</td>\n",
       "      <td>50.672852</td>\n",
       "      <td>33.434801</td>\n",
       "    </tr>\n",
       "    <tr>\n",
       "      <th rowspan=\"3\" valign=\"top\">variable2</th>\n",
       "      <th>std</th>\n",
       "      <td>54.237114</td>\n",
       "      <td>23.832811</td>\n",
       "      <td>40.609002</td>\n",
       "    </tr>\n",
       "    <tr>\n",
       "      <th>median</th>\n",
       "      <td>60.439784</td>\n",
       "      <td>64.318510</td>\n",
       "      <td>52.709742</td>\n",
       "    </tr>\n",
       "    <tr>\n",
       "      <th>max</th>\n",
       "      <td>98.791215</td>\n",
       "      <td>81.170852</td>\n",
       "      <td>81.424642</td>\n",
       "    </tr>\n",
       "  </tbody>\n",
       "</table>\n",
       "</div>"
      ],
      "text/plain": [
       "groups                    A          B          C\n",
       "variable1 std     11.949668  14.914483   7.725585\n",
       "          median  78.490170  40.126720  27.971988\n",
       "          max     86.939861  50.672852  33.434801\n",
       "variable2 std     54.237114  23.832811  40.609002\n",
       "          median  60.439784  64.318510  52.709742\n",
       "          max     98.791215  81.170852  81.424642"
      ]
     },
     "execution_count": 170,
     "metadata": {},
     "output_type": "execute_result"
    }
   ],
   "source": [
    "df.groupby('groups').aggregate(['std', np.median, 'max']).T"
   ]
  },
  {
   "cell_type": "code",
   "execution_count": 59,
   "id": "bd3420a4-476c-4407-a2d5-4592d5d266e1",
   "metadata": {},
   "outputs": [
    {
     "data": {
      "text/html": [
       "<div>\n",
       "<style scoped>\n",
       "    .dataframe tbody tr th:only-of-type {\n",
       "        vertical-align: middle;\n",
       "    }\n",
       "\n",
       "    .dataframe tbody tr th {\n",
       "        vertical-align: top;\n",
       "    }\n",
       "\n",
       "    .dataframe thead th {\n",
       "        text-align: right;\n",
       "    }\n",
       "</style>\n",
       "<table border=\"1\" class=\"dataframe\">\n",
       "  <thead>\n",
       "    <tr style=\"text-align: right;\">\n",
       "      <th></th>\n",
       "      <th>variable1</th>\n",
       "      <th>variable2</th>\n",
       "    </tr>\n",
       "    <tr>\n",
       "      <th>groups</th>\n",
       "      <th></th>\n",
       "      <th></th>\n",
       "    </tr>\n",
       "  </thead>\n",
       "  <tbody>\n",
       "    <tr>\n",
       "      <th>A</th>\n",
       "      <td>70.040478</td>\n",
       "      <td>60.439784</td>\n",
       "    </tr>\n",
       "    <tr>\n",
       "      <th>B</th>\n",
       "      <td>29.580588</td>\n",
       "      <td>64.318510</td>\n",
       "    </tr>\n",
       "    <tr>\n",
       "      <th>C</th>\n",
       "      <td>22.509174</td>\n",
       "      <td>52.709742</td>\n",
       "    </tr>\n",
       "  </tbody>\n",
       "</table>\n",
       "</div>"
      ],
      "text/plain": [
       "        variable1  variable2\n",
       "groups                      \n",
       "A       70.040478  60.439784\n",
       "B       29.580588  64.318510\n",
       "C       22.509174  52.709742"
      ]
     },
     "execution_count": 59,
     "metadata": {},
     "output_type": "execute_result"
    }
   ],
   "source": [
    "df.groupby('groups').aggregate({'variable1': 'min', 'variable2': np.median})"
   ]
  },
  {
   "cell_type": "markdown",
   "id": "309bfae9-2ccc-4e6a-8d1c-bbb6c450bcc2",
   "metadata": {},
   "source": [
    "### Filter"
   ]
  },
  {
   "cell_type": "code",
   "execution_count": 158,
   "id": "be4e2b1c-6622-4bb1-a1ff-7c8a64b8be26",
   "metadata": {},
   "outputs": [],
   "source": [
    "def filter_func(x):\n",
    "    return x['variable1'].std() > 12"
   ]
  },
  {
   "cell_type": "code",
   "execution_count": 159,
   "id": "3040d3d4-18cf-4b1f-a3d4-2a998c818509",
   "metadata": {},
   "outputs": [
    {
     "data": {
      "text/html": [
       "<div>\n",
       "<style scoped>\n",
       "    .dataframe tbody tr th:only-of-type {\n",
       "        vertical-align: middle;\n",
       "    }\n",
       "\n",
       "    .dataframe tbody tr th {\n",
       "        vertical-align: top;\n",
       "    }\n",
       "\n",
       "    .dataframe thead th {\n",
       "        text-align: right;\n",
       "    }\n",
       "</style>\n",
       "<table border=\"1\" class=\"dataframe\">\n",
       "  <thead>\n",
       "    <tr style=\"text-align: right;\">\n",
       "      <th></th>\n",
       "      <th>variable1</th>\n",
       "      <th>variable2</th>\n",
       "    </tr>\n",
       "    <tr>\n",
       "      <th>groups</th>\n",
       "      <th></th>\n",
       "      <th></th>\n",
       "    </tr>\n",
       "  </thead>\n",
       "  <tbody>\n",
       "    <tr>\n",
       "      <th>A</th>\n",
       "      <td>11.949668</td>\n",
       "      <td>54.237114</td>\n",
       "    </tr>\n",
       "    <tr>\n",
       "      <th>B</th>\n",
       "      <td>14.914483</td>\n",
       "      <td>23.832811</td>\n",
       "    </tr>\n",
       "    <tr>\n",
       "      <th>C</th>\n",
       "      <td>7.725585</td>\n",
       "      <td>40.609002</td>\n",
       "    </tr>\n",
       "  </tbody>\n",
       "</table>\n",
       "</div>"
      ],
      "text/plain": [
       "        variable1  variable2\n",
       "groups                      \n",
       "A       11.949668  54.237114\n",
       "B       14.914483  23.832811\n",
       "C        7.725585  40.609002"
      ]
     },
     "execution_count": 159,
     "metadata": {},
     "output_type": "execute_result"
    }
   ],
   "source": [
    "df.groupby('groups').std()"
   ]
  },
  {
   "cell_type": "code",
   "execution_count": 160,
   "id": "e2166af2-c397-42ac-8992-db67bf08a06c",
   "metadata": {},
   "outputs": [
    {
     "data": {
      "text/html": [
       "<div>\n",
       "<style scoped>\n",
       "    .dataframe tbody tr th:only-of-type {\n",
       "        vertical-align: middle;\n",
       "    }\n",
       "\n",
       "    .dataframe tbody tr th {\n",
       "        vertical-align: top;\n",
       "    }\n",
       "\n",
       "    .dataframe thead th {\n",
       "        text-align: right;\n",
       "    }\n",
       "</style>\n",
       "<table border=\"1\" class=\"dataframe\">\n",
       "  <thead>\n",
       "    <tr style=\"text-align: right;\">\n",
       "      <th></th>\n",
       "      <th>groups</th>\n",
       "      <th>variable1</th>\n",
       "      <th>variable2</th>\n",
       "    </tr>\n",
       "  </thead>\n",
       "  <tbody>\n",
       "    <tr>\n",
       "      <th>1</th>\n",
       "      <td>B</td>\n",
       "      <td>29.580588</td>\n",
       "      <td>81.170852</td>\n",
       "    </tr>\n",
       "    <tr>\n",
       "      <th>4</th>\n",
       "      <td>B</td>\n",
       "      <td>50.672852</td>\n",
       "      <td>47.466167</td>\n",
       "    </tr>\n",
       "  </tbody>\n",
       "</table>\n",
       "</div>"
      ],
      "text/plain": [
       "  groups  variable1  variable2\n",
       "1      B  29.580588  81.170852\n",
       "4      B  50.672852  47.466167"
      ]
     },
     "execution_count": 160,
     "metadata": {},
     "output_type": "execute_result"
    }
   ],
   "source": [
    "df.groupby('groups').filter(filter_func)"
   ]
  },
  {
   "cell_type": "markdown",
   "id": "46271c05-2348-406b-95bb-0f90eab1c765",
   "metadata": {},
   "source": [
    "### Transform"
   ]
  },
  {
   "cell_type": "code",
   "execution_count": 161,
   "id": "13531c3f-e36c-458f-a0f4-24559edc05ea",
   "metadata": {},
   "outputs": [
    {
     "data": {
      "text/html": [
       "<div>\n",
       "<style scoped>\n",
       "    .dataframe tbody tr th:only-of-type {\n",
       "        vertical-align: middle;\n",
       "    }\n",
       "\n",
       "    .dataframe tbody tr th {\n",
       "        vertical-align: top;\n",
       "    }\n",
       "\n",
       "    .dataframe thead th {\n",
       "        text-align: right;\n",
       "    }\n",
       "</style>\n",
       "<table border=\"1\" class=\"dataframe\">\n",
       "  <thead>\n",
       "    <tr style=\"text-align: right;\">\n",
       "      <th></th>\n",
       "      <th>groups</th>\n",
       "      <th>variable1</th>\n",
       "      <th>variable2</th>\n",
       "    </tr>\n",
       "  </thead>\n",
       "  <tbody>\n",
       "    <tr>\n",
       "      <th>0</th>\n",
       "      <td>A</td>\n",
       "      <td>86.939861</td>\n",
       "      <td>98.791215</td>\n",
       "    </tr>\n",
       "    <tr>\n",
       "      <th>1</th>\n",
       "      <td>B</td>\n",
       "      <td>29.580588</td>\n",
       "      <td>81.170852</td>\n",
       "    </tr>\n",
       "    <tr>\n",
       "      <th>2</th>\n",
       "      <td>C</td>\n",
       "      <td>22.509174</td>\n",
       "      <td>81.424642</td>\n",
       "    </tr>\n",
       "    <tr>\n",
       "      <th>3</th>\n",
       "      <td>A</td>\n",
       "      <td>70.040478</td>\n",
       "      <td>22.088352</td>\n",
       "    </tr>\n",
       "    <tr>\n",
       "      <th>4</th>\n",
       "      <td>B</td>\n",
       "      <td>50.672852</td>\n",
       "      <td>47.466167</td>\n",
       "    </tr>\n",
       "    <tr>\n",
       "      <th>5</th>\n",
       "      <td>C</td>\n",
       "      <td>33.434801</td>\n",
       "      <td>23.994841</td>\n",
       "    </tr>\n",
       "  </tbody>\n",
       "</table>\n",
       "</div>"
      ],
      "text/plain": [
       "  groups  variable1  variable2\n",
       "0      A  86.939861  98.791215\n",
       "1      B  29.580588  81.170852\n",
       "2      C  22.509174  81.424642\n",
       "3      A  70.040478  22.088352\n",
       "4      B  50.672852  47.466167\n",
       "5      C  33.434801  23.994841"
      ]
     },
     "execution_count": 161,
     "metadata": {},
     "output_type": "execute_result"
    }
   ],
   "source": [
    "df"
   ]
  },
  {
   "cell_type": "code",
   "execution_count": 162,
   "id": "d5e068c9-5040-4bde-8931-5c90a7916033",
   "metadata": {},
   "outputs": [],
   "source": [
    "df_a = df.iloc[:, 1:3]"
   ]
  },
  {
   "cell_type": "code",
   "execution_count": 163,
   "id": "93cff6c5-14e0-4ec0-9c96-6aba0bdb6e34",
   "metadata": {},
   "outputs": [
    {
     "data": {
      "text/html": [
       "<div>\n",
       "<style scoped>\n",
       "    .dataframe tbody tr th:only-of-type {\n",
       "        vertical-align: middle;\n",
       "    }\n",
       "\n",
       "    .dataframe tbody tr th {\n",
       "        vertical-align: top;\n",
       "    }\n",
       "\n",
       "    .dataframe thead th {\n",
       "        text-align: right;\n",
       "    }\n",
       "</style>\n",
       "<table border=\"1\" class=\"dataframe\">\n",
       "  <thead>\n",
       "    <tr style=\"text-align: right;\">\n",
       "      <th></th>\n",
       "      <th>variable1</th>\n",
       "      <th>variable2</th>\n",
       "    </tr>\n",
       "  </thead>\n",
       "  <tbody>\n",
       "    <tr>\n",
       "      <th>0</th>\n",
       "      <td>1.503719</td>\n",
       "      <td>1.217562</td>\n",
       "    </tr>\n",
       "    <tr>\n",
       "      <th>1</th>\n",
       "      <td>-0.761492</td>\n",
       "      <td>0.676278</td>\n",
       "    </tr>\n",
       "    <tr>\n",
       "      <th>2</th>\n",
       "      <td>-1.040754</td>\n",
       "      <td>0.684075</td>\n",
       "    </tr>\n",
       "    <tr>\n",
       "      <th>3</th>\n",
       "      <td>0.836335</td>\n",
       "      <td>-1.138689</td>\n",
       "    </tr>\n",
       "    <tr>\n",
       "      <th>4</th>\n",
       "      <td>0.071476</td>\n",
       "      <td>-0.359103</td>\n",
       "    </tr>\n",
       "    <tr>\n",
       "      <th>5</th>\n",
       "      <td>-0.609283</td>\n",
       "      <td>-1.080123</td>\n",
       "    </tr>\n",
       "  </tbody>\n",
       "</table>\n",
       "</div>"
      ],
      "text/plain": [
       "   variable1  variable2\n",
       "0   1.503719   1.217562\n",
       "1  -0.761492   0.676278\n",
       "2  -1.040754   0.684075\n",
       "3   0.836335  -1.138689\n",
       "4   0.071476  -0.359103\n",
       "5  -0.609283  -1.080123"
      ]
     },
     "execution_count": 163,
     "metadata": {},
     "output_type": "execute_result"
    }
   ],
   "source": [
    "df_a.transform(lambda x: (x - x.mean()) / x.std()) "
   ]
  },
  {
   "cell_type": "markdown",
   "id": "29901654-cf15-40ab-a0ed-66604f8dfff0",
   "metadata": {},
   "source": [
    "### Apply"
   ]
  },
  {
   "cell_type": "code",
   "execution_count": 164,
   "id": "d6dcf5f2-1cad-4170-9252-f9870c23eb4b",
   "metadata": {},
   "outputs": [
    {
     "data": {
      "text/html": [
       "<div>\n",
       "<style scoped>\n",
       "    .dataframe tbody tr th:only-of-type {\n",
       "        vertical-align: middle;\n",
       "    }\n",
       "\n",
       "    .dataframe tbody tr th {\n",
       "        vertical-align: top;\n",
       "    }\n",
       "\n",
       "    .dataframe thead th {\n",
       "        text-align: right;\n",
       "    }\n",
       "</style>\n",
       "<table border=\"1\" class=\"dataframe\">\n",
       "  <thead>\n",
       "    <tr style=\"text-align: right;\">\n",
       "      <th></th>\n",
       "      <th>variable1</th>\n",
       "      <th>variable2</th>\n",
       "    </tr>\n",
       "  </thead>\n",
       "  <tbody>\n",
       "    <tr>\n",
       "      <th>0</th>\n",
       "      <td>86.939861</td>\n",
       "      <td>98.791215</td>\n",
       "    </tr>\n",
       "    <tr>\n",
       "      <th>1</th>\n",
       "      <td>29.580588</td>\n",
       "      <td>81.170852</td>\n",
       "    </tr>\n",
       "    <tr>\n",
       "      <th>2</th>\n",
       "      <td>22.509174</td>\n",
       "      <td>81.424642</td>\n",
       "    </tr>\n",
       "    <tr>\n",
       "      <th>3</th>\n",
       "      <td>70.040478</td>\n",
       "      <td>22.088352</td>\n",
       "    </tr>\n",
       "    <tr>\n",
       "      <th>4</th>\n",
       "      <td>50.672852</td>\n",
       "      <td>47.466167</td>\n",
       "    </tr>\n",
       "    <tr>\n",
       "      <th>5</th>\n",
       "      <td>33.434801</td>\n",
       "      <td>23.994841</td>\n",
       "    </tr>\n",
       "  </tbody>\n",
       "</table>\n",
       "</div>"
      ],
      "text/plain": [
       "   variable1  variable2\n",
       "0  86.939861  98.791215\n",
       "1  29.580588  81.170852\n",
       "2  22.509174  81.424642\n",
       "3  70.040478  22.088352\n",
       "4  50.672852  47.466167\n",
       "5  33.434801  23.994841"
      ]
     },
     "execution_count": 164,
     "metadata": {},
     "output_type": "execute_result"
    }
   ],
   "source": [
    "df_a"
   ]
  },
  {
   "cell_type": "code",
   "execution_count": 165,
   "id": "d8b65826-f28f-4aac-bd0d-046799f76c44",
   "metadata": {},
   "outputs": [
    {
     "data": {
      "text/plain": [
       "variable1    293.177754\n",
       "variable2    354.936070\n",
       "dtype: float64"
      ]
     },
     "execution_count": 165,
     "metadata": {},
     "output_type": "execute_result"
    }
   ],
   "source": [
    "df_a.apply(np.sum)"
   ]
  },
  {
   "cell_type": "code",
   "execution_count": 166,
   "id": "0a15c710-3300-4ad3-9226-8278d1f70cb2",
   "metadata": {},
   "outputs": [
    {
     "data": {
      "text/plain": [
       "variable1    42.053826\n",
       "variable2    64.318510\n",
       "dtype: float64"
      ]
     },
     "execution_count": 166,
     "metadata": {},
     "output_type": "execute_result"
    }
   ],
   "source": [
    "df_a.apply(np.median)"
   ]
  },
  {
   "cell_type": "code",
   "execution_count": 167,
   "id": "4c1c058f-ddac-46a9-bb43-113c9674b1b2",
   "metadata": {},
   "outputs": [
    {
     "data": {
      "text/plain": [
       "variable1    25.321822\n",
       "variable2    32.552930\n",
       "dtype: float64"
      ]
     },
     "execution_count": 167,
     "metadata": {},
     "output_type": "execute_result"
    }
   ],
   "source": [
    "df_a.apply('std')"
   ]
  }
 ],
 "metadata": {
  "kernelspec": {
   "display_name": "Python 3 (ipykernel)",
   "language": "python",
   "name": "python3"
  },
  "language_info": {
   "codemirror_mode": {
    "name": "ipython",
    "version": 3
   },
   "file_extension": ".py",
   "mimetype": "text/x-python",
   "name": "python",
   "nbconvert_exporter": "python",
   "pygments_lexer": "ipython3",
   "version": "3.9.7"
  }
 },
 "nbformat": 4,
 "nbformat_minor": 5
}
