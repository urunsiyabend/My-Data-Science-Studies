{
 "cells": [
  {
   "cell_type": "markdown",
   "id": "df6dee19-6bd9-454e-a66b-4ba34591c91e",
   "metadata": {},
   "source": [
    "# Advanced Aggregate Functions"
   ]
  },
  {
   "cell_type": "markdown",
   "id": "4854a9da-afb0-4c9d-b37d-d1933f16afe1",
   "metadata": {},
   "source": [
    "* aggregate\n",
    "* filter\n",
    "* transform\n",
    "* apply"
   ]
  },
  {
   "cell_type": "code",
   "execution_count": 2,
   "id": "f3e43237-6c88-484b-9a83-fb2bf9a4991e",
   "metadata": {},
   "outputs": [],
   "source": [
    "import pandas as pd\n",
    "import numpy as np"
   ]
  },
  {
   "cell_type": "code",
   "execution_count": 3,
   "id": "cba5cd30-8a06-4d77-9075-9f0cd297b236",
   "metadata": {},
   "outputs": [],
   "source": [
    "df = pd.DataFrame(\n",
    "        {\n",
    "            'groups': ['A', 'B', 'C', 'A', 'B', 'C'],\n",
    "            'variable1': np.random.rand(1, 6)[0] * 100,\n",
    "            'variable2': np.random.rand(1, 6)[0] * 100,\n",
    "        }\n",
    ")"
   ]
  },
  {
   "cell_type": "code",
   "execution_count": 4,
   "id": "09d8c330-e8d1-435b-8609-1ff1d585d26c",
   "metadata": {},
   "outputs": [
    {
     "data": {
      "text/html": [
       "<div>\n",
       "<style scoped>\n",
       "    .dataframe tbody tr th:only-of-type {\n",
       "        vertical-align: middle;\n",
       "    }\n",
       "\n",
       "    .dataframe tbody tr th {\n",
       "        vertical-align: top;\n",
       "    }\n",
       "\n",
       "    .dataframe thead th {\n",
       "        text-align: right;\n",
       "    }\n",
       "</style>\n",
       "<table border=\"1\" class=\"dataframe\">\n",
       "  <thead>\n",
       "    <tr style=\"text-align: right;\">\n",
       "      <th></th>\n",
       "      <th>groups</th>\n",
       "      <th>variable1</th>\n",
       "      <th>variable2</th>\n",
       "    </tr>\n",
       "  </thead>\n",
       "  <tbody>\n",
       "    <tr>\n",
       "      <th>0</th>\n",
       "      <td>A</td>\n",
       "      <td>69.957312</td>\n",
       "      <td>59.883921</td>\n",
       "    </tr>\n",
       "    <tr>\n",
       "      <th>1</th>\n",
       "      <td>B</td>\n",
       "      <td>30.574944</td>\n",
       "      <td>75.518725</td>\n",
       "    </tr>\n",
       "    <tr>\n",
       "      <th>2</th>\n",
       "      <td>C</td>\n",
       "      <td>11.475430</td>\n",
       "      <td>77.912175</td>\n",
       "    </tr>\n",
       "    <tr>\n",
       "      <th>3</th>\n",
       "      <td>A</td>\n",
       "      <td>3.488550</td>\n",
       "      <td>35.982094</td>\n",
       "    </tr>\n",
       "    <tr>\n",
       "      <th>4</th>\n",
       "      <td>B</td>\n",
       "      <td>77.451110</td>\n",
       "      <td>79.598955</td>\n",
       "    </tr>\n",
       "    <tr>\n",
       "      <th>5</th>\n",
       "      <td>C</td>\n",
       "      <td>25.861779</td>\n",
       "      <td>44.958610</td>\n",
       "    </tr>\n",
       "  </tbody>\n",
       "</table>\n",
       "</div>"
      ],
      "text/plain": [
       "  groups  variable1  variable2\n",
       "0      A  69.957312  59.883921\n",
       "1      B  30.574944  75.518725\n",
       "2      C  11.475430  77.912175\n",
       "3      A   3.488550  35.982094\n",
       "4      B  77.451110  79.598955\n",
       "5      C  25.861779  44.958610"
      ]
     },
     "execution_count": 4,
     "metadata": {},
     "output_type": "execute_result"
    }
   ],
   "source": [
    "df"
   ]
  },
  {
   "cell_type": "code",
   "execution_count": 5,
   "id": "08a17332-4055-47e2-bcff-c9f6fed0a235",
   "metadata": {},
   "outputs": [
    {
     "data": {
      "text/html": [
       "<div>\n",
       "<style scoped>\n",
       "    .dataframe tbody tr th:only-of-type {\n",
       "        vertical-align: middle;\n",
       "    }\n",
       "\n",
       "    .dataframe tbody tr th {\n",
       "        vertical-align: top;\n",
       "    }\n",
       "\n",
       "    .dataframe thead th {\n",
       "        text-align: right;\n",
       "    }\n",
       "</style>\n",
       "<table border=\"1\" class=\"dataframe\">\n",
       "  <thead>\n",
       "    <tr style=\"text-align: right;\">\n",
       "      <th></th>\n",
       "      <th>groups</th>\n",
       "      <th>A</th>\n",
       "      <th>B</th>\n",
       "      <th>C</th>\n",
       "    </tr>\n",
       "  </thead>\n",
       "  <tbody>\n",
       "    <tr>\n",
       "      <th rowspan=\"8\" valign=\"top\">variable1</th>\n",
       "      <th>count</th>\n",
       "      <td>2.000000</td>\n",
       "      <td>2.000000</td>\n",
       "      <td>2.000000</td>\n",
       "    </tr>\n",
       "    <tr>\n",
       "      <th>mean</th>\n",
       "      <td>36.722931</td>\n",
       "      <td>54.013027</td>\n",
       "      <td>18.668604</td>\n",
       "    </tr>\n",
       "    <tr>\n",
       "      <th>std</th>\n",
       "      <td>47.000512</td>\n",
       "      <td>33.146454</td>\n",
       "      <td>10.172685</td>\n",
       "    </tr>\n",
       "    <tr>\n",
       "      <th>min</th>\n",
       "      <td>3.488550</td>\n",
       "      <td>30.574944</td>\n",
       "      <td>11.475430</td>\n",
       "    </tr>\n",
       "    <tr>\n",
       "      <th>25%</th>\n",
       "      <td>20.105740</td>\n",
       "      <td>42.293986</td>\n",
       "      <td>15.072017</td>\n",
       "    </tr>\n",
       "    <tr>\n",
       "      <th>50%</th>\n",
       "      <td>36.722931</td>\n",
       "      <td>54.013027</td>\n",
       "      <td>18.668604</td>\n",
       "    </tr>\n",
       "    <tr>\n",
       "      <th>75%</th>\n",
       "      <td>53.340121</td>\n",
       "      <td>65.732068</td>\n",
       "      <td>22.265192</td>\n",
       "    </tr>\n",
       "    <tr>\n",
       "      <th>max</th>\n",
       "      <td>69.957312</td>\n",
       "      <td>77.451110</td>\n",
       "      <td>25.861779</td>\n",
       "    </tr>\n",
       "    <tr>\n",
       "      <th rowspan=\"8\" valign=\"top\">variable2</th>\n",
       "      <th>count</th>\n",
       "      <td>2.000000</td>\n",
       "      <td>2.000000</td>\n",
       "      <td>2.000000</td>\n",
       "    </tr>\n",
       "    <tr>\n",
       "      <th>mean</th>\n",
       "      <td>47.933007</td>\n",
       "      <td>77.558840</td>\n",
       "      <td>61.435393</td>\n",
       "    </tr>\n",
       "    <tr>\n",
       "      <th>std</th>\n",
       "      <td>16.901144</td>\n",
       "      <td>2.885158</td>\n",
       "      <td>23.301689</td>\n",
       "    </tr>\n",
       "    <tr>\n",
       "      <th>min</th>\n",
       "      <td>35.982094</td>\n",
       "      <td>75.518725</td>\n",
       "      <td>44.958610</td>\n",
       "    </tr>\n",
       "    <tr>\n",
       "      <th>25%</th>\n",
       "      <td>41.957551</td>\n",
       "      <td>76.538783</td>\n",
       "      <td>53.197002</td>\n",
       "    </tr>\n",
       "    <tr>\n",
       "      <th>50%</th>\n",
       "      <td>47.933007</td>\n",
       "      <td>77.558840</td>\n",
       "      <td>61.435393</td>\n",
       "    </tr>\n",
       "    <tr>\n",
       "      <th>75%</th>\n",
       "      <td>53.908464</td>\n",
       "      <td>78.578897</td>\n",
       "      <td>69.673784</td>\n",
       "    </tr>\n",
       "    <tr>\n",
       "      <th>max</th>\n",
       "      <td>59.883921</td>\n",
       "      <td>79.598955</td>\n",
       "      <td>77.912175</td>\n",
       "    </tr>\n",
       "  </tbody>\n",
       "</table>\n",
       "</div>"
      ],
      "text/plain": [
       "groups                   A          B          C\n",
       "variable1 count   2.000000   2.000000   2.000000\n",
       "          mean   36.722931  54.013027  18.668604\n",
       "          std    47.000512  33.146454  10.172685\n",
       "          min     3.488550  30.574944  11.475430\n",
       "          25%    20.105740  42.293986  15.072017\n",
       "          50%    36.722931  54.013027  18.668604\n",
       "          75%    53.340121  65.732068  22.265192\n",
       "          max    69.957312  77.451110  25.861779\n",
       "variable2 count   2.000000   2.000000   2.000000\n",
       "          mean   47.933007  77.558840  61.435393\n",
       "          std    16.901144   2.885158  23.301689\n",
       "          min    35.982094  75.518725  44.958610\n",
       "          25%    41.957551  76.538783  53.197002\n",
       "          50%    47.933007  77.558840  61.435393\n",
       "          75%    53.908464  78.578897  69.673784\n",
       "          max    59.883921  79.598955  77.912175"
      ]
     },
     "execution_count": 5,
     "metadata": {},
     "output_type": "execute_result"
    }
   ],
   "source": [
    "df.groupby('groups').describe().T"
   ]
  },
  {
   "cell_type": "markdown",
   "id": "ae7fd3c3-6043-432a-8955-8f4993ca004d",
   "metadata": {},
   "source": [
    "### Aggregate"
   ]
  },
  {
   "cell_type": "code",
   "execution_count": 6,
   "id": "05aca9b7-8f26-4231-a289-1493eed7bb57",
   "metadata": {},
   "outputs": [
    {
     "data": {
      "text/html": [
       "<div>\n",
       "<style scoped>\n",
       "    .dataframe tbody tr th:only-of-type {\n",
       "        vertical-align: middle;\n",
       "    }\n",
       "\n",
       "    .dataframe tbody tr th {\n",
       "        vertical-align: top;\n",
       "    }\n",
       "\n",
       "    .dataframe thead th {\n",
       "        text-align: right;\n",
       "    }\n",
       "</style>\n",
       "<table border=\"1\" class=\"dataframe\">\n",
       "  <thead>\n",
       "    <tr style=\"text-align: right;\">\n",
       "      <th></th>\n",
       "      <th>groups</th>\n",
       "      <th>A</th>\n",
       "      <th>B</th>\n",
       "      <th>C</th>\n",
       "    </tr>\n",
       "  </thead>\n",
       "  <tbody>\n",
       "    <tr>\n",
       "      <th rowspan=\"3\" valign=\"top\">variable1</th>\n",
       "      <th>std</th>\n",
       "      <td>47.000512</td>\n",
       "      <td>33.146454</td>\n",
       "      <td>10.172685</td>\n",
       "    </tr>\n",
       "    <tr>\n",
       "      <th>median</th>\n",
       "      <td>36.722931</td>\n",
       "      <td>54.013027</td>\n",
       "      <td>18.668604</td>\n",
       "    </tr>\n",
       "    <tr>\n",
       "      <th>max</th>\n",
       "      <td>69.957312</td>\n",
       "      <td>77.451110</td>\n",
       "      <td>25.861779</td>\n",
       "    </tr>\n",
       "    <tr>\n",
       "      <th rowspan=\"3\" valign=\"top\">variable2</th>\n",
       "      <th>std</th>\n",
       "      <td>16.901144</td>\n",
       "      <td>2.885158</td>\n",
       "      <td>23.301689</td>\n",
       "    </tr>\n",
       "    <tr>\n",
       "      <th>median</th>\n",
       "      <td>47.933007</td>\n",
       "      <td>77.558840</td>\n",
       "      <td>61.435393</td>\n",
       "    </tr>\n",
       "    <tr>\n",
       "      <th>max</th>\n",
       "      <td>59.883921</td>\n",
       "      <td>79.598955</td>\n",
       "      <td>77.912175</td>\n",
       "    </tr>\n",
       "  </tbody>\n",
       "</table>\n",
       "</div>"
      ],
      "text/plain": [
       "groups                    A          B          C\n",
       "variable1 std     47.000512  33.146454  10.172685\n",
       "          median  36.722931  54.013027  18.668604\n",
       "          max     69.957312  77.451110  25.861779\n",
       "variable2 std     16.901144   2.885158  23.301689\n",
       "          median  47.933007  77.558840  61.435393\n",
       "          max     59.883921  79.598955  77.912175"
      ]
     },
     "execution_count": 6,
     "metadata": {},
     "output_type": "execute_result"
    }
   ],
   "source": [
    "df.groupby('groups').aggregate(['std', np.median, 'max']).T"
   ]
  },
  {
   "cell_type": "code",
   "execution_count": 7,
   "id": "bd3420a4-476c-4407-a2d5-4592d5d266e1",
   "metadata": {},
   "outputs": [
    {
     "data": {
      "text/html": [
       "<div>\n",
       "<style scoped>\n",
       "    .dataframe tbody tr th:only-of-type {\n",
       "        vertical-align: middle;\n",
       "    }\n",
       "\n",
       "    .dataframe tbody tr th {\n",
       "        vertical-align: top;\n",
       "    }\n",
       "\n",
       "    .dataframe thead th {\n",
       "        text-align: right;\n",
       "    }\n",
       "</style>\n",
       "<table border=\"1\" class=\"dataframe\">\n",
       "  <thead>\n",
       "    <tr style=\"text-align: right;\">\n",
       "      <th></th>\n",
       "      <th>variable1</th>\n",
       "      <th>variable2</th>\n",
       "    </tr>\n",
       "    <tr>\n",
       "      <th>groups</th>\n",
       "      <th></th>\n",
       "      <th></th>\n",
       "    </tr>\n",
       "  </thead>\n",
       "  <tbody>\n",
       "    <tr>\n",
       "      <th>A</th>\n",
       "      <td>3.488550</td>\n",
       "      <td>47.933007</td>\n",
       "    </tr>\n",
       "    <tr>\n",
       "      <th>B</th>\n",
       "      <td>30.574944</td>\n",
       "      <td>77.558840</td>\n",
       "    </tr>\n",
       "    <tr>\n",
       "      <th>C</th>\n",
       "      <td>11.475430</td>\n",
       "      <td>61.435393</td>\n",
       "    </tr>\n",
       "  </tbody>\n",
       "</table>\n",
       "</div>"
      ],
      "text/plain": [
       "        variable1  variable2\n",
       "groups                      \n",
       "A        3.488550  47.933007\n",
       "B       30.574944  77.558840\n",
       "C       11.475430  61.435393"
      ]
     },
     "execution_count": 7,
     "metadata": {},
     "output_type": "execute_result"
    }
   ],
   "source": [
    "df.groupby('groups').aggregate({'variable1': 'min', 'variable2': np.median})"
   ]
  },
  {
   "cell_type": "markdown",
   "id": "309bfae9-2ccc-4e6a-8d1c-bbb6c450bcc2",
   "metadata": {},
   "source": [
    "### Filter"
   ]
  },
  {
   "cell_type": "code",
   "execution_count": 8,
   "id": "be4e2b1c-6622-4bb1-a1ff-7c8a64b8be26",
   "metadata": {},
   "outputs": [],
   "source": [
    "def filter_func(x):\n",
    "    return x['variable1'].std() > 12"
   ]
  },
  {
   "cell_type": "code",
   "execution_count": 9,
   "id": "3040d3d4-18cf-4b1f-a3d4-2a998c818509",
   "metadata": {},
   "outputs": [
    {
     "data": {
      "text/html": [
       "<div>\n",
       "<style scoped>\n",
       "    .dataframe tbody tr th:only-of-type {\n",
       "        vertical-align: middle;\n",
       "    }\n",
       "\n",
       "    .dataframe tbody tr th {\n",
       "        vertical-align: top;\n",
       "    }\n",
       "\n",
       "    .dataframe thead th {\n",
       "        text-align: right;\n",
       "    }\n",
       "</style>\n",
       "<table border=\"1\" class=\"dataframe\">\n",
       "  <thead>\n",
       "    <tr style=\"text-align: right;\">\n",
       "      <th>groups</th>\n",
       "      <th>A</th>\n",
       "      <th>B</th>\n",
       "      <th>C</th>\n",
       "    </tr>\n",
       "  </thead>\n",
       "  <tbody>\n",
       "    <tr>\n",
       "      <th>variable1</th>\n",
       "      <td>47.000512</td>\n",
       "      <td>33.146454</td>\n",
       "      <td>10.172685</td>\n",
       "    </tr>\n",
       "    <tr>\n",
       "      <th>variable2</th>\n",
       "      <td>16.901144</td>\n",
       "      <td>2.885158</td>\n",
       "      <td>23.301689</td>\n",
       "    </tr>\n",
       "  </tbody>\n",
       "</table>\n",
       "</div>"
      ],
      "text/plain": [
       "groups             A          B          C\n",
       "variable1  47.000512  33.146454  10.172685\n",
       "variable2  16.901144   2.885158  23.301689"
      ]
     },
     "execution_count": 9,
     "metadata": {},
     "output_type": "execute_result"
    }
   ],
   "source": [
    "df.groupby('groups').std().T"
   ]
  },
  {
   "cell_type": "code",
   "execution_count": 10,
   "id": "e2166af2-c397-42ac-8992-db67bf08a06c",
   "metadata": {},
   "outputs": [
    {
     "data": {
      "text/html": [
       "<div>\n",
       "<style scoped>\n",
       "    .dataframe tbody tr th:only-of-type {\n",
       "        vertical-align: middle;\n",
       "    }\n",
       "\n",
       "    .dataframe tbody tr th {\n",
       "        vertical-align: top;\n",
       "    }\n",
       "\n",
       "    .dataframe thead th {\n",
       "        text-align: right;\n",
       "    }\n",
       "</style>\n",
       "<table border=\"1\" class=\"dataframe\">\n",
       "  <thead>\n",
       "    <tr style=\"text-align: right;\">\n",
       "      <th></th>\n",
       "      <th>groups</th>\n",
       "      <th>variable1</th>\n",
       "      <th>variable2</th>\n",
       "    </tr>\n",
       "  </thead>\n",
       "  <tbody>\n",
       "    <tr>\n",
       "      <th>0</th>\n",
       "      <td>A</td>\n",
       "      <td>69.957312</td>\n",
       "      <td>59.883921</td>\n",
       "    </tr>\n",
       "    <tr>\n",
       "      <th>1</th>\n",
       "      <td>B</td>\n",
       "      <td>30.574944</td>\n",
       "      <td>75.518725</td>\n",
       "    </tr>\n",
       "    <tr>\n",
       "      <th>3</th>\n",
       "      <td>A</td>\n",
       "      <td>3.488550</td>\n",
       "      <td>35.982094</td>\n",
       "    </tr>\n",
       "    <tr>\n",
       "      <th>4</th>\n",
       "      <td>B</td>\n",
       "      <td>77.451110</td>\n",
       "      <td>79.598955</td>\n",
       "    </tr>\n",
       "  </tbody>\n",
       "</table>\n",
       "</div>"
      ],
      "text/plain": [
       "  groups  variable1  variable2\n",
       "0      A  69.957312  59.883921\n",
       "1      B  30.574944  75.518725\n",
       "3      A   3.488550  35.982094\n",
       "4      B  77.451110  79.598955"
      ]
     },
     "execution_count": 10,
     "metadata": {},
     "output_type": "execute_result"
    }
   ],
   "source": [
    "df.groupby('groups').filter(filter_func)"
   ]
  },
  {
   "cell_type": "markdown",
   "id": "46271c05-2348-406b-95bb-0f90eab1c765",
   "metadata": {},
   "source": [
    "### Transform"
   ]
  },
  {
   "cell_type": "code",
   "execution_count": 11,
   "id": "13531c3f-e36c-458f-a0f4-24559edc05ea",
   "metadata": {},
   "outputs": [
    {
     "data": {
      "text/html": [
       "<div>\n",
       "<style scoped>\n",
       "    .dataframe tbody tr th:only-of-type {\n",
       "        vertical-align: middle;\n",
       "    }\n",
       "\n",
       "    .dataframe tbody tr th {\n",
       "        vertical-align: top;\n",
       "    }\n",
       "\n",
       "    .dataframe thead th {\n",
       "        text-align: right;\n",
       "    }\n",
       "</style>\n",
       "<table border=\"1\" class=\"dataframe\">\n",
       "  <thead>\n",
       "    <tr style=\"text-align: right;\">\n",
       "      <th></th>\n",
       "      <th>groups</th>\n",
       "      <th>variable1</th>\n",
       "      <th>variable2</th>\n",
       "    </tr>\n",
       "  </thead>\n",
       "  <tbody>\n",
       "    <tr>\n",
       "      <th>0</th>\n",
       "      <td>A</td>\n",
       "      <td>69.957312</td>\n",
       "      <td>59.883921</td>\n",
       "    </tr>\n",
       "    <tr>\n",
       "      <th>1</th>\n",
       "      <td>B</td>\n",
       "      <td>30.574944</td>\n",
       "      <td>75.518725</td>\n",
       "    </tr>\n",
       "    <tr>\n",
       "      <th>2</th>\n",
       "      <td>C</td>\n",
       "      <td>11.475430</td>\n",
       "      <td>77.912175</td>\n",
       "    </tr>\n",
       "    <tr>\n",
       "      <th>3</th>\n",
       "      <td>A</td>\n",
       "      <td>3.488550</td>\n",
       "      <td>35.982094</td>\n",
       "    </tr>\n",
       "    <tr>\n",
       "      <th>4</th>\n",
       "      <td>B</td>\n",
       "      <td>77.451110</td>\n",
       "      <td>79.598955</td>\n",
       "    </tr>\n",
       "    <tr>\n",
       "      <th>5</th>\n",
       "      <td>C</td>\n",
       "      <td>25.861779</td>\n",
       "      <td>44.958610</td>\n",
       "    </tr>\n",
       "  </tbody>\n",
       "</table>\n",
       "</div>"
      ],
      "text/plain": [
       "  groups  variable1  variable2\n",
       "0      A  69.957312  59.883921\n",
       "1      B  30.574944  75.518725\n",
       "2      C  11.475430  77.912175\n",
       "3      A   3.488550  35.982094\n",
       "4      B  77.451110  79.598955\n",
       "5      C  25.861779  44.958610"
      ]
     },
     "execution_count": 11,
     "metadata": {},
     "output_type": "execute_result"
    }
   ],
   "source": [
    "df"
   ]
  },
  {
   "cell_type": "code",
   "execution_count": 12,
   "id": "d5e068c9-5040-4bde-8931-5c90a7916033",
   "metadata": {},
   "outputs": [
    {
     "data": {
      "text/html": [
       "<div>\n",
       "<style scoped>\n",
       "    .dataframe tbody tr th:only-of-type {\n",
       "        vertical-align: middle;\n",
       "    }\n",
       "\n",
       "    .dataframe tbody tr th {\n",
       "        vertical-align: top;\n",
       "    }\n",
       "\n",
       "    .dataframe thead th {\n",
       "        text-align: right;\n",
       "    }\n",
       "</style>\n",
       "<table border=\"1\" class=\"dataframe\">\n",
       "  <thead>\n",
       "    <tr style=\"text-align: right;\">\n",
       "      <th></th>\n",
       "      <th>variable1</th>\n",
       "      <th>variable2</th>\n",
       "    </tr>\n",
       "  </thead>\n",
       "  <tbody>\n",
       "    <tr>\n",
       "      <th>0</th>\n",
       "      <td>69.957312</td>\n",
       "      <td>59.883921</td>\n",
       "    </tr>\n",
       "    <tr>\n",
       "      <th>1</th>\n",
       "      <td>30.574944</td>\n",
       "      <td>75.518725</td>\n",
       "    </tr>\n",
       "    <tr>\n",
       "      <th>2</th>\n",
       "      <td>11.475430</td>\n",
       "      <td>77.912175</td>\n",
       "    </tr>\n",
       "    <tr>\n",
       "      <th>3</th>\n",
       "      <td>3.488550</td>\n",
       "      <td>35.982094</td>\n",
       "    </tr>\n",
       "    <tr>\n",
       "      <th>4</th>\n",
       "      <td>77.451110</td>\n",
       "      <td>79.598955</td>\n",
       "    </tr>\n",
       "    <tr>\n",
       "      <th>5</th>\n",
       "      <td>25.861779</td>\n",
       "      <td>44.958610</td>\n",
       "    </tr>\n",
       "  </tbody>\n",
       "</table>\n",
       "</div>"
      ],
      "text/plain": [
       "   variable1  variable2\n",
       "0  69.957312  59.883921\n",
       "1  30.574944  75.518725\n",
       "2  11.475430  77.912175\n",
       "3   3.488550  35.982094\n",
       "4  77.451110  79.598955\n",
       "5  25.861779  44.958610"
      ]
     },
     "execution_count": 12,
     "metadata": {},
     "output_type": "execute_result"
    }
   ],
   "source": [
    "df_a = df.iloc[:, 1:3]\n",
    "df_a"
   ]
  },
  {
   "cell_type": "code",
   "execution_count": 13,
   "id": "93cff6c5-14e0-4ec0-9c96-6aba0bdb6e34",
   "metadata": {},
   "outputs": [
    {
     "data": {
      "text/html": [
       "<div>\n",
       "<style scoped>\n",
       "    .dataframe tbody tr th:only-of-type {\n",
       "        vertical-align: middle;\n",
       "    }\n",
       "\n",
       "    .dataframe tbody tr th {\n",
       "        vertical-align: top;\n",
       "    }\n",
       "\n",
       "    .dataframe thead th {\n",
       "        text-align: right;\n",
       "    }\n",
       "</style>\n",
       "<table border=\"1\" class=\"dataframe\">\n",
       "  <thead>\n",
       "    <tr style=\"text-align: right;\">\n",
       "      <th></th>\n",
       "      <th>variable1</th>\n",
       "      <th>variable2</th>\n",
       "    </tr>\n",
       "  </thead>\n",
       "  <tbody>\n",
       "    <tr>\n",
       "      <th>0</th>\n",
       "      <td>1.096897</td>\n",
       "      <td>-0.130873</td>\n",
       "    </tr>\n",
       "    <tr>\n",
       "      <th>1</th>\n",
       "      <td>-0.193026</td>\n",
       "      <td>0.712855</td>\n",
       "    </tr>\n",
       "    <tr>\n",
       "      <th>2</th>\n",
       "      <td>-0.818609</td>\n",
       "      <td>0.842016</td>\n",
       "    </tr>\n",
       "    <tr>\n",
       "      <th>3</th>\n",
       "      <td>-1.080210</td>\n",
       "      <td>-1.420728</td>\n",
       "    </tr>\n",
       "    <tr>\n",
       "      <th>4</th>\n",
       "      <td>1.342348</td>\n",
       "      <td>0.933043</td>\n",
       "    </tr>\n",
       "    <tr>\n",
       "      <th>5</th>\n",
       "      <td>-0.347401</td>\n",
       "      <td>-0.936313</td>\n",
       "    </tr>\n",
       "  </tbody>\n",
       "</table>\n",
       "</div>"
      ],
      "text/plain": [
       "   variable1  variable2\n",
       "0   1.096897  -0.130873\n",
       "1  -0.193026   0.712855\n",
       "2  -0.818609   0.842016\n",
       "3  -1.080210  -1.420728\n",
       "4   1.342348   0.933043\n",
       "5  -0.347401  -0.936313"
      ]
     },
     "execution_count": 13,
     "metadata": {},
     "output_type": "execute_result"
    }
   ],
   "source": [
    "df_a.transform(lambda x: (x - x.mean()) / x.std()) "
   ]
  },
  {
   "cell_type": "markdown",
   "id": "29901654-cf15-40ab-a0ed-66604f8dfff0",
   "metadata": {},
   "source": [
    "### Apply"
   ]
  },
  {
   "cell_type": "code",
   "execution_count": 14,
   "id": "d6dcf5f2-1cad-4170-9252-f9870c23eb4b",
   "metadata": {},
   "outputs": [
    {
     "data": {
      "text/html": [
       "<div>\n",
       "<style scoped>\n",
       "    .dataframe tbody tr th:only-of-type {\n",
       "        vertical-align: middle;\n",
       "    }\n",
       "\n",
       "    .dataframe tbody tr th {\n",
       "        vertical-align: top;\n",
       "    }\n",
       "\n",
       "    .dataframe thead th {\n",
       "        text-align: right;\n",
       "    }\n",
       "</style>\n",
       "<table border=\"1\" class=\"dataframe\">\n",
       "  <thead>\n",
       "    <tr style=\"text-align: right;\">\n",
       "      <th></th>\n",
       "      <th>variable1</th>\n",
       "      <th>variable2</th>\n",
       "    </tr>\n",
       "  </thead>\n",
       "  <tbody>\n",
       "    <tr>\n",
       "      <th>0</th>\n",
       "      <td>69.957312</td>\n",
       "      <td>59.883921</td>\n",
       "    </tr>\n",
       "    <tr>\n",
       "      <th>1</th>\n",
       "      <td>30.574944</td>\n",
       "      <td>75.518725</td>\n",
       "    </tr>\n",
       "    <tr>\n",
       "      <th>2</th>\n",
       "      <td>11.475430</td>\n",
       "      <td>77.912175</td>\n",
       "    </tr>\n",
       "    <tr>\n",
       "      <th>3</th>\n",
       "      <td>3.488550</td>\n",
       "      <td>35.982094</td>\n",
       "    </tr>\n",
       "    <tr>\n",
       "      <th>4</th>\n",
       "      <td>77.451110</td>\n",
       "      <td>79.598955</td>\n",
       "    </tr>\n",
       "    <tr>\n",
       "      <th>5</th>\n",
       "      <td>25.861779</td>\n",
       "      <td>44.958610</td>\n",
       "    </tr>\n",
       "  </tbody>\n",
       "</table>\n",
       "</div>"
      ],
      "text/plain": [
       "   variable1  variable2\n",
       "0  69.957312  59.883921\n",
       "1  30.574944  75.518725\n",
       "2  11.475430  77.912175\n",
       "3   3.488550  35.982094\n",
       "4  77.451110  79.598955\n",
       "5  25.861779  44.958610"
      ]
     },
     "execution_count": 14,
     "metadata": {},
     "output_type": "execute_result"
    }
   ],
   "source": [
    "df_a"
   ]
  },
  {
   "cell_type": "code",
   "execution_count": 15,
   "id": "d8b65826-f28f-4aac-bd0d-046799f76c44",
   "metadata": {},
   "outputs": [
    {
     "data": {
      "text/plain": [
       "variable1    218.809124\n",
       "variable2    373.854481\n",
       "dtype: float64"
      ]
     },
     "execution_count": 15,
     "metadata": {},
     "output_type": "execute_result"
    }
   ],
   "source": [
    "df_a.apply(np.sum)"
   ]
  },
  {
   "cell_type": "code",
   "execution_count": 16,
   "id": "0a15c710-3300-4ad3-9226-8278d1f70cb2",
   "metadata": {},
   "outputs": [
    {
     "data": {
      "text/plain": [
       "variable1    28.218362\n",
       "variable2    67.701323\n",
       "dtype: float64"
      ]
     },
     "execution_count": 16,
     "metadata": {},
     "output_type": "execute_result"
    }
   ],
   "source": [
    "df_a.apply(np.median)"
   ]
  },
  {
   "cell_type": "code",
   "execution_count": 41,
   "id": "4c1c058f-ddac-46a9-bb43-113c9674b1b2",
   "metadata": {},
   "outputs": [
    {
     "data": {
      "text/plain": [
       "variable1    30.530778\n",
       "variable2    18.530631\n",
       "dtype: float64"
      ]
     },
     "execution_count": 41,
     "metadata": {},
     "output_type": "execute_result"
    }
   ],
   "source": [
    "df_a.apply('std')"
   ]
  },
  {
   "cell_type": "code",
   "execution_count": 68,
   "id": "bb53261c-d0e0-4179-ac1f-9d12c3ca5bce",
   "metadata": {},
   "outputs": [],
   "source": [
    "def my_func(value):\n",
    "    return True if value >25 else False"
   ]
  },
  {
   "cell_type": "code",
   "execution_count": 69,
   "id": "e17afde7-ebdd-44ca-8237-a23cb8059cb6",
   "metadata": {},
   "outputs": [
    {
     "data": {
      "text/html": [
       "<div>\n",
       "<style scoped>\n",
       "    .dataframe tbody tr th:only-of-type {\n",
       "        vertical-align: middle;\n",
       "    }\n",
       "\n",
       "    .dataframe tbody tr th {\n",
       "        vertical-align: top;\n",
       "    }\n",
       "\n",
       "    .dataframe thead th {\n",
       "        text-align: right;\n",
       "    }\n",
       "</style>\n",
       "<table border=\"1\" class=\"dataframe\">\n",
       "  <thead>\n",
       "    <tr style=\"text-align: right;\">\n",
       "      <th></th>\n",
       "      <th>variable1</th>\n",
       "      <th>variable2</th>\n",
       "    </tr>\n",
       "  </thead>\n",
       "  <tbody>\n",
       "    <tr>\n",
       "      <th>0</th>\n",
       "      <td>69.957312</td>\n",
       "      <td>59.883921</td>\n",
       "    </tr>\n",
       "    <tr>\n",
       "      <th>1</th>\n",
       "      <td>30.574944</td>\n",
       "      <td>75.518725</td>\n",
       "    </tr>\n",
       "    <tr>\n",
       "      <th>2</th>\n",
       "      <td>11.475430</td>\n",
       "      <td>77.912175</td>\n",
       "    </tr>\n",
       "    <tr>\n",
       "      <th>3</th>\n",
       "      <td>3.488550</td>\n",
       "      <td>35.982094</td>\n",
       "    </tr>\n",
       "    <tr>\n",
       "      <th>4</th>\n",
       "      <td>77.451110</td>\n",
       "      <td>79.598955</td>\n",
       "    </tr>\n",
       "    <tr>\n",
       "      <th>5</th>\n",
       "      <td>25.861779</td>\n",
       "      <td>44.958610</td>\n",
       "    </tr>\n",
       "  </tbody>\n",
       "</table>\n",
       "</div>"
      ],
      "text/plain": [
       "   variable1  variable2\n",
       "0  69.957312  59.883921\n",
       "1  30.574944  75.518725\n",
       "2  11.475430  77.912175\n",
       "3   3.488550  35.982094\n",
       "4  77.451110  79.598955\n",
       "5  25.861779  44.958610"
      ]
     },
     "execution_count": 69,
     "metadata": {},
     "output_type": "execute_result"
    }
   ],
   "source": [
    "df_a"
   ]
  },
  {
   "cell_type": "code",
   "execution_count": 70,
   "id": "3076e30f-c6bd-4fd6-9b76-239ebbe1913e",
   "metadata": {},
   "outputs": [
    {
     "data": {
      "text/html": [
       "<div>\n",
       "<style scoped>\n",
       "    .dataframe tbody tr th:only-of-type {\n",
       "        vertical-align: middle;\n",
       "    }\n",
       "\n",
       "    .dataframe tbody tr th {\n",
       "        vertical-align: top;\n",
       "    }\n",
       "\n",
       "    .dataframe thead th {\n",
       "        text-align: right;\n",
       "    }\n",
       "</style>\n",
       "<table border=\"1\" class=\"dataframe\">\n",
       "  <thead>\n",
       "    <tr style=\"text-align: right;\">\n",
       "      <th></th>\n",
       "      <th>variable1</th>\n",
       "      <th>variable2</th>\n",
       "    </tr>\n",
       "  </thead>\n",
       "  <tbody>\n",
       "    <tr>\n",
       "      <th>0</th>\n",
       "      <td>69.957312</td>\n",
       "      <td>59.883921</td>\n",
       "    </tr>\n",
       "    <tr>\n",
       "      <th>1</th>\n",
       "      <td>30.574944</td>\n",
       "      <td>75.518725</td>\n",
       "    </tr>\n",
       "    <tr>\n",
       "      <th>4</th>\n",
       "      <td>77.451110</td>\n",
       "      <td>79.598955</td>\n",
       "    </tr>\n",
       "    <tr>\n",
       "      <th>5</th>\n",
       "      <td>25.861779</td>\n",
       "      <td>44.958610</td>\n",
       "    </tr>\n",
       "  </tbody>\n",
       "</table>\n",
       "</div>"
      ],
      "text/plain": [
       "   variable1  variable2\n",
       "0  69.957312  59.883921\n",
       "1  30.574944  75.518725\n",
       "4  77.451110  79.598955\n",
       "5  25.861779  44.958610"
      ]
     },
     "execution_count": 70,
     "metadata": {},
     "output_type": "execute_result"
    }
   ],
   "source": [
    "df_a[df_a.variable1.apply(my_func)]"
   ]
  },
  {
   "cell_type": "code",
   "execution_count": null,
   "id": "ace6350f-3201-4c85-958a-d3a6c11882c6",
   "metadata": {},
   "outputs": [],
   "source": []
  }
 ],
 "metadata": {
  "kernelspec": {
   "display_name": "Python 3 (ipykernel)",
   "language": "python",
   "name": "python3"
  },
  "language_info": {
   "codemirror_mode": {
    "name": "ipython",
    "version": 3
   },
   "file_extension": ".py",
   "mimetype": "text/x-python",
   "name": "python",
   "nbconvert_exporter": "python",
   "pygments_lexer": "ipython3",
   "version": "3.9.7"
  }
 },
 "nbformat": 4,
 "nbformat_minor": 5
}
