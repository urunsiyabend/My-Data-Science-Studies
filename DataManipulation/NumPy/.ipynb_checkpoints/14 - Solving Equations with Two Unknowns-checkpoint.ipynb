{
 "cells": [
  {
   "cell_type": "markdown",
   "id": "a96a813f-1379-4f62-bcbf-b3d0e91eb5cd",
   "metadata": {},
   "source": [
    "# Equations with Two Unknowns"
   ]
  },
  {
   "cell_type": "code",
   "execution_count": 1,
   "id": "aa6734cb-78c9-4e8e-abfa-1162f2a5d3d7",
   "metadata": {},
   "outputs": [],
   "source": [
    "import numpy as np"
   ]
  },
  {
   "cell_type": "markdown",
   "id": "bc3fea84-b162-4a71-83e2-8576c7820fd3",
   "metadata": {},
   "source": [
    "5a + b = 12\n",
    "\n",
    "a + 3b = 10"
   ]
  },
  {
   "cell_type": "code",
   "execution_count": null,
   "id": "2c3b64ef-87ce-4372-8c97-cc344010abf3",
   "metadata": {},
   "outputs": [],
   "source": [
    "m = np.array([[5, 1], [1,3]])\n",
    "n = np.array([12, 10])\n"
   ]
  }
 ],
 "metadata": {
  "kernelspec": {
   "display_name": "Python 3 (ipykernel)",
   "language": "python",
   "name": "python3"
  },
  "language_info": {
   "codemirror_mode": {
    "name": "ipython",
    "version": 3
   },
   "file_extension": ".py",
   "mimetype": "text/x-python",
   "name": "python",
   "nbconvert_exporter": "python",
   "pygments_lexer": "ipython3",
   "version": "3.9.7"
  }
 },
 "nbformat": 4,
 "nbformat_minor": 5
}
