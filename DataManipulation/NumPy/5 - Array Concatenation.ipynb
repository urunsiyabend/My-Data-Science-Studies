{
 "cells": [
  {
   "cell_type": "markdown",
   "id": "9c8da5a4-3f03-4378-9f4a-64e9002a3a16",
   "metadata": {},
   "source": [
    "# Array Concatenation in NumPy"
   ]
  },
  {
   "cell_type": "code",
   "execution_count": 1,
   "id": "f4289aa5-81ea-43d5-9daa-d419a3108060",
   "metadata": {},
   "outputs": [],
   "source": [
    "import numpy as np"
   ]
  },
  {
   "cell_type": "code",
   "execution_count": 7,
   "id": "8168478d-1643-481c-a8af-75604aed83a0",
   "metadata": {},
   "outputs": [],
   "source": [
    "x = np.arange(1, 4)\n",
    "y = np.arange(4, 7)"
   ]
  },
  {
   "cell_type": "code",
   "execution_count": 9,
   "id": "c9174d55-e547-4cf3-a3be-9bf2184543e6",
   "metadata": {},
   "outputs": [
    {
     "data": {
      "text/plain": [
       "array([1, 2, 3, 4, 5, 6])"
      ]
     },
     "execution_count": 9,
     "metadata": {},
     "output_type": "execute_result"
    }
   ],
   "source": [
    "np.concatenate([x, y])"
   ]
  },
  {
   "cell_type": "code",
   "execution_count": 12,
   "id": "f0a62bd3-2e9b-4137-b42f-45c94423d996",
   "metadata": {},
   "outputs": [],
   "source": [
    "z = np.arange(7, 10)"
   ]
  },
  {
   "cell_type": "code",
   "execution_count": 13,
   "id": "31545e19-2064-4f3c-be84-8595f81d1d76",
   "metadata": {},
   "outputs": [
    {
     "data": {
      "text/plain": [
       "array([1, 2, 3, 4, 5, 6, 7, 8, 9])"
      ]
     },
     "execution_count": 13,
     "metadata": {},
     "output_type": "execute_result"
    }
   ],
   "source": [
    "np.concatenate([x, y, z])"
   ]
  },
  {
   "cell_type": "code",
   "execution_count": 15,
   "id": "f9ed04de-66cb-4b0a-bda3-bf171ce2c7eb",
   "metadata": {},
   "outputs": [],
   "source": [
    "a = np.array([[1, 2, 3], \n",
    "              [4, 5, 6]])"
   ]
  },
  {
   "cell_type": "code",
   "execution_count": 18,
   "id": "a67215e1-3d49-4d9e-bdf0-76dad519af99",
   "metadata": {},
   "outputs": [
    {
     "data": {
      "text/plain": [
       "array([[1, 2, 3, 1, 2, 3],\n",
       "       [4, 5, 6, 4, 5, 6]])"
      ]
     },
     "execution_count": 18,
     "metadata": {},
     "output_type": "execute_result"
    }
   ],
   "source": [
    "np.concatenate([a, a], axis=1)"
   ]
  }
 ],
 "metadata": {
  "kernelspec": {
   "display_name": "Python 3 (ipykernel)",
   "language": "python",
   "name": "python3"
  },
  "language_info": {
   "codemirror_mode": {
    "name": "ipython",
    "version": 3
   },
   "file_extension": ".py",
   "mimetype": "text/x-python",
   "name": "python",
   "nbconvert_exporter": "python",
   "pygments_lexer": "ipython3",
   "version": "3.9.7"
  }
 },
 "nbformat": 4,
 "nbformat_minor": 5
}
