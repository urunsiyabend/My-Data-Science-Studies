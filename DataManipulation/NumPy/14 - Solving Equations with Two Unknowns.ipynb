{
 "cells": [
  {
   "cell_type": "markdown",
   "id": "a96a813f-1379-4f62-bcbf-b3d0e91eb5cd",
   "metadata": {},
   "source": [
    "# Equations with Two Unknowns"
   ]
  },
  {
   "cell_type": "code",
   "execution_count": 1,
   "id": "aa6734cb-78c9-4e8e-abfa-1162f2a5d3d7",
   "metadata": {},
   "outputs": [],
   "source": [
    "import numpy as np"
   ]
  },
  {
   "cell_type": "markdown",
   "id": "bc3fea84-b162-4a71-83e2-8576c7820fd3",
   "metadata": {},
   "source": [
    "5a + b = 12\n",
    "\n",
    "a + 3b = 10"
   ]
  },
  {
   "cell_type": "code",
   "execution_count": 3,
   "id": "2c3b64ef-87ce-4372-8c97-cc344010abf3",
   "metadata": {},
   "outputs": [],
   "source": [
    "m = np.array([[5, 1], [1,3]])\n",
    "n = np.array([12, 10])"
   ]
  },
  {
   "cell_type": "code",
   "execution_count": 4,
   "id": "b96bea6c-c965-434c-af91-2b1118619870",
   "metadata": {},
   "outputs": [
    {
     "data": {
      "text/plain": [
       "array([[5, 1],\n",
       "       [1, 3]])"
      ]
     },
     "execution_count": 4,
     "metadata": {},
     "output_type": "execute_result"
    }
   ],
   "source": [
    "m"
   ]
  },
  {
   "cell_type": "code",
   "execution_count": 5,
   "id": "4baf1436-9698-4fcb-aa73-c90c461314cd",
   "metadata": {},
   "outputs": [
    {
     "data": {
      "text/plain": [
       "array([12, 10])"
      ]
     },
     "execution_count": 5,
     "metadata": {},
     "output_type": "execute_result"
    }
   ],
   "source": [
    "n"
   ]
  },
  {
   "cell_type": "code",
   "execution_count": 9,
   "id": "0bd09e9a-5e69-467a-8190-6391ebbbdf7d",
   "metadata": {},
   "outputs": [],
   "source": [
    "result = np.linalg.solve(m, n)"
   ]
  },
  {
   "cell_type": "code",
   "execution_count": 10,
   "id": "46d75e8b-c400-44b2-956d-8ab102768d54",
   "metadata": {},
   "outputs": [
    {
     "data": {
      "text/plain": [
       "array([1.85714286, 2.71428571])"
      ]
     },
     "execution_count": 10,
     "metadata": {},
     "output_type": "execute_result"
    }
   ],
   "source": [
    "result"
   ]
  }
 ],
 "metadata": {
  "kernelspec": {
   "display_name": "Python 3 (ipykernel)",
   "language": "python",
   "name": "python3"
  },
  "language_info": {
   "codemirror_mode": {
    "name": "ipython",
    "version": 3
   },
   "file_extension": ".py",
   "mimetype": "text/x-python",
   "name": "python",
   "nbconvert_exporter": "python",
   "pygments_lexer": "ipython3",
   "version": "3.9.7"
  }
 },
 "nbformat": 4,
 "nbformat_minor": 5
}
