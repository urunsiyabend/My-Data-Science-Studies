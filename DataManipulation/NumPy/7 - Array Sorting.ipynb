{
 "cells": [
  {
   "cell_type": "markdown",
   "id": "13c5f2d5-4a5e-418b-b06d-1dd63a20893a",
   "metadata": {},
   "source": [
    "# Sorting NumPy Arrays"
   ]
  },
  {
   "cell_type": "code",
   "execution_count": 1,
   "id": "e1940b23-6463-4cdc-9345-1fd06e72677d",
   "metadata": {},
   "outputs": [],
   "source": [
    "import numpy as np"
   ]
  },
  {
   "cell_type": "code",
   "execution_count": 7,
   "id": "275ccee6-d339-49ae-a540-a08230aebc6f",
   "metadata": {},
   "outputs": [],
   "source": [
    "v = np.arange(1,6)\n",
    "np.random.shuffle(v)"
   ]
  },
  {
   "cell_type": "code",
   "execution_count": 6,
   "id": "54293172-2360-487a-aadc-959912325700",
   "metadata": {},
   "outputs": [
    {
     "data": {
      "text/plain": [
       "array([4, 3, 5, 2, 1])"
      ]
     },
     "execution_count": 6,
     "metadata": {},
     "output_type": "execute_result"
    }
   ],
   "source": [
    "v"
   ]
  },
  {
   "cell_type": "code",
   "execution_count": 10,
   "id": "37b42516-d01a-460d-99c8-d0690ba6a687",
   "metadata": {},
   "outputs": [],
   "source": [
    "v.sort()"
   ]
  },
  {
   "cell_type": "code",
   "execution_count": 11,
   "id": "24c72dcd-29ea-4b3b-99e3-c18a6f48bac8",
   "metadata": {},
   "outputs": [
    {
     "data": {
      "text/plain": [
       "array([1, 2, 3, 4, 5])"
      ]
     },
     "execution_count": 11,
     "metadata": {},
     "output_type": "execute_result"
    }
   ],
   "source": [
    "v"
   ]
  },
  {
   "cell_type": "code",
   "execution_count": 12,
   "id": "0072f427-ce0b-4aa9-a3af-7b4c41724ffd",
   "metadata": {},
   "outputs": [],
   "source": [
    "np.random.shuffle(v)"
   ]
  },
  {
   "cell_type": "code",
   "execution_count": 13,
   "id": "84115a45-7cd6-4aff-b2e3-44ff3ae79e74",
   "metadata": {},
   "outputs": [
    {
     "data": {
      "text/plain": [
       "array([3, 2, 1, 4, 5])"
      ]
     },
     "execution_count": 13,
     "metadata": {},
     "output_type": "execute_result"
    }
   ],
   "source": [
    "v"
   ]
  },
  {
   "cell_type": "code",
   "execution_count": 14,
   "id": "7bb2cfd9-64be-4799-a278-e44fbc287b4f",
   "metadata": {},
   "outputs": [
    {
     "data": {
      "text/plain": [
       "array([1, 2, 3, 4, 5])"
      ]
     },
     "execution_count": 14,
     "metadata": {},
     "output_type": "execute_result"
    }
   ],
   "source": [
    "np.sort(v)"
   ]
  },
  {
   "cell_type": "code",
   "execution_count": 15,
   "id": "24bd37c2-be8e-42b1-a09e-f70a4c6caea9",
   "metadata": {},
   "outputs": [],
   "source": [
    "m = np.random.normal(20, 5, (3,3))"
   ]
  },
  {
   "cell_type": "code",
   "execution_count": 16,
   "id": "a38395a9-7c8e-4c73-af57-d947854ce21a",
   "metadata": {},
   "outputs": [
    {
     "data": {
      "text/plain": [
       "array([[ 9.4937873 , 16.73340228, 26.3563826 ],\n",
       "       [23.29661251, 20.45513627, 25.35850092],\n",
       "       [19.4254832 , 12.97629511, 19.652949  ]])"
      ]
     },
     "execution_count": 16,
     "metadata": {},
     "output_type": "execute_result"
    }
   ],
   "source": [
    "m"
   ]
  },
  {
   "cell_type": "code",
   "execution_count": 17,
   "id": "b83d071c-4d06-4559-9306-dbab18ca9f32",
   "metadata": {},
   "outputs": [
    {
     "data": {
      "text/plain": [
       "array([[ 9.4937873 , 16.73340228, 26.3563826 ],\n",
       "       [20.45513627, 23.29661251, 25.35850092],\n",
       "       [12.97629511, 19.4254832 , 19.652949  ]])"
      ]
     },
     "execution_count": 17,
     "metadata": {},
     "output_type": "execute_result"
    }
   ],
   "source": [
    "np.sort(m, axis = 1)"
   ]
  },
  {
   "cell_type": "code",
   "execution_count": 18,
   "id": "948b3984-31a7-4692-9f6e-103f52479715",
   "metadata": {},
   "outputs": [
    {
     "data": {
      "text/plain": [
       "array([[ 9.4937873 , 12.97629511, 19.652949  ],\n",
       "       [19.4254832 , 16.73340228, 25.35850092],\n",
       "       [23.29661251, 20.45513627, 26.3563826 ]])"
      ]
     },
     "execution_count": 18,
     "metadata": {},
     "output_type": "execute_result"
    }
   ],
   "source": [
    "np.sort(m, axis = 0)"
   ]
  },
  {
   "cell_type": "code",
   "execution_count": null,
   "id": "a1cae7ce-ae3e-4a0c-a34f-95685f51e3c6",
   "metadata": {},
   "outputs": [],
   "source": []
  }
 ],
 "metadata": {
  "kernelspec": {
   "display_name": "Python 3 (ipykernel)",
   "language": "python",
   "name": "python3"
  },
  "language_info": {
   "codemirror_mode": {
    "name": "ipython",
    "version": 3
   },
   "file_extension": ".py",
   "mimetype": "text/x-python",
   "name": "python",
   "nbconvert_exporter": "python",
   "pygments_lexer": "ipython3",
   "version": "3.9.7"
  }
 },
 "nbformat": 4,
 "nbformat_minor": 5
}
