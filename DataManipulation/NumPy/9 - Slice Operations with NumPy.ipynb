{
 "cells": [
  {
   "cell_type": "markdown",
   "id": "8a86c4b7-278f-4917-aac4-78e1fa17932f",
   "metadata": {},
   "source": [
    "# Slice Operations"
   ]
  },
  {
   "cell_type": "code",
   "execution_count": null,
   "id": "2699906a-035c-4bc6-b11e-ece5e078d343",
   "metadata": {},
   "outputs": [],
   "source": []
  }
 ],
 "metadata": {
  "kernelspec": {
   "display_name": "Python 3 (ipykernel)",
   "language": "python",
   "name": "python3"
  },
  "language_info": {
   "codemirror_mode": {
    "name": "ipython",
    "version": 3
   },
   "file_extension": ".py",
   "mimetype": "text/x-python",
   "name": "python",
   "nbconvert_exporter": "python",
   "pygments_lexer": "ipython3",
   "version": "3.9.7"
  }
 },
 "nbformat": 4,
 "nbformat_minor": 5
}
