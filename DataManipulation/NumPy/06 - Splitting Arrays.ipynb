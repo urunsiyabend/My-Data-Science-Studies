{
 "cells": [
  {
   "cell_type": "markdown",
   "id": "0eb11b25-f5f3-4bed-b3ea-0683d3cd30a5",
   "metadata": {},
   "source": [
    "# Splitting Arrays"
   ]
  },
  {
   "cell_type": "code",
   "execution_count": 2,
   "id": "ca3dbd79-0028-46ed-a4a9-4820af495dbb",
   "metadata": {},
   "outputs": [],
   "source": [
    "import numpy as np"
   ]
  },
  {
   "cell_type": "code",
   "execution_count": 9,
   "id": "9f0d2780-5ca3-4b2a-b2ca-8768df2d0f36",
   "metadata": {},
   "outputs": [],
   "source": [
    "x = [1, 2, 3, 56, 65, 3, 2, 1]"
   ]
  },
  {
   "cell_type": "code",
   "execution_count": 11,
   "id": "6987b1dc-4966-4552-ae9a-140e2f1fd923",
   "metadata": {},
   "outputs": [],
   "source": [
    "a, b, c = np.split(x, [3, 5])"
   ]
  },
  {
   "cell_type": "code",
   "execution_count": 12,
   "id": "4a21d303-db51-4a94-a3f7-c848833351db",
   "metadata": {},
   "outputs": [
    {
     "data": {
      "text/plain": [
       "array([1, 2, 3])"
      ]
     },
     "execution_count": 12,
     "metadata": {},
     "output_type": "execute_result"
    }
   ],
   "source": [
    "a"
   ]
  },
  {
   "cell_type": "code",
   "execution_count": 13,
   "id": "0f3a977e-449e-49c0-8c62-3a99c89ea093",
   "metadata": {},
   "outputs": [
    {
     "data": {
      "text/plain": [
       "array([56, 65])"
      ]
     },
     "execution_count": 13,
     "metadata": {},
     "output_type": "execute_result"
    }
   ],
   "source": [
    "b"
   ]
  },
  {
   "cell_type": "code",
   "execution_count": 14,
   "id": "4a656e0a-6ab1-4573-8867-eb1856c69e62",
   "metadata": {},
   "outputs": [
    {
     "data": {
      "text/plain": [
       "array([3, 2, 1])"
      ]
     },
     "execution_count": 14,
     "metadata": {},
     "output_type": "execute_result"
    }
   ],
   "source": [
    "c"
   ]
  },
  {
   "cell_type": "markdown",
   "id": "fe7237d0-3dce-4679-9ce3-ba7f00932f8c",
   "metadata": {},
   "source": [
    "## Two Dimensional Splitting"
   ]
  },
  {
   "cell_type": "code",
   "execution_count": 44,
   "id": "6c3e5af9-6681-4625-9ab2-2a17e78cc3ef",
   "metadata": {},
   "outputs": [
    {
     "data": {
      "text/plain": [
       "array([[ 0,  1,  2,  3],\n",
       "       [ 4,  5,  6,  7],\n",
       "       [ 8,  9, 10, 11],\n",
       "       [12, 13, 14, 15]])"
      ]
     },
     "execution_count": 44,
     "metadata": {},
     "output_type": "execute_result"
    }
   ],
   "source": [
    "m = np.arange(16).reshape(4, 4)\n",
    "m"
   ]
  },
  {
   "cell_type": "code",
   "execution_count": 55,
   "id": "7ab4b3a8-813a-4f05-b060-de53bf4b5b64",
   "metadata": {},
   "outputs": [],
   "source": [
    "top, bottom = np.vsplit(m, [2])"
   ]
  },
  {
   "cell_type": "code",
   "execution_count": 56,
   "id": "5d0a1e46-7839-44f7-bbbd-df76f7bc335a",
   "metadata": {},
   "outputs": [],
   "source": [
    "left, right = np.hsplit(m, [2])"
   ]
  }
 ],
 "metadata": {
  "kernelspec": {
   "display_name": "Python 3 (ipykernel)",
   "language": "python",
   "name": "python3"
  },
  "language_info": {
   "codemirror_mode": {
    "name": "ipython",
    "version": 3
   },
   "file_extension": ".py",
   "mimetype": "text/x-python",
   "name": "python",
   "nbconvert_exporter": "python",
   "pygments_lexer": "ipython3",
   "version": "3.9.7"
  }
 },
 "nbformat": 4,
 "nbformat_minor": 5
}
