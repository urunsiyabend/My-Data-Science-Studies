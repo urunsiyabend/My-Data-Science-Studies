{
 "cells": [
  {
   "cell_type": "markdown",
   "id": "3a36e09f-dd03-4a2c-9a6d-a2da9a22553b",
   "metadata": {},
   "source": [
    "# Analyzing the Relation Between Tip and Bill with Correlation Analysis"
   ]
  },
  {
   "cell_type": "markdown",
   "id": "8f902433-f2c3-447a-9dff-2aca40912509",
   "metadata": {},
   "source": [
    "**Problem**:\n",
    "* It there correlation between tip and bill?"
   ]
  },
  {
   "cell_type": "markdown",
   "id": "0ef26870-fa24-4b8c-b71b-b33182993ff2",
   "metadata": {},
   "source": [
    "## Hypothesis "
   ]
  },
  {
   "attachments": {
    "2b624cee-bfd4-449d-9e8a-86434960d274.png": {
     "image/png": "[encoded data removed]"
    }
   },
   "cell_type": "markdown",
   "id": "8029157a-a033-45e3-9b7d-d64d65f2fb02",
   "metadata": {},
   "source": [
    "![image.png](attachment:2b624cee-bfd4-449d-9e8a-86434960d274.png)"
   ]
  },
  {
   "cell_type": "code",
   "execution_count": 27,
   "id": "debf93ea-9af0-47b4-8db6-af486e67af94",
   "metadata": {},
   "outputs": [
    {
     "data": {
      "text/html": [
       "<div>\n",
       "<style scoped>\n",
       "    .dataframe tbody tr th:only-of-type {\n",
       "        vertical-align: middle;\n",
       "    }\n",
       "\n",
       "    .dataframe tbody tr th {\n",
       "        vertical-align: top;\n",
       "    }\n",
       "\n",
       "    .dataframe thead th {\n",
       "        text-align: right;\n",
       "    }\n",
       "</style>\n",
       "<table border=\"1\" class=\"dataframe\">\n",
       "  <thead>\n",
       "    <tr style=\"text-align: right;\">\n",
       "      <th></th>\n",
       "      <th>total_bill</th>\n",
       "      <th>tip</th>\n",
       "      <th>sex</th>\n",
       "      <th>smoker</th>\n",
       "      <th>day</th>\n",
       "      <th>time</th>\n",
       "      <th>size</th>\n",
       "    </tr>\n",
       "  </thead>\n",
       "  <tbody>\n",
       "    <tr>\n",
       "      <th>0</th>\n",
       "      <td>16.99</td>\n",
       "      <td>1.01</td>\n",
       "      <td>Female</td>\n",
       "      <td>No</td>\n",
       "      <td>Sun</td>\n",
       "      <td>Dinner</td>\n",
       "      <td>2</td>\n",
       "    </tr>\n",
       "    <tr>\n",
       "      <th>1</th>\n",
       "      <td>10.34</td>\n",
       "      <td>1.66</td>\n",
       "      <td>Male</td>\n",
       "      <td>No</td>\n",
       "      <td>Sun</td>\n",
       "      <td>Dinner</td>\n",
       "      <td>3</td>\n",
       "    </tr>\n",
       "    <tr>\n",
       "      <th>2</th>\n",
       "      <td>21.01</td>\n",
       "      <td>3.50</td>\n",
       "      <td>Male</td>\n",
       "      <td>No</td>\n",
       "      <td>Sun</td>\n",
       "      <td>Dinner</td>\n",
       "      <td>3</td>\n",
       "    </tr>\n",
       "    <tr>\n",
       "      <th>3</th>\n",
       "      <td>23.68</td>\n",
       "      <td>3.31</td>\n",
       "      <td>Male</td>\n",
       "      <td>No</td>\n",
       "      <td>Sun</td>\n",
       "      <td>Dinner</td>\n",
       "      <td>2</td>\n",
       "    </tr>\n",
       "    <tr>\n",
       "      <th>4</th>\n",
       "      <td>24.59</td>\n",
       "      <td>3.61</td>\n",
       "      <td>Female</td>\n",
       "      <td>No</td>\n",
       "      <td>Sun</td>\n",
       "      <td>Dinner</td>\n",
       "      <td>4</td>\n",
       "    </tr>\n",
       "  </tbody>\n",
       "</table>\n",
       "</div>"
      ],
      "text/plain": [
       "   total_bill   tip     sex smoker  day    time  size\n",
       "0       16.99  1.01  Female     No  Sun  Dinner     2\n",
       "1       10.34  1.66    Male     No  Sun  Dinner     3\n",
       "2       21.01  3.50    Male     No  Sun  Dinner     3\n",
       "3       23.68  3.31    Male     No  Sun  Dinner     2\n",
       "4       24.59  3.61  Female     No  Sun  Dinner     4"
      ]
     },
     "execution_count": 27,
     "metadata": {},
     "output_type": "execute_result"
    }
   ],
   "source": [
    "import seaborn as sns\n",
    "tips = sns.load_dataset(\"tips\")\n",
    "df = tips.copy()\n",
    "df.head()"
   ]
  },
  {
   "cell_type": "code",
   "execution_count": 28,
   "id": "c25ee8de-1335-4d13-bd47-0ebd75ba5370",
   "metadata": {},
   "outputs": [],
   "source": [
    "df[\"bill\"] = df[\"total_bill\"] - df[\"tip\"]"
   ]
  },
  {
   "cell_type": "code",
   "execution_count": 29,
   "id": "3c2dccc5-1ee7-4323-a73a-3ad135a03a21",
   "metadata": {},
   "outputs": [
    {
     "data": {
      "text/html": [
       "<div>\n",
       "<style scoped>\n",
       "    .dataframe tbody tr th:only-of-type {\n",
       "        vertical-align: middle;\n",
       "    }\n",
       "\n",
       "    .dataframe tbody tr th {\n",
       "        vertical-align: top;\n",
       "    }\n",
       "\n",
       "    .dataframe thead th {\n",
       "        text-align: right;\n",
       "    }\n",
       "</style>\n",
       "<table border=\"1\" class=\"dataframe\">\n",
       "  <thead>\n",
       "    <tr style=\"text-align: right;\">\n",
       "      <th></th>\n",
       "      <th>total_bill</th>\n",
       "      <th>tip</th>\n",
       "      <th>sex</th>\n",
       "      <th>smoker</th>\n",
       "      <th>day</th>\n",
       "      <th>time</th>\n",
       "      <th>size</th>\n",
       "      <th>bill</th>\n",
       "    </tr>\n",
       "  </thead>\n",
       "  <tbody>\n",
       "    <tr>\n",
       "      <th>0</th>\n",
       "      <td>16.99</td>\n",
       "      <td>1.01</td>\n",
       "      <td>Female</td>\n",
       "      <td>No</td>\n",
       "      <td>Sun</td>\n",
       "      <td>Dinner</td>\n",
       "      <td>2</td>\n",
       "      <td>15.98</td>\n",
       "    </tr>\n",
       "    <tr>\n",
       "      <th>1</th>\n",
       "      <td>10.34</td>\n",
       "      <td>1.66</td>\n",
       "      <td>Male</td>\n",
       "      <td>No</td>\n",
       "      <td>Sun</td>\n",
       "      <td>Dinner</td>\n",
       "      <td>3</td>\n",
       "      <td>8.68</td>\n",
       "    </tr>\n",
       "    <tr>\n",
       "      <th>2</th>\n",
       "      <td>21.01</td>\n",
       "      <td>3.50</td>\n",
       "      <td>Male</td>\n",
       "      <td>No</td>\n",
       "      <td>Sun</td>\n",
       "      <td>Dinner</td>\n",
       "      <td>3</td>\n",
       "      <td>17.51</td>\n",
       "    </tr>\n",
       "    <tr>\n",
       "      <th>3</th>\n",
       "      <td>23.68</td>\n",
       "      <td>3.31</td>\n",
       "      <td>Male</td>\n",
       "      <td>No</td>\n",
       "      <td>Sun</td>\n",
       "      <td>Dinner</td>\n",
       "      <td>2</td>\n",
       "      <td>20.37</td>\n",
       "    </tr>\n",
       "    <tr>\n",
       "      <th>4</th>\n",
       "      <td>24.59</td>\n",
       "      <td>3.61</td>\n",
       "      <td>Female</td>\n",
       "      <td>No</td>\n",
       "      <td>Sun</td>\n",
       "      <td>Dinner</td>\n",
       "      <td>4</td>\n",
       "      <td>20.98</td>\n",
       "    </tr>\n",
       "    <tr>\n",
       "      <th>...</th>\n",
       "      <td>...</td>\n",
       "      <td>...</td>\n",
       "      <td>...</td>\n",
       "      <td>...</td>\n",
       "      <td>...</td>\n",
       "      <td>...</td>\n",
       "      <td>...</td>\n",
       "      <td>...</td>\n",
       "    </tr>\n",
       "    <tr>\n",
       "      <th>239</th>\n",
       "      <td>29.03</td>\n",
       "      <td>5.92</td>\n",
       "      <td>Male</td>\n",
       "      <td>No</td>\n",
       "      <td>Sat</td>\n",
       "      <td>Dinner</td>\n",
       "      <td>3</td>\n",
       "      <td>23.11</td>\n",
       "    </tr>\n",
       "    <tr>\n",
       "      <th>240</th>\n",
       "      <td>27.18</td>\n",
       "      <td>2.00</td>\n",
       "      <td>Female</td>\n",
       "      <td>Yes</td>\n",
       "      <td>Sat</td>\n",
       "      <td>Dinner</td>\n",
       "      <td>2</td>\n",
       "      <td>25.18</td>\n",
       "    </tr>\n",
       "    <tr>\n",
       "      <th>241</th>\n",
       "      <td>22.67</td>\n",
       "      <td>2.00</td>\n",
       "      <td>Male</td>\n",
       "      <td>Yes</td>\n",
       "      <td>Sat</td>\n",
       "      <td>Dinner</td>\n",
       "      <td>2</td>\n",
       "      <td>20.67</td>\n",
       "    </tr>\n",
       "    <tr>\n",
       "      <th>242</th>\n",
       "      <td>17.82</td>\n",
       "      <td>1.75</td>\n",
       "      <td>Male</td>\n",
       "      <td>No</td>\n",
       "      <td>Sat</td>\n",
       "      <td>Dinner</td>\n",
       "      <td>2</td>\n",
       "      <td>16.07</td>\n",
       "    </tr>\n",
       "    <tr>\n",
       "      <th>243</th>\n",
       "      <td>18.78</td>\n",
       "      <td>3.00</td>\n",
       "      <td>Female</td>\n",
       "      <td>No</td>\n",
       "      <td>Thur</td>\n",
       "      <td>Dinner</td>\n",
       "      <td>2</td>\n",
       "      <td>15.78</td>\n",
       "    </tr>\n",
       "  </tbody>\n",
       "</table>\n",
       "<p>244 rows × 8 columns</p>\n",
       "</div>"
      ],
      "text/plain": [
       "     total_bill   tip     sex smoker   day    time  size   bill\n",
       "0         16.99  1.01  Female     No   Sun  Dinner     2  15.98\n",
       "1         10.34  1.66    Male     No   Sun  Dinner     3   8.68\n",
       "2         21.01  3.50    Male     No   Sun  Dinner     3  17.51\n",
       "3         23.68  3.31    Male     No   Sun  Dinner     2  20.37\n",
       "4         24.59  3.61  Female     No   Sun  Dinner     4  20.98\n",
       "..          ...   ...     ...    ...   ...     ...   ...    ...\n",
       "239       29.03  5.92    Male     No   Sat  Dinner     3  23.11\n",
       "240       27.18  2.00  Female    Yes   Sat  Dinner     2  25.18\n",
       "241       22.67  2.00    Male    Yes   Sat  Dinner     2  20.67\n",
       "242       17.82  1.75    Male     No   Sat  Dinner     2  16.07\n",
       "243       18.78  3.00  Female     No  Thur  Dinner     2  15.78\n",
       "\n",
       "[244 rows x 8 columns]"
      ]
     },
     "execution_count": 29,
     "metadata": {},
     "output_type": "execute_result"
    }
   ],
   "source": [
    "df"
   ]
  },
  {
   "cell_type": "code",
   "execution_count": 30,
   "id": "56c9ab9c-2ade-49b2-9676-6cf3a6700dd8",
   "metadata": {},
   "outputs": [
    {
     "data": {
      "image/png": "[encoded data removed]",
      "text/plain": [
       "<Figure size 432x288 with 1 Axes>"
      ]
     },
     "metadata": {
      "needs_background": "light"
     },
     "output_type": "display_data"
    }
   ],
   "source": [
    "df.plot.scatter(\"bill\", \"tip\");"
   ]
  },
  {
   "cell_type": "markdown",
   "id": "39f89a90-df73-4ad9-989c-c5e7d7a15ae5",
   "metadata": {},
   "source": [
    "## Assumption Control"
   ]
  },
  {
   "cell_type": "code",
   "execution_count": 31,
   "id": "8d47db47-c614-42c4-9faf-774b1c2f2cef",
   "metadata": {},
   "outputs": [],
   "source": [
    "from scipy import stats"
   ]
  },
  {
   "cell_type": "code",
   "execution_count": 32,
   "id": "09b5d6a0-d3f3-4a65-a57c-5e55f04fbc63",
   "metadata": {},
   "outputs": [
    {
     "data": {
      "text/plain": [
       "ShapiroResult(statistic=0.897811233997345, pvalue=8.20057563521992e-12)"
      ]
     },
     "execution_count": 32,
     "metadata": {},
     "output_type": "execute_result"
    }
   ],
   "source": [
    "stats.shapiro(df.tip)"
   ]
  },
  {
   "cell_type": "code",
   "execution_count": 33,
   "id": "2ceca956-3735-4784-98d6-1214421fe5f4",
   "metadata": {},
   "outputs": [
    {
     "data": {
      "text/plain": [
       "ShapiroResult(statistic=0.9135652184486389, pvalue=1.1060377613780759e-10)"
      ]
     },
     "execution_count": 33,
     "metadata": {},
     "output_type": "execute_result"
    }
   ],
   "source": [
    "stats.shapiro(df.bill)"
   ]
  },
  {
   "cell_type": "markdown",
   "id": "9f01b113-4d41-449a-80d5-84f57cbb2b05",
   "metadata": {},
   "source": [
    "#### Shapiro Wilks Test H0: There is not significant difference between sampling distribution and theoritical normal distribution "
   ]
  },
  {
   "cell_type": "markdown",
   "id": "eb893809-e34f-4fa9-8e6d-a644623ab851",
   "metadata": {},
   "source": [
    "#### Obtained p-values lower than alpha (0.05) so we can reject hypothesis H0."
   ]
  },
  {
   "cell_type": "markdown",
   "id": "82b51fdb-b06a-4dfb-85d5-7b06aa5ce1a9",
   "metadata": {},
   "source": [
    "## Hypothesis Test"
   ]
  },
  {
   "cell_type": "markdown",
   "id": "6a3e9d32-520e-48a7-a7ea-c62cf07c1f79",
   "metadata": {},
   "source": [
    "### Correlation Coefficient"
   ]
  },
  {
   "cell_type": "markdown",
   "id": "2e1cd76f-0bfc-4a41-b8b8-009ca28e73e4",
   "metadata": {},
   "source": [
    "#### Pearson Correlation Coefficient"
   ]
  },
  {
   "cell_type": "code",
   "execution_count": 39,
   "id": "2e9ba5c7-fbcd-4a41-bc12-065518cced38",
   "metadata": {},
   "outputs": [
    {
     "data": {
      "text/plain": [
       "0.5766634471096382"
      ]
     },
     "execution_count": 39,
     "metadata": {},
     "output_type": "execute_result"
    }
   ],
   "source": [
    "df[\"tip\"].corr(df[\"bill\"])"
   ]
  },
  {
   "cell_type": "markdown",
   "id": "b91d7b1c-02e1-4733-b8fa-2fc14c116637",
   "metadata": {},
   "source": [
    "#### Spearman Correlation Coefficient"
   ]
  },
  {
   "cell_type": "code",
   "execution_count": 40,
   "id": "a9b3f9ea-b244-487e-a628-6d094c6bbe0a",
   "metadata": {},
   "outputs": [
    {
     "data": {
      "text/plain": [
       "0.593691939408997"
      ]
     },
     "execution_count": 40,
     "metadata": {},
     "output_type": "execute_result"
    }
   ],
   "source": [
    "df[\"tip\"].corr(df[\"bill\"], method = \"spearman\")"
   ]
  },
  {
   "cell_type": "markdown",
   "id": "ab703b7a-5eb1-4695-bfd1-fe876a3f8c5a",
   "metadata": {},
   "source": [
    "### Testing the Significance of Correlation"
   ]
  },
  {
   "cell_type": "code",
   "execution_count": 44,
   "id": "75c948e0-819a-4a9f-8f63-3ecf14cc3c27",
   "metadata": {},
   "outputs": [
    {
     "data": {
      "text/plain": [
       "(0.5766634471096377, 5.01829008494899e-23)"
      ]
     },
     "execution_count": 44,
     "metadata": {},
     "output_type": "execute_result"
    }
   ],
   "source": [
    "stats.stats.pearsonr(df[\"tip\"], df[\"bill\"])"
   ]
  },
  {
   "cell_type": "markdown",
   "id": "8926b1f7-0ddb-4a4e-ad1b-7af988793c9a",
   "metadata": {},
   "source": [
    "##### H0: There is no significant relation between variables"
   ]
  },
  {
   "cell_type": "markdown",
   "id": "ce20eb41-9093-4fdd-88ef-14734679807a",
   "metadata": {},
   "source": [
    "##### Obtained p-value is lower than alpha (0.05) so we can reject hypothesis H0"
   ]
  },
  {
   "cell_type": "markdown",
   "id": "928490e7-7762-4163-a913-1375af026af2",
   "metadata": {},
   "source": [
    "## Nonparametric Hypothesis Test"
   ]
  },
  {
   "cell_type": "markdown",
   "id": "94ab0df0-febd-4b51-8243-09917d92b013",
   "metadata": {},
   "source": [
    "#### Spearman"
   ]
  },
  {
   "cell_type": "code",
   "execution_count": 46,
   "id": "1e84b129-ac7b-4ce3-93fb-226eeefa74a8",
   "metadata": {},
   "outputs": [
    {
     "data": {
      "text/plain": [
       "SpearmanrResult(correlation=0.593691939408997, pvalue=1.2452285137560276e-24)"
      ]
     },
     "execution_count": 46,
     "metadata": {},
     "output_type": "execute_result"
    }
   ],
   "source": [
    "stats.stats.spearmanr(df[\"tip\"], df[\"bill\"])"
   ]
  },
  {
   "cell_type": "markdown",
   "id": "62211af2-45bd-4e30-a386-bb7a52cef2e1",
   "metadata": {},
   "source": [
    "##### H0: There is no significant relation between variables"
   ]
  },
  {
   "cell_type": "markdown",
   "id": "26c88c85-2e57-4fcf-949d-f5f915b4c420",
   "metadata": {},
   "source": [
    "##### Obtained p-value is lower than alpha (0.05) so we can reject hypothesis H0"
   ]
  },
  {
   "cell_type": "markdown",
   "id": "6e19d4e3-3940-407c-b95a-b319df3ddc87",
   "metadata": {},
   "source": [
    "#### Kendall Tau"
   ]
  },
  {
   "cell_type": "code",
   "execution_count": 48,
   "id": "86798232-5bbc-459f-b5d2-4b316eaf3c9f",
   "metadata": {},
   "outputs": [
    {
     "data": {
      "text/plain": [
       "KendalltauResult(correlation=0.4400790074919885, pvalue=7.131027725873721e-24)"
      ]
     },
     "execution_count": 48,
     "metadata": {},
     "output_type": "execute_result"
    }
   ],
   "source": [
    "stats.kendalltau(df[\"tip\"], df[\"bill\"])"
   ]
  },
  {
   "cell_type": "markdown",
   "id": "c5224a8d-21ef-4343-8288-4ad1198bdf27",
   "metadata": {},
   "source": [
    "##### H0: There is no significant relation between variables"
   ]
  },
  {
   "cell_type": "markdown",
   "id": "051fe466-e4ac-41a6-9afb-555f81978738",
   "metadata": {},
   "source": [
    "##### Obtained p-value is lower than alpha (0.05) so we can reject hypothesis H0"
   ]
  }
 ],
 "metadata": {
  "kernelspec": {
   "display_name": "Python 3 (ipykernel)",
   "language": "python",
   "name": "python3"
  },
  "language_info": {
   "codemirror_mode": {
    "name": "ipython",
    "version": 3
   },
   "file_extension": ".py",
   "mimetype": "text/x-python",
   "name": "python",
   "nbconvert_exporter": "python",
   "pygments_lexer": "ipython3",
   "version": "3.9.7"
  }
 },
 "nbformat": 4,
 "nbformat_minor": 5
}
