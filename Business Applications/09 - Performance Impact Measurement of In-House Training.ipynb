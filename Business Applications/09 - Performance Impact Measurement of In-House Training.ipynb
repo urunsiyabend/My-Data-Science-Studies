{
 "cells": [
  {
   "cell_type": "markdown",
   "id": "521b6ea4-9ed2-4c64-b53e-ad031c8a7916",
   "metadata": {},
   "source": [
    "# Performance Impact Measurement of In-House Training"
   ]
  },
  {
   "cell_type": "markdown",
   "id": "0bf22f2e-fd64-4f93-8545-bad8d6ebdde6",
   "metadata": {},
   "source": [
    "**Problem:**\n",
    "* It is desired to measure whether an education provides added value."
   ]
  },
  {
   "cell_type": "markdown",
   "id": "6a7a3304-1a59-4452-810f-cb45ab7f3f21",
   "metadata": {},
   "source": [
    "**Details:**\n",
    "* A department requests a education\n",
    "* Some necessary measurement were made about before education and after education\n",
    "* It is desired to test the added value that provided by education"
   ]
  },
  {
   "attachments": {
    "837f6440-289a-40cc-a99a-b0109c789a73.png": {
     "image/png": "[encoded data removed]"
    }
   },
   "cell_type": "markdown",
   "id": "c5e72154-1afb-499c-93b3-4888d83aa03b",
   "metadata": {},
   "source": [
    "![image.png](attachment:837f6440-289a-40cc-a99a-b0109c789a73.png)"
   ]
  },
  {
   "cell_type": "code",
   "execution_count": 58,
   "id": "63ce07dc-dd2a-466a-8617-11c5f4169e3d",
   "metadata": {},
   "outputs": [],
   "source": [
    "import pandas as pd\n",
    "import numpy as np"
   ]
  },
  {
   "cell_type": "code",
   "execution_count": 59,
   "id": "238d147c-c563-446a-8e5a-2056a75a4305",
   "metadata": {},
   "outputs": [],
   "source": [
    "before_edc = pd.DataFrame([ 83.50557736, 105.51299826,  53.51595405, 112.12880962,\n",
    "                           123.87037364, 117.93284947,  89.88905968, 107.46635002,\n",
    "                           123.99437324, 102.5227902 ,  95.35261123, 109.69947916,\n",
    "                           111.521172  ,  72.14549473, 133.71022815, 119.7699817 ,\n",
    "                           103.26214497,  98.30517506,  82.7000986 , 108.21789074])\n",
    "\n",
    "after_edc = pd.DataFrame([112.10579229, 136.20018167, 111.47887549, 104.77146806,\n",
    "                          138.93450595, 118.45664411, 119.73949088,  90.23528406,\n",
    "                          119.13868306, 118.77152979, 106.92681212, 131.65279088,\n",
    "                          108.89526532,  81.59446671, 156.65668791, 115.52452599,\n",
    "                          122.15012926,  91.94117735, 107.3482644 , 118.73210556])"
   ]
  },
  {
   "cell_type": "code",
   "execution_count": 60,
   "id": "e13a85d6-251c-45d3-abf1-903ab6740689",
   "metadata": {},
   "outputs": [
    {
     "data": {
      "text/html": [
       "<div>\n",
       "<style scoped>\n",
       "    .dataframe tbody tr th:only-of-type {\n",
       "        vertical-align: middle;\n",
       "    }\n",
       "\n",
       "    .dataframe tbody tr th {\n",
       "        vertical-align: top;\n",
       "    }\n",
       "\n",
       "    .dataframe thead th {\n",
       "        text-align: right;\n",
       "    }\n",
       "</style>\n",
       "<table border=\"1\" class=\"dataframe\">\n",
       "  <thead>\n",
       "    <tr style=\"text-align: right;\">\n",
       "      <th></th>\n",
       "      <th>0</th>\n",
       "    </tr>\n",
       "  </thead>\n",
       "  <tbody>\n",
       "    <tr>\n",
       "      <th>0</th>\n",
       "      <td>83.505577</td>\n",
       "    </tr>\n",
       "    <tr>\n",
       "      <th>1</th>\n",
       "      <td>105.512998</td>\n",
       "    </tr>\n",
       "    <tr>\n",
       "      <th>2</th>\n",
       "      <td>53.515954</td>\n",
       "    </tr>\n",
       "    <tr>\n",
       "      <th>3</th>\n",
       "      <td>112.128810</td>\n",
       "    </tr>\n",
       "    <tr>\n",
       "      <th>4</th>\n",
       "      <td>123.870374</td>\n",
       "    </tr>\n",
       "  </tbody>\n",
       "</table>\n",
       "</div>"
      ],
      "text/plain": [
       "            0\n",
       "0   83.505577\n",
       "1  105.512998\n",
       "2   53.515954\n",
       "3  112.128810\n",
       "4  123.870374"
      ]
     },
     "execution_count": 60,
     "metadata": {},
     "output_type": "execute_result"
    }
   ],
   "source": [
    "before_edc.head()"
   ]
  },
  {
   "cell_type": "code",
   "execution_count": 61,
   "id": "3bebe158-72f1-4846-838f-d1c1707f3bf5",
   "metadata": {},
   "outputs": [
    {
     "data": {
      "text/html": [
       "<div>\n",
       "<style scoped>\n",
       "    .dataframe tbody tr th:only-of-type {\n",
       "        vertical-align: middle;\n",
       "    }\n",
       "\n",
       "    .dataframe tbody tr th {\n",
       "        vertical-align: top;\n",
       "    }\n",
       "\n",
       "    .dataframe thead th {\n",
       "        text-align: right;\n",
       "    }\n",
       "</style>\n",
       "<table border=\"1\" class=\"dataframe\">\n",
       "  <thead>\n",
       "    <tr style=\"text-align: right;\">\n",
       "      <th></th>\n",
       "      <th>0</th>\n",
       "    </tr>\n",
       "  </thead>\n",
       "  <tbody>\n",
       "    <tr>\n",
       "      <th>0</th>\n",
       "      <td>112.105792</td>\n",
       "    </tr>\n",
       "    <tr>\n",
       "      <th>1</th>\n",
       "      <td>136.200182</td>\n",
       "    </tr>\n",
       "    <tr>\n",
       "      <th>2</th>\n",
       "      <td>111.478875</td>\n",
       "    </tr>\n",
       "    <tr>\n",
       "      <th>3</th>\n",
       "      <td>104.771468</td>\n",
       "    </tr>\n",
       "    <tr>\n",
       "      <th>4</th>\n",
       "      <td>138.934506</td>\n",
       "    </tr>\n",
       "  </tbody>\n",
       "</table>\n",
       "</div>"
      ],
      "text/plain": [
       "            0\n",
       "0  112.105792\n",
       "1  136.200182\n",
       "2  111.478875\n",
       "3  104.771468\n",
       "4  138.934506"
      ]
     },
     "execution_count": 61,
     "metadata": {},
     "output_type": "execute_result"
    }
   ],
   "source": [
    "after_edc.head()"
   ]
  },
  {
   "cell_type": "markdown",
   "id": "0dfe4547-6c03-45b6-9a9f-ea3c9d1ee63c",
   "metadata": {},
   "source": [
    "### DATA TYPE I"
   ]
  },
  {
   "cell_type": "code",
   "execution_count": 62,
   "id": "5c2771e9-a2bf-43e7-9e98-297d5557859d",
   "metadata": {},
   "outputs": [
    {
     "data": {
      "text/html": [
       "<div>\n",
       "<style scoped>\n",
       "    .dataframe tbody tr th:only-of-type {\n",
       "        vertical-align: middle;\n",
       "    }\n",
       "\n",
       "    .dataframe tbody tr th {\n",
       "        vertical-align: top;\n",
       "    }\n",
       "\n",
       "    .dataframe thead th {\n",
       "        text-align: right;\n",
       "    }\n",
       "</style>\n",
       "<table border=\"1\" class=\"dataframe\">\n",
       "  <thead>\n",
       "    <tr style=\"text-align: right;\">\n",
       "      <th></th>\n",
       "      <th>before_edc</th>\n",
       "      <th>after_edc</th>\n",
       "    </tr>\n",
       "  </thead>\n",
       "  <tbody>\n",
       "    <tr>\n",
       "      <th>0</th>\n",
       "      <td>83.505577</td>\n",
       "      <td>112.105792</td>\n",
       "    </tr>\n",
       "    <tr>\n",
       "      <th>1</th>\n",
       "      <td>105.512998</td>\n",
       "      <td>136.200182</td>\n",
       "    </tr>\n",
       "    <tr>\n",
       "      <th>2</th>\n",
       "      <td>53.515954</td>\n",
       "      <td>111.478875</td>\n",
       "    </tr>\n",
       "    <tr>\n",
       "      <th>3</th>\n",
       "      <td>112.128810</td>\n",
       "      <td>104.771468</td>\n",
       "    </tr>\n",
       "    <tr>\n",
       "      <th>4</th>\n",
       "      <td>123.870374</td>\n",
       "      <td>138.934506</td>\n",
       "    </tr>\n",
       "  </tbody>\n",
       "</table>\n",
       "</div>"
      ],
      "text/plain": [
       "   before_edc   after_edc\n",
       "0   83.505577  112.105792\n",
       "1  105.512998  136.200182\n",
       "2   53.515954  111.478875\n",
       "3  112.128810  104.771468\n",
       "4  123.870374  138.934506"
      ]
     },
     "execution_count": 62,
     "metadata": {},
     "output_type": "execute_result"
    }
   ],
   "source": [
    "discrete = pd.concat([before_edc, after_edc], axis=1)\n",
    "discrete.columns = [\"before_edc\", \"after_edc\"]\n",
    "discrete.head()"
   ]
  },
  {
   "cell_type": "markdown",
   "id": "cef66ec6-c649-4851-b4a8-7ee610e0e6e5",
   "metadata": {},
   "source": [
    "### DATA TYPE II"
   ]
  },
  {
   "cell_type": "code",
   "execution_count": 63,
   "id": "aac28fb0-6e6b-4918-9f05-247099d3bfad",
   "metadata": {},
   "outputs": [
    {
     "data": {
      "text/html": [
       "<div>\n",
       "<style scoped>\n",
       "    .dataframe tbody tr th:only-of-type {\n",
       "        vertical-align: middle;\n",
       "    }\n",
       "\n",
       "    .dataframe tbody tr th {\n",
       "        vertical-align: top;\n",
       "    }\n",
       "\n",
       "    .dataframe thead th {\n",
       "        text-align: right;\n",
       "    }\n",
       "</style>\n",
       "<table border=\"1\" class=\"dataframe\">\n",
       "  <thead>\n",
       "    <tr style=\"text-align: right;\">\n",
       "      <th></th>\n",
       "      <th>performance</th>\n",
       "      <th>before_after</th>\n",
       "    </tr>\n",
       "  </thead>\n",
       "  <tbody>\n",
       "    <tr>\n",
       "      <th>0</th>\n",
       "      <td>83.505577</td>\n",
       "      <td>before_edc</td>\n",
       "    </tr>\n",
       "    <tr>\n",
       "      <th>1</th>\n",
       "      <td>105.512998</td>\n",
       "      <td>before_edc</td>\n",
       "    </tr>\n",
       "    <tr>\n",
       "      <th>2</th>\n",
       "      <td>53.515954</td>\n",
       "      <td>before_edc</td>\n",
       "    </tr>\n",
       "    <tr>\n",
       "      <th>3</th>\n",
       "      <td>112.128810</td>\n",
       "      <td>before_edc</td>\n",
       "    </tr>\n",
       "    <tr>\n",
       "      <th>4</th>\n",
       "      <td>123.870374</td>\n",
       "      <td>before_edc</td>\n",
       "    </tr>\n",
       "  </tbody>\n",
       "</table>\n",
       "</div>"
      ],
      "text/plain": [
       "   performance before_after\n",
       "0    83.505577   before_edc\n",
       "1   105.512998   before_edc\n",
       "2    53.515954   before_edc\n",
       "3   112.128810   before_edc\n",
       "4   123.870374   before_edc"
      ]
     },
     "execution_count": 63,
     "metadata": {},
     "output_type": "execute_result"
    }
   ],
   "source": [
    "# Creating before_edc tag\n",
    "GROUP_BEFORE = np.arange(len(before_edc))\n",
    "GROUP_BEFORE = pd.DataFrame(GROUP_BEFORE)\n",
    "GROUP_BEFORE[:] = \"before_edc\"\n",
    "\n",
    "# Concatenating before_edc tags\n",
    "A = pd.concat([before_edc, GROUP_BEFORE], axis=1)\n",
    "\n",
    "# Creating after_edc tag\n",
    "GROUP_AFTER = np.arange(len(after_edc))\n",
    "GROUP_AFTER = pd.DataFrame(GROUP_AFTER)\n",
    "GROUP_AFTER[:] = \"after_edc\"\n",
    "\n",
    "# Concatenating after_edc tags\n",
    "B = pd.concat([after_edc, GROUP_AFTER], axis=1)\n",
    "\n",
    "# Concatenating data\n",
    "together = pd.concat([A, B])\n",
    "\n",
    "# Naming columns\n",
    "together.columns = [\"performance\", \"before_after\"]\n",
    "together.head()"
   ]
  },
  {
   "cell_type": "markdown",
   "id": "007d84c8-016b-4103-8d86-522cb3e3bd57",
   "metadata": {},
   "source": [
    "## Visualization"
   ]
  },
  {
   "cell_type": "code",
   "execution_count": 64,
   "id": "39a40c9b-29ea-4908-b0d7-fcb748a3376b",
   "metadata": {},
   "outputs": [],
   "source": [
    "import seaborn as sns  "
   ]
  },
  {
   "cell_type": "code",
   "execution_count": 65,
   "id": "091e1840-1034-4e99-9707-7d41781f0bfd",
   "metadata": {},
   "outputs": [
    {
     "data": {
      "text/plain": [
       "<AxesSubplot:xlabel='before_after', ylabel='performance'>"
      ]
     },
     "execution_count": 65,
     "metadata": {},
     "output_type": "execute_result"
    },
    {
     "data": {
      "image/png": "[encoded data removed]",
      "text/plain": [
       "<Figure size 432x288 with 1 Axes>"
      ]
     },
     "metadata": {
      "needs_background": "light"
     },
     "output_type": "display_data"
    }
   ],
   "source": [
    "sns.boxplot(x = \"before_after\", y = \"performance\", data = together)"
   ]
  },
  {
   "cell_type": "markdown",
   "id": "1f33e89b-0170-4dc6-a5f7-71ba37b04ae7",
   "metadata": {},
   "source": [
    "## Assumption Tests"
   ]
  },
  {
   "cell_type": "markdown",
   "id": "e0d84838-0e87-49c1-a0f7-ae65f1ad6f88",
   "metadata": {},
   "source": [
    "### 1)Normality"
   ]
  },
  {
   "cell_type": "code",
   "execution_count": 66,
   "id": "2a15a3c5-a9a2-4c45-841b-090ffb5dfc63",
   "metadata": {},
   "outputs": [],
   "source": [
    "from scipy import stats"
   ]
  },
  {
   "cell_type": "code",
   "execution_count": 67,
   "id": "a2b55915-a75b-4a1c-9060-b6f9d62991d9",
   "metadata": {},
   "outputs": [
    {
     "data": {
      "text/plain": [
       "ShapiroResult(statistic=0.9524702429771423, pvalue=0.40614935755729675)"
      ]
     },
     "execution_count": 67,
     "metadata": {},
     "output_type": "execute_result"
    }
   ],
   "source": [
    "stats.shapiro(discrete.before_edc)"
   ]
  },
  {
   "cell_type": "code",
   "execution_count": 68,
   "id": "a4cf4224-029f-4083-ab69-a0ef27d471df",
   "metadata": {},
   "outputs": [
    {
     "data": {
      "text/plain": [
       "ShapiroResult(statistic=0.9652128219604492, pvalue=0.6522992253303528)"
      ]
     },
     "execution_count": 68,
     "metadata": {},
     "output_type": "execute_result"
    }
   ],
   "source": [
    "stats.shapiro(discrete.after_edc)"
   ]
  },
  {
   "cell_type": "markdown",
   "id": "03f3cb6d-9807-4126-b063-20abb5cf3c01",
   "metadata": {},
   "source": [
    "##### H0: There is no significance difference between sampling distribution and theoritical normal distribution"
   ]
  },
  {
   "cell_type": "markdown",
   "id": "29e4d6f4-c375-41a4-b9d1-8c17466346f8",
   "metadata": {},
   "source": [
    "##### Obtained p-value is greater than alpha (0.05) so we cannot reject hypotheses H0"
   ]
  },
  {
   "cell_type": "markdown",
   "id": "39a21d23-fda8-439b-a611-54b116af2aa1",
   "metadata": {},
   "source": [
    "### 2) Varient Homogeneity"
   ]
  },
  {
   "cell_type": "code",
   "execution_count": 69,
   "id": "d78d3132-0d7d-4992-8d49-5980586d0e5e",
   "metadata": {},
   "outputs": [
    {
     "data": {
      "text/plain": [
       "LeveneResult(statistic=0.16285147391668772, pvalue=0.6888066075057946)"
      ]
     },
     "execution_count": 69,
     "metadata": {},
     "output_type": "execute_result"
    }
   ],
   "source": [
    "stats.levene(discrete.before_edc, discrete.after_edc)"
   ]
  },
  {
   "cell_type": "markdown",
   "id": "ab7a5561-cbef-4a77-93e4-98fe8e94ad5d",
   "metadata": {},
   "source": [
    "##### H0: Sampling varients are homogeneous"
   ]
  },
  {
   "cell_type": "markdown",
   "id": "9dcc6621-e669-446b-ba7e-839eef93980d",
   "metadata": {},
   "source": [
    "##### Obtained pvalue is greater than alpha (0.05) so we can not reject hypotheses H0"
   ]
  },
  {
   "cell_type": "markdown",
   "id": "6ee62f9d-a744-41bb-a39b-ae3657209444",
   "metadata": {},
   "source": [
    "## Hypotheses Test"
   ]
  },
  {
   "cell_type": "code",
   "execution_count": 71,
   "id": "22681c43-e08c-4579-be58-a4e839d87d18",
   "metadata": {},
   "outputs": [
    {
     "data": {
      "text/plain": [
       "Ttest_relResult(statistic=-3.233473679243184, pvalue=0.004373101844148822)"
      ]
     },
     "execution_count": 71,
     "metadata": {},
     "output_type": "execute_result"
    }
   ],
   "source": [
    "stats.ttest_rel(discrete.before_edc, discrete.after_edc)"
   ]
  },
  {
   "cell_type": "markdown",
   "id": "73da27c3-127b-44f1-932f-5aecdd80a351",
   "metadata": {},
   "source": [
    "##### H0: Population means equals eachother"
   ]
  },
  {
   "cell_type": "markdown",
   "id": "8326a7e5-b955-4ddf-b00a-d8569eb8177d",
   "metadata": {},
   "source": [
    "##### Obtained p-value is lower than alpha (0.05) so we can reject the hypotheses H0"
   ]
  }
 ],
 "metadata": {
  "kernelspec": {
   "display_name": "Python 3 (ipykernel)",
   "language": "python",
   "name": "python3"
  },
  "language_info": {
   "codemirror_mode": {
    "name": "ipython",
    "version": 3
   },
   "file_extension": ".py",
   "mimetype": "text/x-python",
   "name": "python",
   "nbconvert_exporter": "python",
   "pygments_lexer": "ipython3",
   "version": "3.9.7"
  }
 },
 "nbformat": 4,
 "nbformat_minor": 5
}
