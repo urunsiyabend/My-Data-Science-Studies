{
 "cells": [
  {
   "cell_type": "markdown",
   "id": "33360a76-1f09-4686-8768-4c0ee5c5d22d",
   "metadata": {},
   "source": [
    "# Home Page Content Strategy with Variant Analysis"
   ]
  },
  {
   "cell_type": "markdown",
   "id": "c877f839-1bb9-4587-9d90-4071730be366",
   "metadata": {},
   "source": [
    "**Problem:**\n",
    "* It is desired to improve average session duration.\n",
    "\n",
    "**Details:**\n",
    "* Success criterions: average session duration, bounce rate etc.\n",
    "* It is known that users who spend more long time on the site, click on ads more \n",
    "* Towards this, similar news with different pictures or different formats shown to users\n",
    "* A: Naturally, B: Directive, C: Attractive"
   ]
  },
  {
   "cell_type": "code",
   "execution_count": 2,
   "id": "8bd0ec4c-1651-40c1-a6a3-fc9099e8f7af",
   "metadata": {},
   "outputs": [],
   "source": [
    "import pandas as pd\n",
    "import numpy as np"
   ]
  },
  {
   "cell_type": "code",
   "execution_count": 3,
   "id": "c7a07fe4-aa69-46c1-8d82-fabca98838bd",
   "metadata": {},
   "outputs": [],
   "source": [
    "A = np.random.normal(34, 5, size=(1, 40))[0]\n",
    "A = pd.DataFrame(A)"
   ]
  },
  {
   "cell_type": "code",
   "execution_count": 4,
   "id": "4816ff39-5728-4d9b-a70c-231b450663bb",
   "metadata": {},
   "outputs": [],
   "source": [
    "B = np.random.normal(46, 5, size=(1, 40))[0]\n",
    "B = pd.DataFrame(B)"
   ]
  },
  {
   "cell_type": "code",
   "execution_count": 5,
   "id": "e8d8f76b-04d0-4ea5-adf8-9a0a91f2643e",
   "metadata": {},
   "outputs": [],
   "source": [
    "C = np.random.normal(52, 5, size=(1, 40))[0]\n",
    "C = pd.DataFrame(C)"
   ]
  },
  {
   "cell_type": "code",
   "execution_count": 6,
   "id": "e99abb42-02f3-4916-91d0-5fa41386be42",
   "metadata": {},
   "outputs": [
    {
     "data": {
      "text/html": [
       "<div>\n",
       "<style scoped>\n",
       "    .dataframe tbody tr th:only-of-type {\n",
       "        vertical-align: middle;\n",
       "    }\n",
       "\n",
       "    .dataframe tbody tr th {\n",
       "        vertical-align: top;\n",
       "    }\n",
       "\n",
       "    .dataframe thead th {\n",
       "        text-align: right;\n",
       "    }\n",
       "</style>\n",
       "<table border=\"1\" class=\"dataframe\">\n",
       "  <thead>\n",
       "    <tr style=\"text-align: right;\">\n",
       "      <th></th>\n",
       "      <th>A</th>\n",
       "      <th>B</th>\n",
       "      <th>C</th>\n",
       "    </tr>\n",
       "  </thead>\n",
       "  <tbody>\n",
       "    <tr>\n",
       "      <th>0</th>\n",
       "      <td>36.099779</td>\n",
       "      <td>41.197428</td>\n",
       "      <td>51.390676</td>\n",
       "    </tr>\n",
       "    <tr>\n",
       "      <th>1</th>\n",
       "      <td>28.722537</td>\n",
       "      <td>44.080422</td>\n",
       "      <td>52.431113</td>\n",
       "    </tr>\n",
       "    <tr>\n",
       "      <th>2</th>\n",
       "      <td>32.765212</td>\n",
       "      <td>49.368074</td>\n",
       "      <td>45.403587</td>\n",
       "    </tr>\n",
       "    <tr>\n",
       "      <th>3</th>\n",
       "      <td>35.507679</td>\n",
       "      <td>52.532511</td>\n",
       "      <td>58.495448</td>\n",
       "    </tr>\n",
       "    <tr>\n",
       "      <th>4</th>\n",
       "      <td>45.142176</td>\n",
       "      <td>42.171804</td>\n",
       "      <td>50.778310</td>\n",
       "    </tr>\n",
       "  </tbody>\n",
       "</table>\n",
       "</div>"
      ],
      "text/plain": [
       "           A          B          C\n",
       "0  36.099779  41.197428  51.390676\n",
       "1  28.722537  44.080422  52.431113\n",
       "2  32.765212  49.368074  45.403587\n",
       "3  35.507679  52.532511  58.495448\n",
       "4  45.142176  42.171804  50.778310"
      ]
     },
     "execution_count": 6,
     "metadata": {},
     "output_type": "execute_result"
    }
   ],
   "source": [
    "ABC = pd.concat([A, B, C], axis=1)\n",
    "ABC.columns = [\"A\", \"B\", \"C\"]\n",
    "ABC.head()"
   ]
  },
  {
   "cell_type": "markdown",
   "id": "3055b0d2-8381-4417-91b0-160b74931fdf",
   "metadata": {},
   "source": [
    "## Assumption Control"
   ]
  },
  {
   "cell_type": "markdown",
   "id": "0e9f81dd-7386-4829-998d-ea213eeac504",
   "metadata": {},
   "source": [
    "### 1) Normality"
   ]
  },
  {
   "cell_type": "code",
   "execution_count": 8,
   "id": "387ee811-b6df-4840-8dec-f40ac59a2289",
   "metadata": {},
   "outputs": [],
   "source": [
    "from scipy import stats"
   ]
  },
  {
   "cell_type": "code",
   "execution_count": 10,
   "id": "c082994f-3b74-4216-8a3d-7885019dac69",
   "metadata": {},
   "outputs": [
    {
     "data": {
      "text/plain": [
       "ShapiroResult(statistic=0.9701696634292603, pvalue=0.36438819766044617)"
      ]
     },
     "execution_count": 10,
     "metadata": {},
     "output_type": "execute_result"
    }
   ],
   "source": [
    "stats.shapiro(ABC.A)"
   ]
  },
  {
   "cell_type": "code",
   "execution_count": 11,
   "id": "362240ac-2a28-4875-9fdd-d5b09a88156f",
   "metadata": {},
   "outputs": [
    {
     "data": {
      "text/plain": [
       "ShapiroResult(statistic=0.9783347249031067, pvalue=0.6278927326202393)"
      ]
     },
     "execution_count": 11,
     "metadata": {},
     "output_type": "execute_result"
    }
   ],
   "source": [
    "stats.shapiro(ABC.B)"
   ]
  },
  {
   "cell_type": "code",
   "execution_count": 17,
   "id": "fac10f50-6d3c-4246-a713-4dc1da42708e",
   "metadata": {},
   "outputs": [
    {
     "data": {
      "text/plain": [
       "ShapiroResult(statistic=0.9718413949012756, pvalue=0.41083887219429016)"
      ]
     },
     "execution_count": 17,
     "metadata": {},
     "output_type": "execute_result"
    }
   ],
   "source": [
    "stats.shapiro(ABC.C)"
   ]
  },
  {
   "cell_type": "markdown",
   "id": "c5e4c6d8-1675-43ff-9f59-bfadf6080abe",
   "metadata": {},
   "source": [
    "##### Shapiro Wilks Test H0: The distribution of given sample are normal."
   ]
  },
  {
   "cell_type": "markdown",
   "id": "d40aa033-5e06-485e-b2ea-111aa013eff4",
   "metadata": {},
   "source": [
    "##### Obtained p-values greater than alpha (0.05) so we can not reject hypothesis H0."
   ]
  },
  {
   "cell_type": "markdown",
   "id": "5ce70bc3-6a5a-4f29-9e08-35d9a6c4d74a",
   "metadata": {},
   "source": [
    "### 2) Variant Homogeneity"
   ]
  },
  {
   "cell_type": "code",
   "execution_count": 23,
   "id": "13a4dab6-56d8-4dfa-b9f7-bf8f87551219",
   "metadata": {},
   "outputs": [
    {
     "data": {
      "text/plain": [
       "LeveneResult(statistic=2.132072918337329, pvalue=0.123176201993557)"
      ]
     },
     "execution_count": 23,
     "metadata": {},
     "output_type": "execute_result"
    }
   ],
   "source": [
    "stats.levene(ABC.A, ABC.B, ABC.C)"
   ]
  },
  {
   "cell_type": "markdown",
   "id": "45264167-cd60-4e51-8530-73a9f920420f",
   "metadata": {},
   "source": [
    "##### Levene's Test H0: Variants of given sample are homogeneous"
   ]
  },
  {
   "cell_type": "markdown",
   "id": "ceb05b74-6a17-478a-9d6d-ce2e8f780120",
   "metadata": {},
   "source": [
    "##### Obtained p-value greater than alpha (0.05) so we can not reject hypothesis H0."
   ]
  },
  {
   "cell_type": "markdown",
   "id": "8cf1f434-002e-4a68-8117-163d22971e15",
   "metadata": {},
   "source": [
    "## Applying Hypothesis Test"
   ]
  },
  {
   "cell_type": "code",
   "execution_count": 28,
   "id": "40ff2797-66b3-463f-8e1c-dfd29faf9811",
   "metadata": {},
   "outputs": [
    {
     "data": {
      "text/plain": [
       "False"
      ]
     },
     "execution_count": 28,
     "metadata": {},
     "output_type": "execute_result"
    }
   ],
   "source": [
    "stats.f_oneway(ABC.A, ABC.B, ABC.C).pvalue > 0.05"
   ]
  },
  {
   "cell_type": "code",
   "execution_count": null,
   "id": "5376ba0f-38f3-411e-8522-4b6be7ace74a",
   "metadata": {},
   "outputs": [],
   "source": [
    "H0: There is not significant difference between means og b"
   ]
  }
 ],
 "metadata": {
  "kernelspec": {
   "display_name": "Python 3 (ipykernel)",
   "language": "python",
   "name": "python3"
  },
  "language_info": {
   "codemirror_mode": {
    "name": "ipython",
    "version": 3
   },
   "file_extension": ".py",
   "mimetype": "text/x-python",
   "name": "python",
   "nbconvert_exporter": "python",
   "pygments_lexer": "ipython3",
   "version": "3.9.7"
  }
 },
 "nbformat": 4,
 "nbformat_minor": 5
}
