{
 "cells": [
  {
   "cell_type": "markdown",
   "id": "33360a76-1f09-4686-8768-4c0ee5c5d22d",
   "metadata": {},
   "source": [
    "# Home Page Content Strategy with Variant Analysis"
   ]
  },
  {
   "cell_type": "markdown",
   "id": "c877f839-1bb9-4587-9d90-4071730be366",
   "metadata": {},
   "source": [
    "**Problem:**\n",
    "* It is desired to improve average session duration.\n",
    "\n",
    "**Details:**\n",
    "* Success criterions: average session duration, bounce rate etc.\n",
    "* It is known that users who spend more long time on the site, click on ads more \n",
    "* Towards this, similar news with different pictures or different formats shown to users\n",
    "* A: Naturally, B: Directive, C: Attractive"
   ]
  }
 ],
 "metadata": {
  "kernelspec": {
   "display_name": "Python 3 (ipykernel)",
   "language": "python",
   "name": "python3"
  },
  "language_info": {
   "codemirror_mode": {
    "name": "ipython",
    "version": 3
   },
   "file_extension": ".py",
   "mimetype": "text/x-python",
   "name": "python",
   "nbconvert_exporter": "python",
   "pygments_lexer": "ipython3",
   "version": "3.9.7"
  }
 },
 "nbformat": 4,
 "nbformat_minor": 5
}
