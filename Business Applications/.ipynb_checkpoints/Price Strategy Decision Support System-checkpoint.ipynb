{
 "cells": [
  {
   "cell_type": "markdown",
   "id": "5890fd47-5aae-416d-840c-4d9c24575f1f",
   "metadata": {},
   "source": [
    "# Price Strategy Decision Support System"
   ]
  },
  {
   "cell_type": "markdown",
   "id": "d2ffa7f9-e376-428c-8e7f-da6f8da791dd",
   "metadata": {},
   "source": [
    "* **Problem:**\n",
    "    * Searching for scientific basis and flexibility for determine prices.\n",
    "    \n",
    "* **Details:**\n",
    "    * There is a dealer, a customer and a product.\n",
    "    * Asking customers how much they will price.\n",
    "    * It is desired to find the optimum price scientifically and flexibly."
   ]
  },
  {
   "cell_type": "code",
   "execution_count": 1,
   "id": "5c185bb5-dc7e-4679-b2d3-ad138b6650c2",
   "metadata": {},
   "outputs": [],
   "source": [
    "import numpy as np"
   ]
  },
  {
   "cell_type": "code",
   "execution_count": 2,
   "id": "5ea77bf1-cadf-4368-b5ea-7fadd38bfdfe",
   "metadata": {},
   "outputs": [],
   "source": [
    "prices = np.random.randint(10, 110, 1000)"
   ]
  },
  {
   "cell_type": "code",
   "execution_count": 4,
   "id": "2e9ddd80-61d7-4e96-b895-df07b7e0f5fb",
   "metadata": {},
   "outputs": [
    {
     "data": {
      "text/plain": [
       "59.795"
      ]
     },
     "execution_count": 4,
     "metadata": {},
     "output_type": "execute_result"
    }
   ],
   "source": [
    "prices.mean()"
   ]
  },
  {
   "cell_type": "code",
   "execution_count": 8,
   "id": "cb2f294f-d1c2-4495-9254-ce0cdc62f7be",
   "metadata": {},
   "outputs": [],
   "source": [
    "import statsmodels.stats.api as sms"
   ]
  },
  {
   "cell_type": "code",
   "execution_count": 12,
   "id": "7e178595-b4ee-481d-b921-af963e11fb30",
   "metadata": {},
   "outputs": [
    {
     "data": {
      "text/plain": [
       "(57.98678559959244, 61.603214400407566)"
      ]
     },
     "execution_count": 12,
     "metadata": {},
     "output_type": "execute_result"
    }
   ],
   "source": [
    "sms.DescrStatsW(prices).tconfint_mean()"
   ]
  },
  {
   "cell_type": "markdown",
   "id": "faa56329-bef4-432a-bc9c-609345338af2",
   "metadata": {},
   "source": [
    "**Confidence Interval:** 58 - 61,6"
   ]
  }
 ],
 "metadata": {
  "kernelspec": {
   "display_name": "Python 3 (ipykernel)",
   "language": "python",
   "name": "python3"
  },
  "language_info": {
   "codemirror_mode": {
    "name": "ipython",
    "version": 3
   },
   "file_extension": ".py",
   "mimetype": "text/x-python",
   "name": "python",
   "nbconvert_exporter": "python",
   "pygments_lexer": "ipython3",
   "version": "3.9.7"
  }
 },
 "nbformat": 4,
 "nbformat_minor": 5
}
