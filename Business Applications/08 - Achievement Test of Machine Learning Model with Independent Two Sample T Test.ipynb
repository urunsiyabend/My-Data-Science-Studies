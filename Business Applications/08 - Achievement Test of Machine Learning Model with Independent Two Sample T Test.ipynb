{
 "cells": [
  {
   "cell_type": "markdown",
   "id": "7a722cf3-18e3-4857-9ef2-db829eb1d768",
   "metadata": {},
   "source": [
    "# Achievement Test of Machine Learning Model (AB Test) "
   ]
  },
  {
   "cell_type": "markdown",
   "id": "f56d98f0-809a-4aef-b174-b09b8c7fc42c",
   "metadata": {},
   "source": [
    "**Problem:**\n",
    "* A machine learning model is developed for recommending products to customers.\n",
    "* It is desired to test if is there any significance difference between new incomes between old incomes "
   ]
  },
  {
   "cell_type": "markdown",
   "id": "3d1fb75a-68da-4e2c-a78b-50780cc56775",
   "metadata": {},
   "source": [
    "**Details:**\n",
    "* There are 2 groups of customers.\n",
    "* A groups is the old one\n",
    "* B group is the new one"
   ]
  },
  {
   "cell_type": "markdown",
   "id": "c04df246-6bc8-4ee8-ba3e-9c3937c7c61b",
   "metadata": {},
   "source": [
    "#### Hyphothesis"
   ]
  },
  {
   "attachments": {
    "5b245dac-2081-4bdb-b9d9-837d2843764b.png": {
     "image/png": "[encoded data removed]"
    }
   },
   "cell_type": "markdown",
   "id": "485cd94f-decb-4cc7-bc5c-18b0b5b93a75",
   "metadata": {},
   "source": [
    "![image.png](attachment:5b245dac-2081-4bdb-b9d9-837d2843764b.png)"
   ]
  },
  {
   "cell_type": "code",
   "execution_count": 169,
   "id": "b39ad0d7-a559-47ac-9b53-520a53da335d",
   "metadata": {},
   "outputs": [],
   "source": [
    "import numpy as np\n",
    "import pandas as pd"
   ]
  },
  {
   "cell_type": "markdown",
   "id": "26ab72c5-19fe-433d-926b-b0177c19df47",
   "metadata": {},
   "source": [
    "## DATA TYPE I"
   ]
  },
  {
   "cell_type": "code",
   "execution_count": 200,
   "id": "56d2ed7f-4338-4e7a-aeea-fa134bf1916d",
   "metadata": {},
   "outputs": [],
   "source": [
    "A = pd.DataFrame([18.89830403, 30.2210749 , 29.04563476, 22.4920932 , 35.10970876,\n",
    "                  13.87323726, 35.80823442, 21.5936354 , 21.38387437, 42.92928187,\n",
    "                  13.57767304, 41.10766083, 31.19918858, 12.75681096, 22.45645249,\n",
    "                  5.85361486, 27.12473097, 24.65607123, 13.72920803, 11.54328435])"
   ]
  },
  {
   "cell_type": "code",
   "execution_count": 201,
   "id": "968aaaf8-616b-4d00-a4da-a37b9a774874",
   "metadata": {},
   "outputs": [],
   "source": [
    "B = pd.DataFrame([37.00871884, 25.70439688, 21.29093427, 44.63245383, 35.27408666,\n",
    "                  48.49138306, 58.48578528, 45.58682585, 38.10983331, 42.47661685,\n",
    "                  27.29351951, 15.31383582, 29.52874971, 45.10161315, 36.94904297,\n",
    "                  27.41135159, 50.60037117, 41.04763429, 36.95472512, 49.20921234])"
   ]
  },
  {
   "cell_type": "code",
   "execution_count": 202,
   "id": "d359f942-fd6a-4252-84bc-3693af910e5b",
   "metadata": {},
   "outputs": [],
   "source": [
    "AB_type1 = pd.concat([A, B], axis = 1)"
   ]
  },
  {
   "cell_type": "code",
   "execution_count": 203,
   "id": "2d5f4459-ff2c-41d7-be23-a0c365eedd69",
   "metadata": {},
   "outputs": [],
   "source": [
    "AB_type1.columns = [\"A\", \"B\"]"
   ]
  },
  {
   "cell_type": "code",
   "execution_count": 204,
   "id": "63bd5afe-400a-476c-ae8f-ee65d6073862",
   "metadata": {},
   "outputs": [
    {
     "data": {
      "text/html": [
       "<div>\n",
       "<style scoped>\n",
       "    .dataframe tbody tr th:only-of-type {\n",
       "        vertical-align: middle;\n",
       "    }\n",
       "\n",
       "    .dataframe tbody tr th {\n",
       "        vertical-align: top;\n",
       "    }\n",
       "\n",
       "    .dataframe thead th {\n",
       "        text-align: right;\n",
       "    }\n",
       "</style>\n",
       "<table border=\"1\" class=\"dataframe\">\n",
       "  <thead>\n",
       "    <tr style=\"text-align: right;\">\n",
       "      <th></th>\n",
       "      <th>A</th>\n",
       "      <th>B</th>\n",
       "    </tr>\n",
       "  </thead>\n",
       "  <tbody>\n",
       "    <tr>\n",
       "      <th>0</th>\n",
       "      <td>18.898304</td>\n",
       "      <td>37.008719</td>\n",
       "    </tr>\n",
       "    <tr>\n",
       "      <th>1</th>\n",
       "      <td>30.221075</td>\n",
       "      <td>25.704397</td>\n",
       "    </tr>\n",
       "    <tr>\n",
       "      <th>2</th>\n",
       "      <td>29.045635</td>\n",
       "      <td>21.290934</td>\n",
       "    </tr>\n",
       "    <tr>\n",
       "      <th>3</th>\n",
       "      <td>22.492093</td>\n",
       "      <td>44.632454</td>\n",
       "    </tr>\n",
       "    <tr>\n",
       "      <th>4</th>\n",
       "      <td>35.109709</td>\n",
       "      <td>35.274087</td>\n",
       "    </tr>\n",
       "  </tbody>\n",
       "</table>\n",
       "</div>"
      ],
      "text/plain": [
       "           A          B\n",
       "0  18.898304  37.008719\n",
       "1  30.221075  25.704397\n",
       "2  29.045635  21.290934\n",
       "3  22.492093  44.632454\n",
       "4  35.109709  35.274087"
      ]
     },
     "execution_count": 204,
     "metadata": {},
     "output_type": "execute_result"
    }
   ],
   "source": [
    "AB_type1.head()"
   ]
  },
  {
   "cell_type": "markdown",
   "id": "31802f75-fb85-4177-a346-7ef73ff5a1d6",
   "metadata": {},
   "source": [
    "## DATA TYPE II"
   ]
  },
  {
   "cell_type": "code",
   "execution_count": 205,
   "id": "a433efe2-1baf-45cb-8e63-433c41941575",
   "metadata": {},
   "outputs": [],
   "source": [
    "# Group A"
   ]
  },
  {
   "cell_type": "code",
   "execution_count": 206,
   "id": "48baee11-0cfa-4e38-b3c8-280ff338d220",
   "metadata": {},
   "outputs": [],
   "source": [
    "GROUP_A = np.arange(len(A))\n",
    "GROUP_A = pd.DataFrame(GROUP_A)\n",
    "GROUP_A[:] = \"A\"\n",
    "A = pd.concat([A, GROUP_A], axis = 1)"
   ]
  },
  {
   "cell_type": "code",
   "execution_count": 207,
   "id": "6819e064-ddff-4d80-a162-52c1293681cc",
   "metadata": {},
   "outputs": [],
   "source": [
    "# Group B"
   ]
  },
  {
   "cell_type": "code",
   "execution_count": 208,
   "id": "2b6084ae-a802-4bdd-9c07-a61163bf3df3",
   "metadata": {},
   "outputs": [],
   "source": [
    "GROUP_B = np.arange(len(B))\n",
    "GROUP_B = pd.DataFrame(GROUP_B)\n",
    "GROUP_B[:] = \"B\"\n",
    "B = pd.concat([B, GROUP_B], axis = 1)"
   ]
  },
  {
   "cell_type": "code",
   "execution_count": 209,
   "id": "899c6a92-2fa4-4a5e-ba12-98c237e85d2d",
   "metadata": {},
   "outputs": [],
   "source": [
    "# Concat"
   ]
  },
  {
   "cell_type": "code",
   "execution_count": 210,
   "id": "1457ef28-26e8-48f0-9faf-86b7266deb38",
   "metadata": {},
   "outputs": [],
   "source": [
    "AB_type2 = pd.concat([A, B])\n",
    "AB_type2.columns = [\"incomes\", \"group\"]"
   ]
  },
  {
   "cell_type": "code",
   "execution_count": 211,
   "id": "050bd1bf-2ed9-41b0-a006-932f1b15642f",
   "metadata": {},
   "outputs": [],
   "source": [
    "import seaborn as sns"
   ]
  },
  {
   "cell_type": "code",
   "execution_count": 212,
   "id": "7d6cd80f-adb0-4a32-a2b5-9e54a7c1034d",
   "metadata": {},
   "outputs": [
    {
     "data": {
      "image/png": "[encoded data removed]",
      "text/plain": [
       "<Figure size 432x288 with 1 Axes>"
      ]
     },
     "metadata": {
      "needs_background": "light"
     },
     "output_type": "display_data"
    }
   ],
   "source": [
    "sns.boxplot(x = \"group\", y = \"incomes\", data = AB_type2);"
   ]
  },
  {
   "cell_type": "markdown",
   "id": "2af6a472-acee-464e-aba8-f650fa829804",
   "metadata": {},
   "source": [
    "## Assumption Control"
   ]
  },
  {
   "cell_type": "code",
   "execution_count": 213,
   "id": "99511b27-1161-444c-acd8-41a5790b77af",
   "metadata": {},
   "outputs": [
    {
     "data": {
      "text/html": [
       "<div>\n",
       "<style scoped>\n",
       "    .dataframe tbody tr th:only-of-type {\n",
       "        vertical-align: middle;\n",
       "    }\n",
       "\n",
       "    .dataframe tbody tr th {\n",
       "        vertical-align: top;\n",
       "    }\n",
       "\n",
       "    .dataframe thead th {\n",
       "        text-align: right;\n",
       "    }\n",
       "</style>\n",
       "<table border=\"1\" class=\"dataframe\">\n",
       "  <thead>\n",
       "    <tr style=\"text-align: right;\">\n",
       "      <th></th>\n",
       "      <th>A</th>\n",
       "      <th>B</th>\n",
       "    </tr>\n",
       "  </thead>\n",
       "  <tbody>\n",
       "    <tr>\n",
       "      <th>0</th>\n",
       "      <td>18.898304</td>\n",
       "      <td>37.008719</td>\n",
       "    </tr>\n",
       "    <tr>\n",
       "      <th>1</th>\n",
       "      <td>30.221075</td>\n",
       "      <td>25.704397</td>\n",
       "    </tr>\n",
       "    <tr>\n",
       "      <th>2</th>\n",
       "      <td>29.045635</td>\n",
       "      <td>21.290934</td>\n",
       "    </tr>\n",
       "    <tr>\n",
       "      <th>3</th>\n",
       "      <td>22.492093</td>\n",
       "      <td>44.632454</td>\n",
       "    </tr>\n",
       "    <tr>\n",
       "      <th>4</th>\n",
       "      <td>35.109709</td>\n",
       "      <td>35.274087</td>\n",
       "    </tr>\n",
       "  </tbody>\n",
       "</table>\n",
       "</div>"
      ],
      "text/plain": [
       "           A          B\n",
       "0  18.898304  37.008719\n",
       "1  30.221075  25.704397\n",
       "2  29.045635  21.290934\n",
       "3  22.492093  44.632454\n",
       "4  35.109709  35.274087"
      ]
     },
     "execution_count": 213,
     "metadata": {},
     "output_type": "execute_result"
    }
   ],
   "source": [
    "AB_type1.head()"
   ]
  },
  {
   "cell_type": "code",
   "execution_count": 214,
   "id": "f30d1026-ca2d-4557-b0b3-9ce1b26862d8",
   "metadata": {},
   "outputs": [
    {
     "data": {
      "text/html": [
       "<div>\n",
       "<style scoped>\n",
       "    .dataframe tbody tr th:only-of-type {\n",
       "        vertical-align: middle;\n",
       "    }\n",
       "\n",
       "    .dataframe tbody tr th {\n",
       "        vertical-align: top;\n",
       "    }\n",
       "\n",
       "    .dataframe thead th {\n",
       "        text-align: right;\n",
       "    }\n",
       "</style>\n",
       "<table border=\"1\" class=\"dataframe\">\n",
       "  <thead>\n",
       "    <tr style=\"text-align: right;\">\n",
       "      <th></th>\n",
       "      <th>incomes</th>\n",
       "      <th>group</th>\n",
       "    </tr>\n",
       "  </thead>\n",
       "  <tbody>\n",
       "    <tr>\n",
       "      <th>0</th>\n",
       "      <td>18.898304</td>\n",
       "      <td>A</td>\n",
       "    </tr>\n",
       "    <tr>\n",
       "      <th>1</th>\n",
       "      <td>30.221075</td>\n",
       "      <td>A</td>\n",
       "    </tr>\n",
       "    <tr>\n",
       "      <th>2</th>\n",
       "      <td>29.045635</td>\n",
       "      <td>A</td>\n",
       "    </tr>\n",
       "    <tr>\n",
       "      <th>3</th>\n",
       "      <td>22.492093</td>\n",
       "      <td>A</td>\n",
       "    </tr>\n",
       "    <tr>\n",
       "      <th>4</th>\n",
       "      <td>35.109709</td>\n",
       "      <td>A</td>\n",
       "    </tr>\n",
       "  </tbody>\n",
       "</table>\n",
       "</div>"
      ],
      "text/plain": [
       "     incomes group\n",
       "0  18.898304     A\n",
       "1  30.221075     A\n",
       "2  29.045635     A\n",
       "3  22.492093     A\n",
       "4  35.109709     A"
      ]
     },
     "execution_count": 214,
     "metadata": {},
     "output_type": "execute_result"
    }
   ],
   "source": [
    "AB_type2.head()"
   ]
  },
  {
   "cell_type": "code",
   "execution_count": 215,
   "id": "652816b3-ce23-4a12-a8e1-0d0785e1e7da",
   "metadata": {},
   "outputs": [],
   "source": [
    "import scipy.stats as stats"
   ]
  },
  {
   "cell_type": "markdown",
   "id": "f39d877b-8247-455f-9973-28be8b2e7460",
   "metadata": {},
   "source": [
    "### 1) Normality (Shapiro-Wilks Test) "
   ]
  },
  {
   "cell_type": "code",
   "execution_count": 216,
   "id": "1ef8d9d9-d8bb-4faa-9917-98f963d7cd2b",
   "metadata": {},
   "outputs": [
    {
     "data": {
      "text/plain": [
       "ShapiroResult(statistic=0.9694178700447083, pvalue=0.742533266544342)"
      ]
     },
     "execution_count": 216,
     "metadata": {},
     "output_type": "execute_result"
    }
   ],
   "source": [
    "stats.shapiro(AB_type1.A)"
   ]
  },
  {
   "cell_type": "markdown",
   "id": "583d9a1d-d51d-460c-a008-e1aa91ec213c",
   "metadata": {},
   "source": [
    "##### H0: There is no significance difference between sampling distribution and theoritical normal distribution"
   ]
  },
  {
   "cell_type": "markdown",
   "id": "08232d0c-3234-4460-ad12-7e030cba50b2",
   "metadata": {},
   "source": [
    "##### Found p-value is greater than alpha (0.05) so we cannot reject hypotheses H0 for group A"
   ]
  },
  {
   "cell_type": "code",
   "execution_count": 217,
   "id": "3fb8b48e-3c4b-40f8-acbb-b6dec963b8b3",
   "metadata": {},
   "outputs": [
    {
     "data": {
      "text/plain": [
       "ShapiroResult(statistic=0.9809114336967468, pvalue=0.9453173875808716)"
      ]
     },
     "execution_count": 217,
     "metadata": {},
     "output_type": "execute_result"
    }
   ],
   "source": [
    "stats.shapiro(AB_type1.B)"
   ]
  },
  {
   "cell_type": "markdown",
   "id": "0f44bf02-d454-4d15-9723-e64f19c815a8",
   "metadata": {},
   "source": [
    "##### H0: There is no significance difference between sampling distribution and theoritical normal distribution"
   ]
  },
  {
   "cell_type": "markdown",
   "id": "04bd030b-cabf-46b4-84fe-0d9c76bf067e",
   "metadata": {},
   "source": [
    "##### Found p-value is greater than alpha (0.05) so we cannot reject hypotheses H0 for group B"
   ]
  },
  {
   "cell_type": "markdown",
   "id": "7cdbe0e3-fe1c-4a9f-9c2e-aef136afe65b",
   "metadata": {},
   "source": [
    "### 2) Varient Homogeneity"
   ]
  },
  {
   "cell_type": "code",
   "execution_count": 218,
   "id": "877bb65e-c070-43ca-9bdf-64e165101f8d",
   "metadata": {},
   "outputs": [
    {
     "data": {
      "text/plain": [
       "LeveneResult(statistic=0.03118595099989241, pvalue=0.8607640205651684)"
      ]
     },
     "execution_count": 218,
     "metadata": {},
     "output_type": "execute_result"
    }
   ],
   "source": [
    "stats.levene(AB_type1.A, AB_type1.B)"
   ]
  },
  {
   "cell_type": "markdown",
   "id": "7ca66fc1-d0f8-4ee8-ab96-884c9cf0125e",
   "metadata": {},
   "source": [
    "##### H0: Varients are homogeneous"
   ]
  },
  {
   "cell_type": "markdown",
   "id": "c9ab6759-7751-4772-baed-c165d86b9417",
   "metadata": {},
   "source": [
    "##### Obtained pvalue is greater than alpha (0.05) so we can not reject hypotheses H0"
   ]
  },
  {
   "cell_type": "markdown",
   "id": "fa1defe6-28d5-47fc-9bc8-f7a5673c3ad4",
   "metadata": {},
   "source": [
    "## Application of Test"
   ]
  },
  {
   "cell_type": "code",
   "execution_count": 222,
   "id": "62904a55-4cca-45ae-bb0d-28c131a9fc23",
   "metadata": {},
   "outputs": [],
   "source": [
    "test_stats, pvalue = stats.ttest_ind(AB_type1.A, AB_type1.B, equal_var = True)"
   ]
  },
  {
   "cell_type": "code",
   "execution_count": 228,
   "id": "fa44d713-bc92-46d0-86ed-28e2fa06a8e2",
   "metadata": {},
   "outputs": [
    {
     "name": "stdout",
     "output_type": "stream",
     "text": [
      "Test Statistics: -4.199\n",
      "P-Value: 0.00016\n"
     ]
    }
   ],
   "source": [
    "print(f\"Test Statistics: {test_stats:.3f}\\nP-Value: {pvalue:.5f}\")"
   ]
  },
  {
   "cell_type": "markdown",
   "id": "557ae759-2474-4b8b-859c-986a704a2439",
   "metadata": {},
   "source": [
    "##### H0: Population means of group A and group B are equals eachother"
   ]
  },
  {
   "cell_type": "markdown",
   "id": "d6c1758a-a975-4c04-b861-f5f452a229d9",
   "metadata": {},
   "source": [
    "##### Found p-value is lower than alpha (0.05) so we can reject hypotheses H0"
   ]
  },
  {
   "cell_type": "code",
   "execution_count": null,
   "id": "71dfd364-48da-487c-88be-4240218b898f",
   "metadata": {},
   "outputs": [],
   "source": []
  }
 ],
 "metadata": {
  "kernelspec": {
   "display_name": "Python 3 (ipykernel)",
   "language": "python",
   "name": "python3"
  },
  "language_info": {
   "codemirror_mode": {
    "name": "ipython",
    "version": 3
   },
   "file_extension": ".py",
   "mimetype": "text/x-python",
   "name": "python",
   "nbconvert_exporter": "python",
   "pygments_lexer": "ipython3",
   "version": "3.9.7"
  }
 },
 "nbformat": 4,
 "nbformat_minor": 5
}
