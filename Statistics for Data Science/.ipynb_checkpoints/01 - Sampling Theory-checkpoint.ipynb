{
 "cells": [
  {
   "cell_type": "markdown",
   "id": "6fb96a0c-3829-4b33-9380-4c2d72645960",
   "metadata": {},
   "source": [
    "# Sampling Theory"
   ]
  },
  {
   "cell_type": "code",
   "execution_count": 1,
   "id": "0cab7536-5ec7-4561-9b9d-52cc90b15d7e",
   "metadata": {},
   "outputs": [],
   "source": [
    "import numpy as np"
   ]
  },
  {
   "cell_type": "code",
   "execution_count": 2,
   "id": "65ae6894-09cb-4e4e-96a8-ea56504694c0",
   "metadata": {},
   "outputs": [],
   "source": [
    "population = np.random.randint(0, 80, 10000)"
   ]
  },
  {
   "cell_type": "markdown",
   "id": "9832b031-18a0-42fc-ac10-dcec55c66b6e",
   "metadata": {},
   "source": [
    "### Getting samples"
   ]
  },
  {
   "cell_type": "code",
   "execution_count": 21,
   "id": "e1c26d42-3615-4d8c-814e-26dcac5943fa",
   "metadata": {},
   "outputs": [],
   "source": [
    "np.random.seed(115)\n",
    "sample = np.random.choice(a = population, size = 100)"
   ]
  },
  {
   "cell_type": "code",
   "execution_count": 22,
   "id": "532c85f3-1123-4274-9852-16a145b61ac3",
   "metadata": {},
   "outputs": [
    {
     "data": {
      "text/plain": [
       "array([76, 21, 73, 66, 24, 78, 39, 66, 70,  6, 60, 45, 28, 62, 30, 40, 43,\n",
       "       76, 23, 45, 47, 32, 21, 40, 47, 25, 33, 32,  5, 64, 29, 43, 31, 49,\n",
       "       43, 10, 14, 48, 63, 26, 62, 14, 76, 38, 66, 61, 77, 79, 18, 48, 55,\n",
       "       65, 21, 11,  0, 18, 46, 23, 17, 10, 74, 40, 30, 70, 36,  2, 49, 67,\n",
       "       50, 30, 15, 27, 23, 40, 14, 61,  1, 30, 78, 41, 23, 39,  9, 33, 78,\n",
       "       43, 67, 24,  0, 22, 50, 62, 14, 26, 40,  1, 52, 22, 30, 44])"
      ]
     },
     "execution_count": 22,
     "metadata": {},
     "output_type": "execute_result"
    }
   ],
   "source": [
    "sample"
   ]
  },
  {
   "cell_type": "code",
   "execution_count": 23,
   "id": "76e77663-a146-4337-aa8a-2c4dec2f1922",
   "metadata": {},
   "outputs": [
    {
     "data": {
      "text/plain": [
       "39.35"
      ]
     },
     "execution_count": 23,
     "metadata": {},
     "output_type": "execute_result"
    }
   ],
   "source": [
    "sample.mean()"
   ]
  },
  {
   "cell_type": "code",
   "execution_count": 24,
   "id": "9e45d194-6233-45d7-93e6-56e0008140f3",
   "metadata": {},
   "outputs": [
    {
     "data": {
      "text/plain": [
       "39.4151"
      ]
     },
     "execution_count": 24,
     "metadata": {},
     "output_type": "execute_result"
    }
   ],
   "source": [
    "population.mean()"
   ]
  },
  {
   "cell_type": "code",
   "execution_count": 25,
   "id": "a64de5a8-df02-4a70-a6e9-7ea7893a35af",
   "metadata": {},
   "outputs": [
    {
     "data": {
      "text/plain": [
       "21.89354927826916"
      ]
     },
     "execution_count": 25,
     "metadata": {},
     "output_type": "execute_result"
    }
   ],
   "source": [
    "sample.std()"
   ]
  },
  {
   "cell_type": "code",
   "execution_count": 26,
   "id": "5a833615-4ff0-4592-af17-00bdde2590aa",
   "metadata": {},
   "outputs": [
    {
     "data": {
      "text/plain": [
       "23.00587298908694"
      ]
     },
     "execution_count": 26,
     "metadata": {},
     "output_type": "execute_result"
    }
   ],
   "source": [
    "population.std()"
   ]
  },
  {
   "cell_type": "markdown",
   "id": "2a31ee8f-7778-40ea-9935-4c05f4ba0c25",
   "metadata": {},
   "source": [
    "#### Sample dispersion"
   ]
  },
  {
   "cell_type": "code",
   "execution_count": null,
   "id": "2703e2a7-1d30-48ac-ad9b-5232802a5b75",
   "metadata": {},
   "outputs": [],
   "source": [
    "np.random.seed(115)\n",
    "sample1 = np.random.choice(a = population, size = 100)\n",
    "sample2 = np.random.choice(a = population, size = 100)\n",
    "sample3 = np.random.choice(a = population, size = 100)\n",
    "sample4 = np.random.choice(a = population, size = 100)\n",
    "sample5 = np.random.choice(a = population, size = 100)\n",
    "sample6 = np.random.choice(a = population, size = 100)"
   ]
  }
 ],
 "metadata": {
  "kernelspec": {
   "display_name": "Python 3 (ipykernel)",
   "language": "python",
   "name": "python3"
  },
  "language_info": {
   "codemirror_mode": {
    "name": "ipython",
    "version": 3
   },
   "file_extension": ".py",
   "mimetype": "text/x-python",
   "name": "python",
   "nbconvert_exporter": "python",
   "pygments_lexer": "ipython3",
   "version": "3.9.7"
  }
 },
 "nbformat": 4,
 "nbformat_minor": 5
}
