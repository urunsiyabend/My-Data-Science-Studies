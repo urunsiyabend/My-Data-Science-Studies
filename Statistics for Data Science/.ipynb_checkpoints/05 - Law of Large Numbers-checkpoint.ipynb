{
 "cells": [
  {
   "cell_type": "markdown",
   "id": "d64dfecb-573e-48f1-acc8-33ea8b3142fd",
   "metadata": {},
   "source": [
    "# Law of Large Numbers"
   ]
  },
  {
   "cell_type": "markdown",
   "id": "9a55a210-498a-4f05-8414-47d141097f46",
   "metadata": {},
   "source": [
    "#### It is the probability theorem that defines the long term stability of a random variable."
   ]
  },
  {
   "cell_type": "code",
   "execution_count": 12,
   "id": "12dc816b-d59b-4ded-99a8-62d157ea1880",
   "metadata": {},
   "outputs": [
    {
     "name": "stdout",
     "output_type": "stream",
     "text": [
      "Count of experiments: 2 --- Tail Probability: % 0.50\n",
      "Count of experiments: 4 --- Tail Probability: % 0.00\n",
      "Count of experiments: 8 --- Tail Probability: % 0.62\n",
      "Count of experiments: 16 --- Tail Probability: % 0.44\n",
      "Count of experiments: 32 --- Tail Probability: % 0.47\n",
      "Count of experiments: 64 --- Tail Probability: % 0.56\n",
      "Count of experiments: 128 --- Tail Probability: % 0.51\n",
      "Count of experiments: 256 --- Tail Probability: % 0.53\n",
      "Count of experiments: 512 --- Tail Probability: % 0.53\n",
      "Count of experiments: 1024 --- Tail Probability: % 0.50\n",
      "Count of experiments: 2048 --- Tail Probability: % 0.49\n",
      "Count of experiments: 4096 --- Tail Probability: % 0.49\n",
      "Count of experiments: 8192 --- Tail Probability: % 0.50\n",
      "Count of experiments: 16384 --- Tail Probability: % 0.50\n",
      "Count of experiments: 32768 --- Tail Probability: % 0.50\n",
      "Count of experiments: 65536 --- Tail Probability: % 0.50\n",
      "Count of experiments: 131072 --- Tail Probability: % 0.50\n",
      "Count of experiments: 262144 --- Tail Probability: % 0.50\n",
      "Count of experiments: 524288 --- Tail Probability: % 0.50\n",
      "Count of experiments: 1048576 --- Tail Probability: % 0.50\n"
     ]
    }
   ],
   "source": [
    "import numpy as np\n",
    "rng = np.random.RandomState(123)\n",
    "for i in range(1, 21):\n",
    "    exp_count = 2**i\n",
    "    heads_or_tails = rng.randint(0, 2, size = exp_count)\n",
    "    tail_prob = np.mean(heads_or_tails)\n",
    "    print(f\"Count of experiments: {exp_count} --- Tail Probability: % {tail_prob:.2f}\")"
   ]
  },
  {
   "cell_type": "code",
   "execution_count": null,
   "id": "1dfa9742-6662-4485-a962-39b6cd54e4ec",
   "metadata": {},
   "outputs": [],
   "source": []
  }
 ],
 "metadata": {
  "kernelspec": {
   "display_name": "Python 3 (ipykernel)",
   "language": "python",
   "name": "python3"
  },
  "language_info": {
   "codemirror_mode": {
    "name": "ipython",
    "version": 3
   },
   "file_extension": ".py",
   "mimetype": "text/x-python",
   "name": "python",
   "nbconvert_exporter": "python",
   "pygments_lexer": "ipython3",
   "version": "3.9.7"
  }
 },
 "nbformat": 4,
 "nbformat_minor": 5
}
