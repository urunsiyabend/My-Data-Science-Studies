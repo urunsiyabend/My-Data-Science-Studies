{
 "cells": [
  {
   "cell_type": "markdown",
   "id": "02f3a852-5d28-4d9e-93a3-05b83a7de4af",
   "metadata": {},
   "source": [
    "# Nonparametric Single Sample Test"
   ]
  },
  {
   "cell_type": "code",
   "execution_count": 4,
   "id": "5f14aeab-859b-4cfe-ad7f-838c055176bd",
   "metadata": {},
   "outputs": [],
   "source": [
    "from statsmodels.stats.descriptivestats import sign_test\n",
    "import numpy as np"
   ]
  },
  {
   "cell_type": "code",
   "execution_count": 8,
   "id": "7b2a2535-08f1-4f49-a128-71ddb09b8232",
   "metadata": {},
   "outputs": [],
   "source": [
    "measurements = np.random.normal(154, 20, size = (1, 50))[0]"
   ]
  },
  {
   "cell_type": "code",
   "execution_count": 9,
   "id": "5dd22e53-1694-4efa-adb5-306f8e3a95a2",
   "metadata": {},
   "outputs": [
    {
     "data": {
      "text/plain": [
       "array([132.01698094, 154.1797991 , 189.04091534, 159.75775369,\n",
       "       134.47992307, 116.57278073, 150.7025189 , 171.24802312,\n",
       "       173.78754574, 165.35575371, 162.86565336, 183.20459225,\n",
       "       154.60306451, 174.87254138, 151.42006273, 144.25961781,\n",
       "       124.04132557, 183.73133306, 158.02478303, 149.33178437,\n",
       "       140.56666087, 139.64157698, 169.30858567, 118.8735151 ,\n",
       "       157.91569328, 128.72270539, 163.95681546, 111.41785148,\n",
       "       168.35657088, 157.84374127, 184.63866463, 162.03483701,\n",
       "       132.92065654, 168.36356332, 162.58568448, 130.62312992,\n",
       "       149.93900454, 113.71483896, 146.97956826, 139.12990413,\n",
       "       171.48728278, 165.13503382, 147.59593376, 157.32442325,\n",
       "       152.68736269, 172.19568806, 134.93861896, 119.61004361,\n",
       "       207.51696185, 186.20883822])"
      ]
     },
     "execution_count": 9,
     "metadata": {},
     "output_type": "execute_result"
    }
   ],
   "source": [
    "measurements"
   ]
  },
  {
   "cell_type": "code",
   "execution_count": null,
   "id": "89470e0d-6fc6-4601-ba82-dadc21bbbf82",
   "metadata": {},
   "outputs": [],
   "source": []
  }
 ],
 "metadata": {
  "kernelspec": {
   "display_name": "Python 3 (ipykernel)",
   "language": "python",
   "name": "python3"
  },
  "language_info": {
   "codemirror_mode": {
    "name": "ipython",
    "version": 3
   },
   "file_extension": ".py",
   "mimetype": "text/x-python",
   "name": "python",
   "nbconvert_exporter": "python",
   "pygments_lexer": "ipython3",
   "version": "3.9.7"
  }
 },
 "nbformat": 4,
 "nbformat_minor": 5
}
