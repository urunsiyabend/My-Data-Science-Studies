{
 "cells": [
  {
   "cell_type": "markdown",
   "id": "02f3a852-5d28-4d9e-93a3-05b83a7de4af",
   "metadata": {},
   "source": [
    "# Nonparametric Single Sample Test"
   ]
  },
  {
   "cell_type": "code",
   "execution_count": 18,
   "id": "5f14aeab-859b-4cfe-ad7f-838c055176bd",
   "metadata": {},
   "outputs": [],
   "source": [
    "from statsmodels.stats.descriptivestats import sign_test\n",
    "import numpy as np"
   ]
  },
  {
   "cell_type": "code",
   "execution_count": 35,
   "id": "7b2a2535-08f1-4f49-a128-71ddb09b8232",
   "metadata": {},
   "outputs": [],
   "source": [
    "measurements = np.random.normal(154, 20, size = (1, 50))[0]"
   ]
  },
  {
   "cell_type": "code",
   "execution_count": 36,
   "id": "5dd22e53-1694-4efa-adb5-306f8e3a95a2",
   "metadata": {},
   "outputs": [
    {
     "data": {
      "text/plain": [
       "array([135.02269811, 176.36175568, 154.84917538, 173.62143463,\n",
       "       164.48535072, 140.83212393, 157.92628355, 133.62697677,\n",
       "       190.52229759, 163.41038454, 183.32819682, 183.55521182,\n",
       "       155.35330084, 182.18623808, 161.27811872, 162.83922457,\n",
       "       177.14632587, 148.62949754, 174.86428188, 147.18667973,\n",
       "       170.91966275, 179.4855487 , 161.79131256, 193.61820589,\n",
       "       120.71006558, 162.01748518, 181.37744736, 161.30620331,\n",
       "       189.30707955, 144.9692104 , 171.13979624, 148.69529068,\n",
       "       180.5771908 , 152.00042187, 166.38969745, 163.49673338,\n",
       "       145.9276125 , 187.94026199, 121.4640425 , 161.40157116,\n",
       "       145.48311996, 189.74534029, 148.92053057, 132.68294043,\n",
       "       146.98227855, 186.2515939 , 175.60281121, 140.27378432,\n",
       "       172.20376972, 150.1475643 ])"
      ]
     },
     "execution_count": 36,
     "metadata": {},
     "output_type": "execute_result"
    }
   ],
   "source": [
    "measurements"
   ]
  },
  {
   "cell_type": "code",
   "execution_count": 37,
   "id": "89470e0d-6fc6-4601-ba82-dadc21bbbf82",
   "metadata": {},
   "outputs": [],
   "source": [
    "import scipy.stats as stats"
   ]
  },
  {
   "cell_type": "code",
   "execution_count": 38,
   "id": "6325139a-b068-49c1-863f-9aa906999ea4",
   "metadata": {},
   "outputs": [
    {
     "data": {
      "text/plain": [
       "DescribeResult(nobs=50, minmax=(120.71006557945047, 193.61820589052988), mean=162.39708259736352, variance=346.14834092274015, skewness=-0.27116299615571915, kurtosis=-0.6941601992773703)"
      ]
     },
     "execution_count": 38,
     "metadata": {},
     "output_type": "execute_result"
    }
   ],
   "source": [
    "stats.describe(measurements)"
   ]
  },
  {
   "cell_type": "code",
   "execution_count": 39,
   "id": "bbe74cec-4a2f-49bb-acce-1ff843977a6f",
   "metadata": {},
   "outputs": [
    {
     "data": {
      "text/plain": [
       "(-5.0, 0.20263875106454066)"
      ]
     },
     "execution_count": 39,
     "metadata": {},
     "output_type": "execute_result"
    }
   ],
   "source": [
    "sign_test(measurements, 170)"
   ]
  }
 ],
 "metadata": {
  "kernelspec": {
   "display_name": "Python 3 (ipykernel)",
   "language": "python",
   "name": "python3"
  },
  "language_info": {
   "codemirror_mode": {
    "name": "ipython",
    "version": 3
   },
   "file_extension": ".py",
   "mimetype": "text/x-python",
   "name": "python",
   "nbconvert_exporter": "python",
   "pygments_lexer": "ipython3",
   "version": "3.9.7"
  }
 },
 "nbformat": 4,
 "nbformat_minor": 5
}
