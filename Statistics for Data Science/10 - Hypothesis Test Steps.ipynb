{
 "cells": [
  {
   "cell_type": "markdown",
   "id": "dfb5bfbc-84a2-4b3c-9ae5-76163d5e5f33",
   "metadata": {},
   "source": [
    "# Hypothesis Test Steps"
   ]
  },
  {
   "cell_type": "markdown",
   "id": "1965a67f-5c4d-4597-abcd-f368c1759c23",
   "metadata": {},
   "source": [
    "**Step 1**: Hypothesizing and determining directions\n",
    "\n",
    "**Step 2**: Specifing significance level and table value\n",
    "\n",
    "**Step 3**: Specifing and calculating test statistic\n",
    "\n",
    "**Step 4**: Comparing calculated test statistic and table value that equaled to alpha\n",
    "\n",
    "If Test statistic (Zh) > Table Value <Zt>, then reject H0 \n",
    "    \n",
    "**Step 5**: Interpretation"
   ]
  },
  {
   "cell_type": "code",
   "execution_count": null,
   "id": "09ecf6c5-c0cb-4366-a160-3427994fe2e3",
   "metadata": {},
   "outputs": [],
   "source": []
  }
 ],
 "metadata": {
  "kernelspec": {
   "display_name": "Python 3 (ipykernel)",
   "language": "python",
   "name": "python3"
  },
  "language_info": {
   "codemirror_mode": {
    "name": "ipython",
    "version": 3
   },
   "file_extension": ".py",
   "mimetype": "text/x-python",
   "name": "python",
   "nbconvert_exporter": "python",
   "pygments_lexer": "ipython3",
   "version": "3.9.7"
  }
 },
 "nbformat": 4,
 "nbformat_minor": 5
}
