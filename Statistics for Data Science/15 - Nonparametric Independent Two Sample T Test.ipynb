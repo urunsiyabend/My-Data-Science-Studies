{
 "cells": [
  {
   "cell_type": "markdown",
   "id": "5b41e51e-43ec-46eb-a167-014420d7c3e8",
   "metadata": {},
   "source": [
    "# Nonparametric Independent Two Sample T Test"
   ]
  },
  {
   "cell_type": "code",
   "execution_count": 7,
   "id": "ec7befc2-6a87-4ef0-9db5-589c1c032dc0",
   "metadata": {},
   "outputs": [],
   "source": [
    "from scipy import stats"
   ]
  },
  {
   "cell_type": "code",
   "execution_count": null,
   "id": "5543cb9c-1857-43ea-9f86-06038fca9cb3",
   "metadata": {},
   "outputs": [],
   "source": [
    "stats.mannwhitneyu()"
   ]
  }
 ],
 "metadata": {
  "kernelspec": {
   "display_name": "Python 3 (ipykernel)",
   "language": "python",
   "name": "python3"
  },
  "language_info": {
   "codemirror_mode": {
    "name": "ipython",
    "version": 3
   },
   "file_extension": ".py",
   "mimetype": "text/x-python",
   "name": "python",
   "nbconvert_exporter": "python",
   "pygments_lexer": "ipython3",
   "version": "3.9.7"
  }
 },
 "nbformat": 4,
 "nbformat_minor": 5
}
