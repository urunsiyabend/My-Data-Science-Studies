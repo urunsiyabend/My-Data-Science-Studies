{
 "cells": [
  {
   "cell_type": "markdown",
   "id": "6f0eff01-d6e4-4c2b-8be3-8c71760a7fe0",
   "metadata": {},
   "source": [
    "# Varient Analysis"
   ]
  },
  {
   "cell_type": "code",
   "execution_count": null,
   "id": "bd257646-d3de-4cb9-b7df-fa284e21cf63",
   "metadata": {},
   "outputs": [],
   "source": [
    "It is a method that used when it is desired to test if there is a significant difference between two or more samples"
   ]
  }
 ],
 "metadata": {
  "kernelspec": {
   "display_name": "Python 3 (ipykernel)",
   "language": "python",
   "name": "python3"
  },
  "language_info": {
   "codemirror_mode": {
    "name": "ipython",
    "version": 3
   },
   "file_extension": ".py",
   "mimetype": "text/x-python",
   "name": "python",
   "nbconvert_exporter": "python",
   "pygments_lexer": "ipython3",
   "version": "3.9.7"
  }
 },
 "nbformat": 4,
 "nbformat_minor": 5
}
